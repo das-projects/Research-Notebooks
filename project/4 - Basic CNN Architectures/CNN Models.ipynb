{
 "cells": [
  {
   "cell_type": "markdown",
   "metadata": {},
   "source": [
    "# CNN Models: Inception, ResNet and DenseNet\n"
   ]
  },
  {
   "cell_type": "markdown",
   "metadata": {},
   "source": [
    "In this tutorial, we will implement and discuss variants of modern CNN architectures. There have been many different architectures been proposed over the past few years. Some of the most impactful ones, and still relevant today, are the following: [GoogleNet](https://arxiv.org/abs/1409.4842)/Inception architecture (winner of ILSVRC 2014), [ResNet](https://arxiv.org/abs/1512.03385) (winner of ILSVRC 2015), and [DenseNet](https://arxiv.org/abs/1608.06993) (best paper award CVPR 2017). All of them were state-of-the-art models when being proposed, and the core ideas of these networks are the foundations for most current state-of-the-art architectures. Thus, it is important to understand these architectures in detail and learn how to implement them. \n",
    "\n",
    "Let's start with importing our standard libraries here."
   ]
  },
  {
   "cell_type": "code",
   "execution_count": 1,
   "metadata": {},
   "outputs": [],
   "source": [
    "## Standard libraries\n",
    "import os\n",
    "import numpy as np \n",
    "import random\n",
    "from PIL import Image\n",
    "from types import SimpleNamespace\n",
    "\n",
    "## Imports for plotting\n",
    "import matplotlib.pyplot as plt\n",
    "%matplotlib inline \n",
    "import matplotlib_inline.backend_inline\n",
    "matplotlib_inline.backend_inline.set_matplotlib_formats('svg', 'pdf') # For export\n",
    "import matplotlib\n",
    "matplotlib.rcParams['lines.linewidth'] = 2.0\n",
    "import seaborn as sns\n",
    "sns.reset_orig()\n",
    "\n",
    "## PyTorch\n",
    "import torch\n",
    "import torch.nn as nn\n",
    "import torch.utils.data as data\n",
    "import torch.optim as optim\n",
    "# Torchvision\n",
    "import torchvision\n",
    "from torchvision.datasets import CIFAR10\n",
    "from torchvision import transforms"
   ]
  },
  {
   "cell_type": "markdown",
   "metadata": {},
   "source": [
    "We will use the same `set_seed` function as in the previous tutorials, as well as the path variables `DATASET_PATH` and `CHECKPOINT_PATH`. Adjust the paths if necessary."
   ]
  },
  {
   "cell_type": "code",
   "execution_count": 2,
   "metadata": {},
   "outputs": [],
   "source": [
    "# Path to the folder where the datasets are/should be downloaded (e.g. CIFAR10)\n",
    "DATASET_PATH = \"../data\"\n",
    "# Path to the folder where the pretrained models are saved\n",
    "CHECKPOINT_PATH = \"../saved_models/tutorial5\"\n",
    "\n",
    "# Function for setting the seed\n",
    "def set_seed(seed):\n",
    "    random.seed(seed)\n",
    "    np.random.seed(seed)\n",
    "    torch.manual_seed(seed)\n",
    "    if torch.cuda.is_available():\n",
    "        torch.cuda.manual_seed(seed)\n",
    "        torch.cuda.manual_seed_all(seed)\n",
    "set_seed(42)\n",
    "\n",
    "# Ensure that all operations are deterministic on GPU (if used) for reproducibility\n",
    "torch.backends.cudnn.determinstic = True\n",
    "torch.backends.cudnn.benchmark = False\n",
    "\n",
    "device = torch.device(\"cuda:0\") if torch.cuda.is_available() else torch.device(\"cpu\")"
   ]
  },
  {
   "cell_type": "markdown",
   "metadata": {},
   "source": [
    "We also have pretrained models and Tensorboards (more on this later) for this tutorial, and download them below."
   ]
  },
  {
   "cell_type": "code",
   "execution_count": 3,
   "metadata": {},
   "outputs": [
    {
     "name": "stdout",
     "output_type": "stream",
     "text": [
      "Downloading https://raw.githubusercontent.com/phlippe/saved_models/main/tutorial5/GoogleNet.ckpt...\n",
      "Downloading https://raw.githubusercontent.com/phlippe/saved_models/main/tutorial5/ResNet.ckpt...\n",
      "Downloading https://raw.githubusercontent.com/phlippe/saved_models/main/tutorial5/ResNetPreAct.ckpt...\n",
      "Downloading https://raw.githubusercontent.com/phlippe/saved_models/main/tutorial5/DenseNet.ckpt...\n",
      "Downloading https://raw.githubusercontent.com/phlippe/saved_models/main/tutorial5/tensorboards/GoogleNet/events.out.tfevents.googlenet...\n",
      "Downloading https://raw.githubusercontent.com/phlippe/saved_models/main/tutorial5/tensorboards/ResNet/events.out.tfevents.resnet...\n",
      "Downloading https://raw.githubusercontent.com/phlippe/saved_models/main/tutorial5/tensorboards/ResNetPreAct/events.out.tfevents.resnetpreact...\n",
      "Downloading https://raw.githubusercontent.com/phlippe/saved_models/main/tutorial5/tensorboards/DenseNet/events.out.tfevents.densenet...\n"
     ]
    }
   ],
   "source": [
    "import urllib.request\n",
    "from urllib.error import HTTPError\n",
    "# Github URL where saved models are stored for this tutorial\n",
    "base_url = \"https://raw.githubusercontent.com/phlippe/saved_models/main/tutorial5/\"\n",
    "# Files to download\n",
    "pretrained_files = [\"GoogleNet.ckpt\", \"ResNet.ckpt\", \"ResNetPreAct.ckpt\", \"DenseNet.ckpt\",\n",
    "                    \"tensorboards/GoogleNet/events.out.tfevents.googlenet\",\n",
    "                    \"tensorboards/ResNet/events.out.tfevents.resnet\",\n",
    "                    \"tensorboards/ResNetPreAct/events.out.tfevents.resnetpreact\",\n",
    "                    \"tensorboards/DenseNet/events.out.tfevents.densenet\"]\n",
    "# Create checkpoint path if it doesn't exist yet\n",
    "os.makedirs(CHECKPOINT_PATH, exist_ok=True)\n",
    "\n",
    "# For each file, check whether it already exists. If not, try downloading it.\n",
    "for file_name in pretrained_files:\n",
    "    file_path = os.path.join(CHECKPOINT_PATH, file_name)\n",
    "    if \"/\" in file_name:\n",
    "        os.makedirs(file_path.rsplit(\"/\",1)[0], exist_ok=True)\n",
    "    if not os.path.isfile(file_path):\n",
    "        file_url = base_url + file_name\n",
    "        print(f\"Downloading {file_url}...\")\n",
    "        try:\n",
    "            urllib.request.urlretrieve(file_url, file_path)\n",
    "        except HTTPError as e:\n",
    "            print(\"Something went wrong. Please try to download the file from the GDrive folder, or contact the author with the full output including the following error:\\n\", e)"
   ]
  },
  {
   "cell_type": "markdown",
   "metadata": {},
   "source": [
    "Throughout this tutorial, we will train and evaluate the models on the CIFAR10 dataset. This allows you to compare the results obtained here with the model you have implemented in the first assignment. As we have learned from the previous tutorial about initialization, it is important to have the data preprocessed with a zero mean. Therefore, as a first step, we will calculate the mean and standard deviation of the CIFAR dataset:"
   ]
  },
  {
   "cell_type": "code",
   "execution_count": 4,
   "metadata": {},
   "outputs": [
    {
     "name": "stdout",
     "output_type": "stream",
     "text": [
      "Downloading https://www.cs.toronto.edu/~kriz/cifar-10-python.tar.gz to ../data/cifar-10-python.tar.gz\n"
     ]
    },
    {
     "data": {
      "application/vnd.jupyter.widget-view+json": {
       "model_id": "df2c8ff57867461bad6744dad851df1b",
       "version_major": 2,
       "version_minor": 0
      },
      "text/plain": [
       "  0%|          | 0/170498071 [00:00<?, ?it/s]"
      ]
     },
     "metadata": {},
     "output_type": "display_data"
    },
    {
     "name": "stdout",
     "output_type": "stream",
     "text": [
      "Extracting ../data/cifar-10-python.tar.gz to ../data\n",
      "Data mean [0.49139968 0.48215841 0.44653091]\n",
      "Data std [0.24703223 0.24348513 0.26158784]\n"
     ]
    }
   ],
   "source": [
    "train_dataset = CIFAR10(root=DATASET_PATH, train=True, download=True)\n",
    "DATA_MEANS = (train_dataset.data / 255.0).mean(axis=(0,1,2))\n",
    "DATA_STD = (train_dataset.data / 255.0).std(axis=(0,1,2))\n",
    "print(\"Data mean\", DATA_MEANS)\n",
    "print(\"Data std\", DATA_STD)"
   ]
  },
  {
   "cell_type": "markdown",
   "metadata": {},
   "source": [
    "We will use this information to define a `transforms.Normalize` module which will normalize our data accordingly. Additionally, we will use data augmentation during training. This reduces the risk of overfitting and helps CNNs to generalize better. Specifically, we will apply two random augmentations. \n",
    "\n",
    "First, we will flip each image horizontally by a chance of 50% (`transforms.RandomHorizontalFlip`). The object class usually does not change when flipping an image, and we don't expect any image information to be dependent on the horizontal orientation. This would be however different if we would try to detect digits or letters in an image, as those have a certain orientation.\n",
    "\n",
    "The second augmentation we use is called `transforms.RandomResizedCrop`. This transformation scales the image in a small range, while eventually changing the aspect ratio, and crops it afterward in the previous size. Therefore, the actual pixel values change while the content or overall semantics of the image stays the same. \n",
    "\n",
    "We will randomly split the training dataset into a training and a validation set. The validation set will be used for determining early stopping. After finishing the training, we test the models on the CIFAR test set."
   ]
  },
  {
   "cell_type": "code",
   "execution_count": 5,
   "metadata": {},
   "outputs": [
    {
     "name": "stdout",
     "output_type": "stream",
     "text": [
      "Files already downloaded and verified\n",
      "Files already downloaded and verified\n",
      "Files already downloaded and verified\n"
     ]
    }
   ],
   "source": [
    "test_transform = transforms.Compose([transforms.ToTensor(),\n",
    "                                     transforms.Normalize(DATA_MEANS, DATA_STD)\n",
    "                                     ])\n",
    "# For training, we add some augmentation. Networks are too powerful and would overfit.\n",
    "train_transform = transforms.Compose([transforms.RandomHorizontalFlip(),\n",
    "                                      transforms.RandomResizedCrop((32,32),scale=(0.8,1.0),ratio=(0.9,1.1)),\n",
    "                                      transforms.ToTensor(),\n",
    "                                      transforms.Normalize(DATA_MEANS, DATA_STD)\n",
    "                                     ])\n",
    "# Loading the training dataset. We need to split it into a training and validation part\n",
    "# We need to do a little trick because the validation set should not use the augmentation.\n",
    "train_dataset = CIFAR10(root=DATASET_PATH, train=True, transform=train_transform, download=True)\n",
    "val_dataset = CIFAR10(root=DATASET_PATH, train=True, transform=test_transform, download=True)\n",
    "set_seed(42)\n",
    "train_set, _ = torch.utils.data.random_split(train_dataset, [45000, 5000])\n",
    "set_seed(42)\n",
    "_, val_set = torch.utils.data.random_split(val_dataset, [45000, 5000])\n",
    "\n",
    "# Loading the test set\n",
    "test_set = CIFAR10(root=DATASET_PATH, train=False, transform=test_transform, download=True)\n",
    "\n",
    "# We define a set of data loaders that we can use for various purposes later.\n",
    "train_loader = data.DataLoader(train_set, batch_size=128, shuffle=True, drop_last=True, pin_memory=True, num_workers=4)\n",
    "val_loader = data.DataLoader(val_set, batch_size=128, shuffle=False, drop_last=False, num_workers=4)\n",
    "test_loader = data.DataLoader(test_set, batch_size=128, shuffle=False, drop_last=False, num_workers=4)"
   ]
  },
  {
   "cell_type": "markdown",
   "metadata": {},
   "source": [
    "To verify that our normalization works, we can print out the mean and standard deviation of the single batch. The mean should be close to 0 and the standard deviation close to 1 for each channel:"
   ]
  },
  {
   "cell_type": "code",
   "execution_count": 6,
   "metadata": {},
   "outputs": [
    {
     "name": "stdout",
     "output_type": "stream",
     "text": [
      "Batch mean tensor([0.0231, 0.0006, 0.0005])\n",
      "Batch std tensor([0.9865, 0.9849, 0.9868])\n"
     ]
    }
   ],
   "source": [
    "imgs, _ = next(iter(train_loader))\n",
    "print(\"Batch mean\", imgs.mean(dim=[0,2,3]))\n",
    "print(\"Batch std\", imgs.std(dim=[0,2,3]))"
   ]
  },
  {
   "cell_type": "markdown",
   "metadata": {},
   "source": [
    "Finally, let's visualize a few images from the training set, and how they look like after random data augmentation: "
   ]
  },
  {
   "cell_type": "code",
   "execution_count": 7,
   "metadata": {},
   "outputs": [
    {
     "data": {
      "application/pdf": "[encoded data removed]",
      "image/svg+xml": [
       "<?xml version=\"1.0\" encoding=\"utf-8\" standalone=\"no\"?>\n",
       "<!DOCTYPE svg PUBLIC \"-//W3C//DTD SVG 1.1//EN\"\n",
       "  \"http://www.w3.org/Graphics/SVG/1.1/DTD/svg11.dtd\">\n",
       "<svg height=\"255.952908pt\" version=\"1.1\" viewBox=\"0 0 460.8 255.952908\" width=\"460.8pt\" xmlns=\"http://www.w3.org/2000/svg\" xmlns:xlink=\"http://www.w3.org/1999/xlink\">\n",
       " <metadata>\n",
       "  <rdf:RDF xmlns:cc=\"http://creativecommons.org/ns#\" xmlns:dc=\"http://purl.org/dc/elements/1.1/\" xmlns:rdf=\"http://www.w3.org/1999/02/22-rdf-syntax-ns#\">\n",
       "   <cc:Work>\n",
       "    <dc:type rdf:resource=\"http://purl.org/dc/dcmitype/StillImage\"/>\n",
       "    <dc:date>2022-01-10T15:41:25.159854</dc:date>\n",
       "    <dc:format>image/svg+xml</dc:format>\n",
       "    <dc:creator>\n",
       "     <cc:Agent>\n",
       "      <dc:title>Matplotlib v3.4.2, https://matplotlib.org/</dc:title>\n",
       "     </cc:Agent>\n",
       "    </dc:creator>\n",
       "   </cc:Work>\n",
       "  </rdf:RDF>\n",
       " </metadata>\n",
       " <defs>\n",
       "  <style type=\"text/css\">*{stroke-linecap:butt;stroke-linejoin:round;}</style>\n",
       " </defs>\n",
       " <g id=\"figure_1\">\n",
       "  <g id=\"patch_1\">\n",
       "   <path d=\"M 0 255.952908 \n",
       "L 460.8 255.952908 \n",
       "L 460.8 0 \n",
       "L 0 0 \n",
       "z\n",
       "\" style=\"fill:none;\"/>\n",
       "  </g>\n",
       "  <g id=\"axes_1\">\n",
       "   <g clip-path=\"url(#p178eb70982)\">\n",
       "    <image height=\"227\" id=\"image15477e97f2\" transform=\"scale(1 -1)translate(0 -227)\" width=\"447\" x=\"7.2\" xlink:href=\"data:image/png;base64,\n",
       "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\" y=\"-21.752908\"/>\n",
       "   </g>\n",
       "   <g id=\"text_1\">\n",
       "    <!-- Augmentation examples on CIFAR10 -->\n",
       "    <g transform=\"translate(120.904687 16.318125)scale(0.12 -0.12)\">\n",
       "     <defs>\n",
       "      <path d=\"M 2188 4044 \n",
       "L 1331 1722 \n",
       "L 3047 1722 \n",
       "L 2188 4044 \n",
       "z\n",
       "M 1831 4666 \n",
       "L 2547 4666 \n",
       "L 4325 0 \n",
       "L 3669 0 \n",
       "L 3244 1197 \n",
       "L 1141 1197 \n",
       "L 716 0 \n",
       "L 50 0 \n",
       "L 1831 4666 \n",
       "z\n",
       "\" id=\"DejaVuSans-41\" transform=\"scale(0.015625)\"/>\n",
       "      <path d=\"M 544 1381 \n",
       "L 544 3500 \n",
       "L 1119 3500 \n",
       "L 1119 1403 \n",
       "Q 1119 906 1312 657 \n",
       "Q 1506 409 1894 409 \n",
       "Q 2359 409 2629 706 \n",
       "Q 2900 1003 2900 1516 \n",
       "L 2900 3500 \n",
       "L 3475 3500 \n",
       "L 3475 0 \n",
       "L 2900 0 \n",
       "L 2900 538 \n",
       "Q 2691 219 2414 64 \n",
       "Q 2138 -91 1772 -91 \n",
       "Q 1169 -91 856 284 \n",
       "Q 544 659 544 1381 \n",
       "z\n",
       "M 1991 3584 \n",
       "L 1991 3584 \n",
       "z\n",
       "\" id=\"DejaVuSans-75\" transform=\"scale(0.015625)\"/>\n",
       "      <path d=\"M 2906 1791 \n",
       "Q 2906 2416 2648 2759 \n",
       "Q 2391 3103 1925 3103 \n",
       "Q 1463 3103 1205 2759 \n",
       "Q 947 2416 947 1791 \n",
       "Q 947 1169 1205 825 \n",
       "Q 1463 481 1925 481 \n",
       "Q 2391 481 2648 825 \n",
       "Q 2906 1169 2906 1791 \n",
       "z\n",
       "M 3481 434 \n",
       "Q 3481 -459 3084 -895 \n",
       "Q 2688 -1331 1869 -1331 \n",
       "Q 1566 -1331 1297 -1286 \n",
       "Q 1028 -1241 775 -1147 \n",
       "L 775 -588 \n",
       "Q 1028 -725 1275 -790 \n",
       "Q 1522 -856 1778 -856 \n",
       "Q 2344 -856 2625 -561 \n",
       "Q 2906 -266 2906 331 \n",
       "L 2906 616 \n",
       "Q 2728 306 2450 153 \n",
       "Q 2172 0 1784 0 \n",
       "Q 1141 0 747 490 \n",
       "Q 353 981 353 1791 \n",
       "Q 353 2603 747 3093 \n",
       "Q 1141 3584 1784 3584 \n",
       "Q 2172 3584 2450 3431 \n",
       "Q 2728 3278 2906 2969 \n",
       "L 2906 3500 \n",
       "L 3481 3500 \n",
       "L 3481 434 \n",
       "z\n",
       "\" id=\"DejaVuSans-67\" transform=\"scale(0.015625)\"/>\n",
       "      <path d=\"M 3328 2828 \n",
       "Q 3544 3216 3844 3400 \n",
       "Q 4144 3584 4550 3584 \n",
       "Q 5097 3584 5394 3201 \n",
       "Q 5691 2819 5691 2113 \n",
       "L 5691 0 \n",
       "L 5113 0 \n",
       "L 5113 2094 \n",
       "Q 5113 2597 4934 2840 \n",
       "Q 4756 3084 4391 3084 \n",
       "Q 3944 3084 3684 2787 \n",
       "Q 3425 2491 3425 1978 \n",
       "L 3425 0 \n",
       "L 2847 0 \n",
       "L 2847 2094 \n",
       "Q 2847 2600 2669 2842 \n",
       "Q 2491 3084 2119 3084 \n",
       "Q 1678 3084 1418 2786 \n",
       "Q 1159 2488 1159 1978 \n",
       "L 1159 0 \n",
       "L 581 0 \n",
       "L 581 3500 \n",
       "L 1159 3500 \n",
       "L 1159 2956 \n",
       "Q 1356 3278 1631 3431 \n",
       "Q 1906 3584 2284 3584 \n",
       "Q 2666 3584 2933 3390 \n",
       "Q 3200 3197 3328 2828 \n",
       "z\n",
       "\" id=\"DejaVuSans-6d\" transform=\"scale(0.015625)\"/>\n",
       "      <path d=\"M 3597 1894 \n",
       "L 3597 1613 \n",
       "L 953 1613 \n",
       "Q 991 1019 1311 708 \n",
       "Q 1631 397 2203 397 \n",
       "Q 2534 397 2845 478 \n",
       "Q 3156 559 3463 722 \n",
       "L 3463 178 \n",
       "Q 3153 47 2828 -22 \n",
       "Q 2503 -91 2169 -91 \n",
       "Q 1331 -91 842 396 \n",
       "Q 353 884 353 1716 \n",
       "Q 353 2575 817 3079 \n",
       "Q 1281 3584 2069 3584 \n",
       "Q 2775 3584 3186 3129 \n",
       "Q 3597 2675 3597 1894 \n",
       "z\n",
       "M 3022 2063 \n",
       "Q 3016 2534 2758 2815 \n",
       "Q 2500 3097 2075 3097 \n",
       "Q 1594 3097 1305 2825 \n",
       "Q 1016 2553 972 2059 \n",
       "L 3022 2063 \n",
       "z\n",
       "\" id=\"DejaVuSans-65\" transform=\"scale(0.015625)\"/>\n",
       "      <path d=\"M 3513 2113 \n",
       "L 3513 0 \n",
       "L 2938 0 \n",
       "L 2938 2094 \n",
       "Q 2938 2591 2744 2837 \n",
       "Q 2550 3084 2163 3084 \n",
       "Q 1697 3084 1428 2787 \n",
       "Q 1159 2491 1159 1978 \n",
       "L 1159 0 \n",
       "L 581 0 \n",
       "L 581 3500 \n",
       "L 1159 3500 \n",
       "L 1159 2956 \n",
       "Q 1366 3272 1645 3428 \n",
       "Q 1925 3584 2291 3584 \n",
       "Q 2894 3584 3203 3211 \n",
       "Q 3513 2838 3513 2113 \n",
       "z\n",
       "\" id=\"DejaVuSans-6e\" transform=\"scale(0.015625)\"/>\n",
       "      <path d=\"M 1172 4494 \n",
       "L 1172 3500 \n",
       "L 2356 3500 \n",
       "L 2356 3053 \n",
       "L 1172 3053 \n",
       "L 1172 1153 \n",
       "Q 1172 725 1289 603 \n",
       "Q 1406 481 1766 481 \n",
       "L 2356 481 \n",
       "L 2356 0 \n",
       "L 1766 0 \n",
       "Q 1100 0 847 248 \n",
       "Q 594 497 594 1153 \n",
       "L 594 3053 \n",
       "L 172 3053 \n",
       "L 172 3500 \n",
       "L 594 3500 \n",
       "L 594 4494 \n",
       "L 1172 4494 \n",
       "z\n",
       "\" id=\"DejaVuSans-74\" transform=\"scale(0.015625)\"/>\n",
       "      <path d=\"M 2194 1759 \n",
       "Q 1497 1759 1228 1600 \n",
       "Q 959 1441 959 1056 \n",
       "Q 959 750 1161 570 \n",
       "Q 1363 391 1709 391 \n",
       "Q 2188 391 2477 730 \n",
       "Q 2766 1069 2766 1631 \n",
       "L 2766 1759 \n",
       "L 2194 1759 \n",
       "z\n",
       "M 3341 1997 \n",
       "L 3341 0 \n",
       "L 2766 0 \n",
       "L 2766 531 \n",
       "Q 2569 213 2275 61 \n",
       "Q 1981 -91 1556 -91 \n",
       "Q 1019 -91 701 211 \n",
       "Q 384 513 384 1019 \n",
       "Q 384 1609 779 1909 \n",
       "Q 1175 2209 1959 2209 \n",
       "L 2766 2209 \n",
       "L 2766 2266 \n",
       "Q 2766 2663 2505 2880 \n",
       "Q 2244 3097 1772 3097 \n",
       "Q 1472 3097 1187 3025 \n",
       "Q 903 2953 641 2809 \n",
       "L 641 3341 \n",
       "Q 956 3463 1253 3523 \n",
       "Q 1550 3584 1831 3584 \n",
       "Q 2591 3584 2966 3190 \n",
       "Q 3341 2797 3341 1997 \n",
       "z\n",
       "\" id=\"DejaVuSans-61\" transform=\"scale(0.015625)\"/>\n",
       "      <path d=\"M 603 3500 \n",
       "L 1178 3500 \n",
       "L 1178 0 \n",
       "L 603 0 \n",
       "L 603 3500 \n",
       "z\n",
       "M 603 4863 \n",
       "L 1178 4863 \n",
       "L 1178 4134 \n",
       "L 603 4134 \n",
       "L 603 4863 \n",
       "z\n",
       "\" id=\"DejaVuSans-69\" transform=\"scale(0.015625)\"/>\n",
       "      <path d=\"M 1959 3097 \n",
       "Q 1497 3097 1228 2736 \n",
       "Q 959 2375 959 1747 \n",
       "Q 959 1119 1226 758 \n",
       "Q 1494 397 1959 397 \n",
       "Q 2419 397 2687 759 \n",
       "Q 2956 1122 2956 1747 \n",
       "Q 2956 2369 2687 2733 \n",
       "Q 2419 3097 1959 3097 \n",
       "z\n",
       "M 1959 3584 \n",
       "Q 2709 3584 3137 3096 \n",
       "Q 3566 2609 3566 1747 \n",
       "Q 3566 888 3137 398 \n",
       "Q 2709 -91 1959 -91 \n",
       "Q 1206 -91 779 398 \n",
       "Q 353 888 353 1747 \n",
       "Q 353 2609 779 3096 \n",
       "Q 1206 3584 1959 3584 \n",
       "z\n",
       "\" id=\"DejaVuSans-6f\" transform=\"scale(0.015625)\"/>\n",
       "      <path id=\"DejaVuSans-20\" transform=\"scale(0.015625)\"/>\n",
       "      <path d=\"M 3513 3500 \n",
       "L 2247 1797 \n",
       "L 3578 0 \n",
       "L 2900 0 \n",
       "L 1881 1375 \n",
       "L 863 0 \n",
       "L 184 0 \n",
       "L 1544 1831 \n",
       "L 300 3500 \n",
       "L 978 3500 \n",
       "L 1906 2253 \n",
       "L 2834 3500 \n",
       "L 3513 3500 \n",
       "z\n",
       "\" id=\"DejaVuSans-78\" transform=\"scale(0.015625)\"/>\n",
       "      <path d=\"M 1159 525 \n",
       "L 1159 -1331 \n",
       "L 581 -1331 \n",
       "L 581 3500 \n",
       "L 1159 3500 \n",
       "L 1159 2969 \n",
       "Q 1341 3281 1617 3432 \n",
       "Q 1894 3584 2278 3584 \n",
       "Q 2916 3584 3314 3078 \n",
       "Q 3713 2572 3713 1747 \n",
       "Q 3713 922 3314 415 \n",
       "Q 2916 -91 2278 -91 \n",
       "Q 1894 -91 1617 61 \n",
       "Q 1341 213 1159 525 \n",
       "z\n",
       "M 3116 1747 \n",
       "Q 3116 2381 2855 2742 \n",
       "Q 2594 3103 2138 3103 \n",
       "Q 1681 3103 1420 2742 \n",
       "Q 1159 2381 1159 1747 \n",
       "Q 1159 1113 1420 752 \n",
       "Q 1681 391 2138 391 \n",
       "Q 2594 391 2855 752 \n",
       "Q 3116 1113 3116 1747 \n",
       "z\n",
       "\" id=\"DejaVuSans-70\" transform=\"scale(0.015625)\"/>\n",
       "      <path d=\"M 603 4863 \n",
       "L 1178 4863 \n",
       "L 1178 0 \n",
       "L 603 0 \n",
       "L 603 4863 \n",
       "z\n",
       "\" id=\"DejaVuSans-6c\" transform=\"scale(0.015625)\"/>\n",
       "      <path d=\"M 2834 3397 \n",
       "L 2834 2853 \n",
       "Q 2591 2978 2328 3040 \n",
       "Q 2066 3103 1784 3103 \n",
       "Q 1356 3103 1142 2972 \n",
       "Q 928 2841 928 2578 \n",
       "Q 928 2378 1081 2264 \n",
       "Q 1234 2150 1697 2047 \n",
       "L 1894 2003 \n",
       "Q 2506 1872 2764 1633 \n",
       "Q 3022 1394 3022 966 \n",
       "Q 3022 478 2636 193 \n",
       "Q 2250 -91 1575 -91 \n",
       "Q 1294 -91 989 -36 \n",
       "Q 684 19 347 128 \n",
       "L 347 722 \n",
       "Q 666 556 975 473 \n",
       "Q 1284 391 1588 391 \n",
       "Q 1994 391 2212 530 \n",
       "Q 2431 669 2431 922 \n",
       "Q 2431 1156 2273 1281 \n",
       "Q 2116 1406 1581 1522 \n",
       "L 1381 1569 \n",
       "Q 847 1681 609 1914 \n",
       "Q 372 2147 372 2553 \n",
       "Q 372 3047 722 3315 \n",
       "Q 1072 3584 1716 3584 \n",
       "Q 2034 3584 2315 3537 \n",
       "Q 2597 3491 2834 3397 \n",
       "z\n",
       "\" id=\"DejaVuSans-73\" transform=\"scale(0.015625)\"/>\n",
       "      <path d=\"M 4122 4306 \n",
       "L 4122 3641 \n",
       "Q 3803 3938 3442 4084 \n",
       "Q 3081 4231 2675 4231 \n",
       "Q 1875 4231 1450 3742 \n",
       "Q 1025 3253 1025 2328 \n",
       "Q 1025 1406 1450 917 \n",
       "Q 1875 428 2675 428 \n",
       "Q 3081 428 3442 575 \n",
       "Q 3803 722 4122 1019 \n",
       "L 4122 359 \n",
       "Q 3791 134 3420 21 \n",
       "Q 3050 -91 2638 -91 \n",
       "Q 1578 -91 968 557 \n",
       "Q 359 1206 359 2328 \n",
       "Q 359 3453 968 4101 \n",
       "Q 1578 4750 2638 4750 \n",
       "Q 3056 4750 3426 4639 \n",
       "Q 3797 4528 4122 4306 \n",
       "z\n",
       "\" id=\"DejaVuSans-43\" transform=\"scale(0.015625)\"/>\n",
       "      <path d=\"M 628 4666 \n",
       "L 1259 4666 \n",
       "L 1259 0 \n",
       "L 628 0 \n",
       "L 628 4666 \n",
       "z\n",
       "\" id=\"DejaVuSans-49\" transform=\"scale(0.015625)\"/>\n",
       "      <path d=\"M 628 4666 \n",
       "L 3309 4666 \n",
       "L 3309 4134 \n",
       "L 1259 4134 \n",
       "L 1259 2759 \n",
       "L 3109 2759 \n",
       "L 3109 2228 \n",
       "L 1259 2228 \n",
       "L 1259 0 \n",
       "L 628 0 \n",
       "L 628 4666 \n",
       "z\n",
       "\" id=\"DejaVuSans-46\" transform=\"scale(0.015625)\"/>\n",
       "      <path d=\"M 2841 2188 \n",
       "Q 3044 2119 3236 1894 \n",
       "Q 3428 1669 3622 1275 \n",
       "L 4263 0 \n",
       "L 3584 0 \n",
       "L 2988 1197 \n",
       "Q 2756 1666 2539 1819 \n",
       "Q 2322 1972 1947 1972 \n",
       "L 1259 1972 \n",
       "L 1259 0 \n",
       "L 628 0 \n",
       "L 628 4666 \n",
       "L 2053 4666 \n",
       "Q 2853 4666 3247 4331 \n",
       "Q 3641 3997 3641 3322 \n",
       "Q 3641 2881 3436 2590 \n",
       "Q 3231 2300 2841 2188 \n",
       "z\n",
       "M 1259 4147 \n",
       "L 1259 2491 \n",
       "L 2053 2491 \n",
       "Q 2509 2491 2742 2702 \n",
       "Q 2975 2913 2975 3322 \n",
       "Q 2975 3731 2742 3939 \n",
       "Q 2509 4147 2053 4147 \n",
       "L 1259 4147 \n",
       "z\n",
       "\" id=\"DejaVuSans-52\" transform=\"scale(0.015625)\"/>\n",
       "      <path d=\"M 794 531 \n",
       "L 1825 531 \n",
       "L 1825 4091 \n",
       "L 703 3866 \n",
       "L 703 4441 \n",
       "L 1819 4666 \n",
       "L 2450 4666 \n",
       "L 2450 531 \n",
       "L 3481 531 \n",
       "L 3481 0 \n",
       "L 794 0 \n",
       "L 794 531 \n",
       "z\n",
       "\" id=\"DejaVuSans-31\" transform=\"scale(0.015625)\"/>\n",
       "      <path d=\"M 2034 4250 \n",
       "Q 1547 4250 1301 3770 \n",
       "Q 1056 3291 1056 2328 \n",
       "Q 1056 1369 1301 889 \n",
       "Q 1547 409 2034 409 \n",
       "Q 2525 409 2770 889 \n",
       "Q 3016 1369 3016 2328 \n",
       "Q 3016 3291 2770 3770 \n",
       "Q 2525 4250 2034 4250 \n",
       "z\n",
       "M 2034 4750 \n",
       "Q 2819 4750 3233 4129 \n",
       "Q 3647 3509 3647 2328 \n",
       "Q 3647 1150 3233 529 \n",
       "Q 2819 -91 2034 -91 \n",
       "Q 1250 -91 836 529 \n",
       "Q 422 1150 422 2328 \n",
       "Q 422 3509 836 4129 \n",
       "Q 1250 4750 2034 4750 \n",
       "z\n",
       "\" id=\"DejaVuSans-30\" transform=\"scale(0.015625)\"/>\n",
       "     </defs>\n",
       "     <use xlink:href=\"#DejaVuSans-41\"/>\n",
       "     <use x=\"68.408203\" xlink:href=\"#DejaVuSans-75\"/>\n",
       "     <use x=\"131.787109\" xlink:href=\"#DejaVuSans-67\"/>\n",
       "     <use x=\"195.263672\" xlink:href=\"#DejaVuSans-6d\"/>\n",
       "     <use x=\"292.675781\" xlink:href=\"#DejaVuSans-65\"/>\n",
       "     <use x=\"354.199219\" xlink:href=\"#DejaVuSans-6e\"/>\n",
       "     <use x=\"417.578125\" xlink:href=\"#DejaVuSans-74\"/>\n",
       "     <use x=\"456.787109\" xlink:href=\"#DejaVuSans-61\"/>\n",
       "     <use x=\"518.066406\" xlink:href=\"#DejaVuSans-74\"/>\n",
       "     <use x=\"557.275391\" xlink:href=\"#DejaVuSans-69\"/>\n",
       "     <use x=\"585.058594\" xlink:href=\"#DejaVuSans-6f\"/>\n",
       "     <use x=\"646.240234\" xlink:href=\"#DejaVuSans-6e\"/>\n",
       "     <use x=\"709.619141\" xlink:href=\"#DejaVuSans-20\"/>\n",
       "     <use x=\"741.40625\" xlink:href=\"#DejaVuSans-65\"/>\n",
       "     <use x=\"801.179688\" xlink:href=\"#DejaVuSans-78\"/>\n",
       "     <use x=\"860.359375\" xlink:href=\"#DejaVuSans-61\"/>\n",
       "     <use x=\"921.638672\" xlink:href=\"#DejaVuSans-6d\"/>\n",
       "     <use x=\"1019.050781\" xlink:href=\"#DejaVuSans-70\"/>\n",
       "     <use x=\"1082.527344\" xlink:href=\"#DejaVuSans-6c\"/>\n",
       "     <use x=\"1110.310547\" xlink:href=\"#DejaVuSans-65\"/>\n",
       "     <use x=\"1171.833984\" xlink:href=\"#DejaVuSans-73\"/>\n",
       "     <use x=\"1223.933594\" xlink:href=\"#DejaVuSans-20\"/>\n",
       "     <use x=\"1255.720703\" xlink:href=\"#DejaVuSans-6f\"/>\n",
       "     <use x=\"1316.902344\" xlink:href=\"#DejaVuSans-6e\"/>\n",
       "     <use x=\"1380.28125\" xlink:href=\"#DejaVuSans-20\"/>\n",
       "     <use x=\"1412.068359\" xlink:href=\"#DejaVuSans-43\"/>\n",
       "     <use x=\"1481.892578\" xlink:href=\"#DejaVuSans-49\"/>\n",
       "     <use x=\"1511.384766\" xlink:href=\"#DejaVuSans-46\"/>\n",
       "     <use x=\"1559.779297\" xlink:href=\"#DejaVuSans-41\"/>\n",
       "     <use x=\"1628.1875\" xlink:href=\"#DejaVuSans-52\"/>\n",
       "     <use x=\"1697.669922\" xlink:href=\"#DejaVuSans-31\"/>\n",
       "     <use x=\"1761.292969\" xlink:href=\"#DejaVuSans-30\"/>\n",
       "    </g>\n",
       "   </g>\n",
       "  </g>\n",
       " </g>\n",
       " <defs>\n",
       "  <clipPath id=\"p178eb70982\">\n",
       "   <rect height=\"226.434783\" width=\"446.4\" x=\"7.2\" y=\"22.318125\"/>\n",
       "  </clipPath>\n",
       " </defs>\n",
       "</svg>\n"
      ],
      "text/plain": [
       "<Figure size 576x576 with 1 Axes>"
      ]
     },
     "metadata": {
      "needs_background": "light"
     },
     "output_type": "display_data"
    }
   ],
   "source": [
    "NUM_IMAGES = 4\n",
    "images = [train_dataset[idx][0] for idx in range(NUM_IMAGES)]\n",
    "orig_images = [Image.fromarray(train_dataset.data[idx]) for idx in range(NUM_IMAGES)]\n",
    "orig_images = [test_transform(img) for img in orig_images]\n",
    "\n",
    "img_grid = torchvision.utils.make_grid(torch.stack(images + orig_images, dim=0), nrow=4, normalize=True, pad_value=0.5)\n",
    "img_grid = img_grid.permute(1, 2, 0)\n",
    "\n",
    "plt.figure(figsize=(8,8))\n",
    "plt.title(\"Augmentation examples on CIFAR10\")\n",
    "plt.imshow(img_grid)\n",
    "plt.axis('off')\n",
    "plt.show()\n",
    "plt.close()"
   ]
  },
  {
   "cell_type": "markdown",
   "metadata": {},
   "source": [
    "## PyTorch Lightning\n",
    "\n",
    "In this notebook and in many following ones, we will make use of the library [PyTorch Lightning](https://www.pytorchlightning.ai/). PyTorch Lightning is a framework that simplifies your code needed to train, evaluate, and test a model in PyTorch. It also handles logging into [TensorBoard](https://pytorch.org/tutorials/intermediate/tensorboard_tutorial.html), a visualization toolkit for ML experiments, and saving model checkpoints automatically with minimal code overhead from our side. This is extremely helpful for us as we want to focus on implementing different model architectures and spend little time on other code overhead. Note that at the time of writing/teaching, the framework has been released in version 1.3. Future versions might have a slightly changed interface and thus might not work perfectly with the code (we will try to keep it up-to-date as much as possible). \n",
    "\n",
    "Now, we will take the first step in PyTorch Lightning, and continue to explore the framework in our other tutorials. First, we import the library:"
   ]
  },
  {
   "cell_type": "code",
   "execution_count": 8,
   "metadata": {},
   "outputs": [],
   "source": [
    "# PyTorch Lightning\n",
    "try:\n",
    "    import pytorch_lightning as pl\n",
    "except ModuleNotFoundError: # Google Colab does not have PyTorch Lightning installed by default. Hence, we do it here if necessary\n",
    "    !pip install --quiet pytorch-lightning>=1.4\n",
    "    import pytorch_lightning as pl"
   ]
  },
  {
   "cell_type": "markdown",
   "metadata": {},
   "source": [
    "PyTorch Lightning comes with a lot of useful functions, such as one for setting the seed:"
   ]
  },
  {
   "cell_type": "code",
   "execution_count": 9,
   "metadata": {},
   "outputs": [
    {
     "name": "stderr",
     "output_type": "stream",
     "text": [
      "Global seed set to 42\n"
     ]
    },
    {
     "data": {
      "text/plain": [
       "42"
      ]
     },
     "execution_count": 9,
     "metadata": {},
     "output_type": "execute_result"
    }
   ],
   "source": [
    "# Setting the seed\n",
    "pl.seed_everything(42)"
   ]
  },
  {
   "cell_type": "markdown",
   "metadata": {},
   "source": [
    "Thus, in the future, we don't have to define our own `set_seed` function anymore. \n",
    "\n",
    "In PyTorch Lightning, we define `pl.LightningModule`'s (inheriting from `torch.nn.Module`) that organize our code into 5 main sections: \n",
    "\n",
    "1. Initialization (`__init__`), where we create all necessary parameters/models\n",
    "2. Optimizers (`configure_optimizers`) where we create the optimizers, learning rate scheduler, etc. \n",
    "3. Training loop (`training_step`) where we only have to define the loss calculation for a single batch (the loop of optimizer.zero_grad(), loss.backward() and optimizer.step(), as well as any logging/saving operation, is done in the background)\n",
    "4. Validation loop (`validation_step`) where similarly to the training, we only have to define what should happen per step\n",
    "5. Test loop (`test_step`) which is the same as validation, only on a test set.\n",
    "\n",
    "Therefore, we don't abstract the PyTorch code, but rather organize it and define some default operations that are commonly used. If you need to change something else in your training/validation/test loop, there are many possible functions you can overwrite (see the [docs](https://pytorch-lightning.readthedocs.io/en/stable/lightning_module.html) for details).\n",
    "\n",
    "Now we can look at an example of how a Lightning Module for training a CNN looks like:"
   ]
  },
  {
   "cell_type": "code",
   "execution_count": 10,
   "metadata": {},
   "outputs": [],
   "source": [
    "class CIFARModule(pl.LightningModule):\n",
    "\n",
    "    def __init__(self, model_name, model_hparams, optimizer_name, optimizer_hparams):\n",
    "        \"\"\"\n",
    "        Inputs:\n",
    "            model_name - Name of the model/CNN to run. Used for creating the model (see function below)\n",
    "            model_hparams - Hyperparameters for the model, as dictionary.\n",
    "            optimizer_name - Name of the optimizer to use. Currently supported: Adam, SGD\n",
    "            optimizer_hparams - Hyperparameters for the optimizer, as dictionary. This includes learning rate, weight decay, etc.\n",
    "        \"\"\"\n",
    "        super().__init__()\n",
    "        # Exports the hyperparameters to a YAML file, and create \"self.hparams\" namespace\n",
    "        self.save_hyperparameters()\n",
    "        # Create model\n",
    "        self.model = create_model(model_name, model_hparams)\n",
    "        # Create loss module\n",
    "        self.loss_module = nn.CrossEntropyLoss()\n",
    "        # Example input for visualizing the graph in Tensorboard\n",
    "        self.example_input_array = torch.zeros((1, 3, 32, 32), dtype=torch.float32)\n",
    "\n",
    "    def forward(self, imgs):\n",
    "        # Forward function that is run when visualizing the graph\n",
    "        return self.model(imgs)\n",
    "\n",
    "    def configure_optimizers(self):\n",
    "        # We will support Adam or SGD as optimizers.\n",
    "        if self.hparams.optimizer_name == \"Adam\":\n",
    "            # AdamW is Adam with a correct implementation of weight decay (see here for details: https://arxiv.org/pdf/1711.05101.pdf)\n",
    "            optimizer = optim.AdamW(\n",
    "                self.parameters(), **self.hparams.optimizer_hparams)\n",
    "        elif self.hparams.optimizer_name == \"SGD\":\n",
    "            optimizer = optim.SGD(self.parameters(), **self.hparams.optimizer_hparams)\n",
    "        else:\n",
    "            assert False, f\"Unknown optimizer: \\\"{self.hparams.optimizer_name}\\\"\"\n",
    "\n",
    "        # We will reduce the learning rate by 0.1 after 100 and 150 epochs\n",
    "        scheduler = optim.lr_scheduler.MultiStepLR(\n",
    "            optimizer, milestones=[100, 150], gamma=0.1)\n",
    "        return [optimizer], [scheduler]\n",
    "\n",
    "    def training_step(self, batch, batch_idx):\n",
    "        # \"batch\" is the output of the training data loader.\n",
    "        imgs, labels = batch\n",
    "        preds = self.model(imgs)\n",
    "        loss = self.loss_module(preds, labels)\n",
    "        acc = (preds.argmax(dim=-1) == labels).float().mean()\n",
    "\n",
    "        # Logs the accuracy per epoch to tensorboard (weighted average over batches)\n",
    "        self.log('train_acc', acc, on_step=False, on_epoch=True)\n",
    "        self.log('train_loss', loss)\n",
    "        return loss  # Return tensor to call \".backward\" on\n",
    "\n",
    "    def validation_step(self, batch, batch_idx):\n",
    "        imgs, labels = batch\n",
    "        preds = self.model(imgs).argmax(dim=-1)\n",
    "        acc = (labels == preds).float().mean()\n",
    "        # By default logs it per epoch (weighted average over batches)\n",
    "        self.log('val_acc', acc)\n",
    "\n",
    "    def test_step(self, batch, batch_idx):\n",
    "        imgs, labels = batch\n",
    "        preds = self.model(imgs).argmax(dim=-1)\n",
    "        acc = (labels == preds).float().mean()\n",
    "        # By default logs it per epoch (weighted average over batches), and returns it afterwards\n",
    "        self.log('test_acc', acc)"
   ]
  },
  {
   "cell_type": "markdown",
   "metadata": {},
   "source": [
    "We see that the code is organized and clear, which helps if someone else tries to understand your code. \n",
    "\n",
    "Another important part of PyTorch Lightning is the concept of callbacks. Callbacks are self-contained functions that contain the non-essential logic of your Lightning Module. They are usually called after finishing a training epoch, but can also influence other parts of your training loop. For instance, we will use the following two pre-defined callbacks: `LearningRateMonitor` and `ModelCheckpoint`. The learning rate monitor adds the current learning rate to our TensorBoard, which helps to verify that our learning rate scheduler works correctly. The model checkpoint callback allows you to customize the saving routine of your checkpoints. For instance, how many checkpoints to keep, when to save, which metric to look out for, etc. We import them below:"
   ]
  },
  {
   "cell_type": "code",
   "execution_count": 11,
   "metadata": {},
   "outputs": [],
   "source": [
    "# Callbacks \n",
    "from pytorch_lightning.callbacks import LearningRateMonitor, ModelCheckpoint"
   ]
  },
  {
   "cell_type": "markdown",
   "metadata": {},
   "source": [
    "To allow running multiple different models with the same Lightning module, we define a function below that maps a model name to the model class. At this stage, the dictionary `model_dict` is empty, but we will fill it throughout the notebook with our new models."
   ]
  },
  {
   "cell_type": "code",
   "execution_count": 12,
   "metadata": {},
   "outputs": [],
   "source": [
    "model_dict = {}\n",
    "\n",
    "def create_model(model_name, model_hparams):\n",
    "    if model_name in model_dict:\n",
    "        return model_dict[model_name](**model_hparams)\n",
    "    else:\n",
    "        assert False, f\"Unknown model name \\\"{model_name}\\\". Available models are: {str(model_dict.keys())}\""
   ]
  },
  {
   "cell_type": "markdown",
   "metadata": {},
   "source": [
    "Similarly, to use the activation function as another hyperparameter in our model, we define a \"name to function\" dict below:"
   ]
  },
  {
   "cell_type": "code",
   "execution_count": 13,
   "metadata": {},
   "outputs": [],
   "source": [
    "act_fn_by_name = {\n",
    "    \"tanh\": nn.Tanh,\n",
    "    \"relu\": nn.ReLU,\n",
    "    \"leakyrelu\": nn.LeakyReLU,\n",
    "    \"gelu\": nn.GELU\n",
    "}"
   ]
  },
  {
   "cell_type": "markdown",
   "metadata": {},
   "source": [
    "If we pass the classes or objects directly as an argument to the Lightning module, we couldn't take advantage of PyTorch Lightning's automatically hyperparameter saving and loading.\n",
    "\n",
    "Besides the Lightning module, the second most important module in PyTorch Lightning is the `Trainer`. The trainer is responsible to execute the training steps defined in the Lightning module and completes the framework. Similar to the Lightning module, you can override any key part that you don't want to be automated, but the default settings are often the best practice to do. For a full overview, see the [documentation](https://pytorch-lightning.readthedocs.io/en/stable/trainer.html). The most important functions we use below are:\n",
    "\n",
    "* `trainer.fit`: Takes as input a lightning module, a training dataset, and an (optional) validation dataset. This function trains the given module on the training dataset with occasional validation (default once per epoch, can be changed)\n",
    "* `trainer.test`: Takes as input a model and a dataset on which we want to test. It returns the test metric on the dataset.\n",
    "\n",
    "For training and testing, we don't have to worry about things like setting the model to eval mode (`model.eval()`) as this is all done automatically. See below how we define a training function for our models:"
   ]
  },
  {
   "cell_type": "code",
   "execution_count": 14,
   "metadata": {},
   "outputs": [],
   "source": [
    "def train_model(model_name, save_name=None, **kwargs):\n",
    "    \"\"\"\n",
    "    Inputs:\n",
    "        model_name - Name of the model you want to run. Is used to look up the class in \"model_dict\"\n",
    "        save_name (optional) - If specified, this name will be used for creating the checkpoint and logging directory.\n",
    "    \"\"\"\n",
    "    if save_name is None:\n",
    "        save_name = model_name\n",
    "\n",
    "    # Create a PyTorch Lightning trainer with the generation callback\n",
    "    trainer = pl.Trainer(default_root_dir=os.path.join(CHECKPOINT_PATH, save_name),                          # Where to save models\n",
    "                         gpus=1 if str(device)==\"cuda:0\" else 0,                                             # We run on a single GPU (if possible)\n",
    "                         max_epochs=180,                                                                     # How many epochs to train for if no patience is set\n",
    "                         callbacks=[ModelCheckpoint(save_weights_only=True, mode=\"max\", monitor=\"val_acc\"),  # Save the best checkpoint based on the maximum val_acc recorded. Saves only weights and not optimizer\n",
    "                                    LearningRateMonitor(\"epoch\")],                                           # Log learning rate every epoch\n",
    "                         progress_bar_refresh_rate=1)                                                        # In case your notebook crashes due to the progress bar, consider increasing the refresh rate\n",
    "    trainer.logger._log_graph = True         # If True, we plot the computation graph in tensorboard\n",
    "    trainer.logger._default_hp_metric = None # Optional logging argument that we don't need\n",
    "    \n",
    "    # Check whether pretrained model exists. If yes, load it and skip training\n",
    "    pretrained_filename = os.path.join(CHECKPOINT_PATH, save_name + \".ckpt\")\n",
    "    if os.path.isfile(pretrained_filename):\n",
    "        print(f\"Found pretrained model at {pretrained_filename}, loading...\")\n",
    "        model = CIFARModule.load_from_checkpoint(pretrained_filename) # Automatically loads the model with the saved hyperparameters\n",
    "    else:\n",
    "        pl.seed_everything(42) # To be reproducable\n",
    "        model = CIFARModule(model_name=model_name, **kwargs)\n",
    "        trainer.fit(model, train_loader, val_loader)\n",
    "        model = CIFARModule.load_from_checkpoint(trainer.checkpoint_callback.best_model_path) # Load best checkpoint after training\n",
    "        \n",
    "    # Test best model on validation and test set\n",
    "    val_result = trainer.test(model, test_dataloaders=val_loader, verbose=False)\n",
    "    test_result = trainer.test(model, test_dataloaders=test_loader, verbose=False)\n",
    "    result = {\"test\": test_result[0][\"test_acc\"], \"val\": val_result[0][\"test_acc\"]}\n",
    "    \n",
    "    return model, result"
   ]
  },
  {
   "cell_type": "markdown",
   "metadata": {},
   "source": [
    "Finally, we can focus on the Convolutional Neural Networks we want to implement today: GoogleNet, ResNet, and DenseNet."
   ]
  },
  {
   "cell_type": "markdown",
   "metadata": {},
   "source": [
    "## Inception\n",
    "\n",
    "The [GoogleNet](https://arxiv.org/abs/1409.4842), proposed in 2014, won the ImageNet Challenge because of its usage of the Inception modules. In general, we will mainly focus on the concept of Inception in this tutorial instead of the specifics of the GoogleNet, as based on Inception, there have been many follow-up works ([Inception-v2](https://arxiv.org/abs/1512.00567), [Inception-v3](https://arxiv.org/abs/1512.00567), [Inception-v4](https://arxiv.org/abs/1602.07261), [Inception-ResNet](https://arxiv.org/abs/1602.07261),...). The follow-up works mainly focus on increasing efficiency and enabling very deep Inception networks. However, for a fundamental understanding, it is sufficient to look at the original Inception block. \n",
    "\n",
    "An Inception block applies four convolution blocks separately on the same feature map: a 1x1, 3x3, and 5x5 convolution, and a max pool operation. This allows the network to look at the same data with different receptive fields. Of course, learning only 5x5 convolution would be theoretically more powerful. However, this is not only more computation and memory heavy but also tends to overfit much easier. The overall inception block looks like below (figure credit - [Szegedy et al.](https://arxiv.org/abs/1409.4842)):\n",
    "\n",
    "<center width=\"100%\"><img src=\"inception_block.svg\" style=\"display: block; margin-left: auto; margin-right: auto;\" width=\"500px\"/></center>\n",
    "\n",
    "The additional 1x1 convolutions before the 3x3 and 5x5 convolutions are used for dimensionality reduction. This is especially crucial as the feature maps of all branches are merged afterward, and we don't want any explosion of feature size. As 5x5 convolutions are 25 times more expensive than 1x1 convolutions, we can save a lot of computation and parameters by reducing the dimensionality before the large convolutions.\n",
    "\n",
    "We can now try to implement the Inception Block ourselves:"
   ]
  },
  {
   "cell_type": "code",
   "execution_count": 15,
   "metadata": {},
   "outputs": [],
   "source": [
    "class InceptionBlock(nn.Module):\n",
    "    \n",
    "    def __init__(self, c_in, c_red : dict, c_out : dict, act_fn):\n",
    "        \"\"\"\n",
    "        Inputs:\n",
    "            c_in - Number of input feature maps from the previous layers\n",
    "            c_red - Dictionary with keys \"3x3\" and \"5x5\" specifying the output of the dimensionality reducing 1x1 convolutions\n",
    "            c_out - Dictionary with keys \"1x1\", \"3x3\", \"5x5\", and \"max\"\n",
    "            act_fn - Activation class constructor (e.g. nn.ReLU)\n",
    "        \"\"\"\n",
    "        super().__init__()\n",
    "        \n",
    "        # 1x1 convolution branch\n",
    "        self.conv_1x1 = nn.Sequential(\n",
    "            nn.Conv2d(c_in, c_out[\"1x1\"], kernel_size=1),\n",
    "            nn.BatchNorm2d(c_out[\"1x1\"]),\n",
    "            act_fn()\n",
    "        )\n",
    "        \n",
    "        # 3x3 convolution branch\n",
    "        self.conv_3x3 = nn.Sequential(\n",
    "            nn.Conv2d(c_in, c_red[\"3x3\"], kernel_size=1),\n",
    "            nn.BatchNorm2d(c_red[\"3x3\"]),\n",
    "            act_fn(),\n",
    "            nn.Conv2d(c_red[\"3x3\"], c_out[\"3x3\"], kernel_size=3, padding=1),\n",
    "            nn.BatchNorm2d(c_out[\"3x3\"]),\n",
    "            act_fn()\n",
    "        )\n",
    "        \n",
    "        # 5x5 convolution branch\n",
    "        self.conv_5x5 = nn.Sequential(\n",
    "            nn.Conv2d(c_in, c_red[\"5x5\"], kernel_size=1),\n",
    "            nn.BatchNorm2d(c_red[\"5x5\"]),\n",
    "            act_fn(),\n",
    "            nn.Conv2d(c_red[\"5x5\"], c_out[\"5x5\"], kernel_size=5, padding=2),\n",
    "            nn.BatchNorm2d(c_out[\"5x5\"]),\n",
    "            act_fn()\n",
    "        )\n",
    "        \n",
    "        # Max-pool branch\n",
    "        self.max_pool = nn.Sequential(\n",
    "            nn.MaxPool2d(kernel_size=3, padding=1, stride=1),\n",
    "            nn.Conv2d(c_in, c_out[\"max\"], kernel_size=1),\n",
    "            nn.BatchNorm2d(c_out[\"max\"]),\n",
    "            act_fn()\n",
    "        )\n",
    "\n",
    "    def forward(self, x):\n",
    "        x_1x1 = self.conv_1x1(x)\n",
    "        x_3x3 = self.conv_3x3(x)\n",
    "        x_5x5 = self.conv_5x5(x)\n",
    "        x_max = self.max_pool(x)\n",
    "        x_out = torch.cat([x_1x1, x_3x3, x_5x5, x_max], dim=1)\n",
    "        return x_out"
   ]
  },
  {
   "cell_type": "markdown",
   "metadata": {},
   "source": [
    "The GoogleNet architecture consists of stacking multiple Inception blocks with occasional max pooling to reduce the height and width of the feature maps. The original GoogleNet was designed for image sizes of ImageNet (224x224 pixels) and had almost 7 million parameters. As we train on CIFAR10 with image sizes of 32x32, we don't require such a heavy architecture, and instead, apply a reduced version. The number of channels for dimensionality reduction and output per filter (1x1, 3x3, 5x5, and max pooling) need to be manually specified and can be changed if interested. The general intuition is to have the most filters for the 3x3 convolutions, as they are powerful enough to take the context into account while requiring almost a third of the parameters of the 5x5 convolution. "
   ]
  },
  {
   "cell_type": "code",
   "execution_count": 16,
   "metadata": {},
   "outputs": [],
   "source": [
    "class GoogleNet(nn.Module):\n",
    "\n",
    "    def __init__(self, num_classes=10, act_fn_name=\"relu\", **kwargs):\n",
    "        super().__init__()\n",
    "        self.hparams = SimpleNamespace(num_classes=num_classes,\n",
    "                                       act_fn_name=act_fn_name,\n",
    "                                       act_fn=act_fn_by_name[act_fn_name])\n",
    "        self._create_network()\n",
    "        self._init_params()\n",
    "\n",
    "    def _create_network(self):\n",
    "        # A first convolution on the original image to scale up the channel size\n",
    "        self.input_net = nn.Sequential(\n",
    "            nn.Conv2d(3, 64, kernel_size=3, padding=1),\n",
    "            nn.BatchNorm2d(64),\n",
    "            self.hparams.act_fn()\n",
    "        )\n",
    "        # Stacking inception blocks\n",
    "        self.inception_blocks = nn.Sequential(\n",
    "            InceptionBlock(64, c_red={\"3x3\": 32, \"5x5\": 16}, c_out={\"1x1\": 16, \"3x3\": 32, \"5x5\": 8, \"max\": 8}, act_fn=self.hparams.act_fn),\n",
    "            InceptionBlock(64, c_red={\"3x3\": 32, \"5x5\": 16}, c_out={\"1x1\": 24, \"3x3\": 48, \"5x5\": 12, \"max\": 12}, act_fn=self.hparams.act_fn),\n",
    "            nn.MaxPool2d(3, stride=2, padding=1),  # 32x32 => 16x16\n",
    "            InceptionBlock(96, c_red={\"3x3\": 32, \"5x5\": 16}, c_out={\"1x1\": 24, \"3x3\": 48, \"5x5\": 12, \"max\": 12}, act_fn=self.hparams.act_fn),\n",
    "            InceptionBlock(96, c_red={\"3x3\": 32, \"5x5\": 16}, c_out={\"1x1\": 16, \"3x3\": 48, \"5x5\": 16, \"max\": 16}, act_fn=self.hparams.act_fn),\n",
    "            InceptionBlock(96, c_red={\"3x3\": 32, \"5x5\": 16}, c_out={\"1x1\": 16, \"3x3\": 48, \"5x5\": 16, \"max\": 16}, act_fn=self.hparams.act_fn),\n",
    "            InceptionBlock(96, c_red={\"3x3\": 32, \"5x5\": 16}, c_out={\"1x1\": 32, \"3x3\": 48, \"5x5\": 24, \"max\": 24}, act_fn=self.hparams.act_fn),\n",
    "            nn.MaxPool2d(3, stride=2, padding=1),  # 16x16 => 8x8\n",
    "            InceptionBlock(128, c_red={\"3x3\": 48, \"5x5\": 16}, c_out={\"1x1\": 32, \"3x3\": 64, \"5x5\": 16, \"max\": 16}, act_fn=self.hparams.act_fn),\n",
    "            InceptionBlock(128, c_red={\"3x3\": 48, \"5x5\": 16}, c_out={\"1x1\": 32, \"3x3\": 64, \"5x5\": 16, \"max\": 16}, act_fn=self.hparams.act_fn)\n",
    "        )\n",
    "        # Mapping to classification output\n",
    "        self.output_net = nn.Sequential(\n",
    "            nn.AdaptiveAvgPool2d((1, 1)),\n",
    "            nn.Flatten(),\n",
    "            nn.Linear(128, self.hparams.num_classes)\n",
    "        )\n",
    "\n",
    "    def _init_params(self):\n",
    "        # Based on our discussion in Tutorial 4, we should initialize the convolutions according to the activation function\n",
    "        for m in self.modules():\n",
    "            if isinstance(m, nn.Conv2d):\n",
    "                nn.init.kaiming_normal_(\n",
    "                    m.weight, nonlinearity=self.hparams.act_fn_name)\n",
    "            elif isinstance(m, nn.BatchNorm2d):\n",
    "                nn.init.constant_(m.weight, 1)\n",
    "                nn.init.constant_(m.bias, 0)\n",
    "\n",
    "    def forward(self, x):\n",
    "        x = self.input_net(x)\n",
    "        x = self.inception_blocks(x)\n",
    "        x = self.output_net(x)\n",
    "        return x"
   ]
  },
  {
   "cell_type": "markdown",
   "metadata": {},
   "source": [
    "Now, we can integrate our model to the model dictionary we defined above:"
   ]
  },
  {
   "cell_type": "code",
   "execution_count": 17,
   "metadata": {},
   "outputs": [],
   "source": [
    "model_dict[\"GoogleNet\"] = GoogleNet"
   ]
  },
  {
   "cell_type": "markdown",
   "metadata": {},
   "source": [
    "The training of the model is handled by PyTorch Lightning, and we just have to define the command to start. Note that we train for almost 200 epochs, which takes about an hour on Lisa's default GPUs (GTX1080Ti). We would recommend using the saved models and train your own model if you are interested. "
   ]
  },
  {
   "cell_type": "code",
   "execution_count": 18,
   "metadata": {},
   "outputs": [
    {
     "name": "stderr",
     "output_type": "stream",
     "text": [
      "GPU available: True, used: True\n",
      "TPU available: False, using: 0 TPU cores\n",
      "IPU available: False, using: 0 IPUs\n",
      "/home/arijit/miniconda3/lib/python3.9/site-packages/pytorch_lightning/trainer/trainer.py:678: LightningDeprecationWarning: `trainer.test(test_dataloaders)` is deprecated in v1.4 and will be removed in v1.6. Use `trainer.test(dataloaders)` instead.\n",
      "  rank_zero_deprecation(\n",
      "LOCAL_RANK: 0 - CUDA_VISIBLE_DEVICES: [0]\n"
     ]
    },
    {
     "name": "stdout",
     "output_type": "stream",
     "text": [
      "Found pretrained model at ../saved_models/tutorial5/GoogleNet.ckpt, loading...\n"
     ]
    },
    {
     "name": "stderr",
     "output_type": "stream",
     "text": [
      "/home/arijit/miniconda3/lib/python3.9/site-packages/torch/_jit_internal.py:668: LightningDeprecationWarning: The `LightningModule.datamodule` property is deprecated in v1.3 and will be removed in v1.5. Access the datamodule through using `self.trainer.datamodule` instead.\n",
      "  if hasattr(mod, name):\n",
      "/home/arijit/miniconda3/lib/python3.9/site-packages/torch/_jit_internal.py:668: LightningDeprecationWarning: The `LightningModule.loaded_optimizer_states_dict` property is deprecated in v1.4 and will be removed in v1.6.\n",
      "  if hasattr(mod, name):\n"
     ]
    },
    {
     "data": {
      "application/vnd.jupyter.widget-view+json": {
       "model_id": "76464363668a44078027fbc4839b7902",
       "version_major": 2,
       "version_minor": 0
      },
      "text/plain": [
       "Testing: 0it [00:00, ?it/s]"
      ]
     },
     "metadata": {},
     "output_type": "display_data"
    },
    {
     "name": "stderr",
     "output_type": "stream",
     "text": [
      "LOCAL_RANK: 0 - CUDA_VISIBLE_DEVICES: [0]\n"
     ]
    },
    {
     "data": {
      "application/vnd.jupyter.widget-view+json": {
       "model_id": "0538b0f91f874c3496572096fb2b25c7",
       "version_major": 2,
       "version_minor": 0
      },
      "text/plain": [
       "Testing: 0it [00:00, ?it/s]"
      ]
     },
     "metadata": {},
     "output_type": "display_data"
    }
   ],
   "source": [
    "googlenet_model, googlenet_results = train_model(model_name=\"GoogleNet\", \n",
    "                                                 model_hparams={\"num_classes\": 10, \n",
    "                                                                \"act_fn_name\": \"relu\"}, \n",
    "                                                 optimizer_name=\"Adam\",\n",
    "                                                 optimizer_hparams={\"lr\": 1e-3,\n",
    "                                                                    \"weight_decay\": 1e-4})"
   ]
  },
  {
   "cell_type": "markdown",
   "metadata": {},
   "source": [
    "We will compare the results later in the notebooks, but we can already print them here for a first glance:"
   ]
  },
  {
   "cell_type": "code",
   "execution_count": 19,
   "metadata": {},
   "outputs": [
    {
     "name": "stdout",
     "output_type": "stream",
     "text": [
      "GoogleNet Results {'test': 0.8970999717712402, 'val': 0.9039999842643738}\n"
     ]
    }
   ],
   "source": [
    "print(\"GoogleNet Results\", googlenet_results)"
   ]
  },
  {
   "cell_type": "markdown",
   "metadata": {},
   "source": [
    "### Tensorboard log\n",
    "\n",
    "A nice extra of PyTorch Lightning is the automatic logging into TensorBoard. To give you a better intuition of what TensorBoard can be used, we can look at the board that PyTorch Lightning has been generated when training the GoogleNet. TensorBoard provides an inline functionality for Jupyter notebooks, and we use it here:"
   ]
  },
  {
   "cell_type": "code",
   "execution_count": 20,
   "metadata": {},
   "outputs": [],
   "source": [
    "# Load tensorboard extension\n",
    "%load_ext tensorboard"
   ]
  },
  {
   "cell_type": "code",
   "execution_count": 21,
   "metadata": {},
   "outputs": [
    {
     "data": {
      "text/html": [
       "\n",
       "      <iframe id=\"tensorboard-frame-1c80317fa3b1799d\" width=\"100%\" height=\"800\" frameborder=\"0\">\n",
       "      </iframe>\n",
       "      <script>\n",
       "        (function() {\n",
       "          const frame = document.getElementById(\"tensorboard-frame-1c80317fa3b1799d\");\n",
       "          const url = new URL(\"/\", window.location);\n",
       "          const port = 6006;\n",
       "          if (port) {\n",
       "            url.port = port;\n",
       "          }\n",
       "          frame.src = url;\n",
       "        })();\n",
       "      </script>\n",
       "    "
      ],
      "text/plain": [
       "<IPython.core.display.HTML object>"
      ]
     },
     "metadata": {},
     "output_type": "display_data"
    }
   ],
   "source": [
    "# Opens tensorboard in notebook. Adjust the path to your CHECKPOINT_PATH!\n",
    "%tensorboard --logdir ../saved_models/tutorial5/tensorboards/GoogleNet/"
   ]
  },
  {
   "cell_type": "markdown",
   "metadata": {},
   "source": [
    "<center width=\"100%\"><img src=\"tensorboard_screenshot_GoogleNet.png\" width=\"1000px\"></center>\n",
    "\n",
    "TensorBoard is organized in multiple tabs. The main tab is the scalar tab where we can log the development of single numbers. For example, we have plotted the training loss, accuracy, learning rate, etc. If we look at the training or validation accuracy, we can really see the impact of using a learning rate scheduler. Reducing the learning rate gives our model a nice increase in training performance. Similarly, when looking at the training loss, we see a sudden decrease at this point. However, the high numbers on the training set compared to validation indicate that our model was overfitting which is inevitable for such large networks.\n",
    "\n",
    "Another interesting tab in TensorBoard is the graph tab. It shows us the network architecture organized by building blocks from the input to the output. It basically shows the operations taken in the forward step of `CIFARModule`. Double-click on a module to open it. Feel free to explore the architecture from a different perspective. The graph visualization can often help you to validate that your model is actually doing what it is supposed to do, and you don't miss any layers in the computation graph."
   ]
  },
  {
   "cell_type": "markdown",
   "metadata": {},
   "source": [
    "## ResNet\n",
    "\n",
    "The [ResNet](https://arxiv.org/abs/1512.03385) paper is one of the  [most cited AI papers](https://www.natureindex.com/news-blog/google-scholar-reveals-most-influential-papers-research-citations-twenty-twenty), and has been the foundation for neural networks with more than 1,000 layers. Despite its simplicity, the idea of residual connections is highly effective as it supports stable gradient propagation through the network. Instead of modeling $x_{l+1}=F(x_{l})$, we model $x_{l+1}=x_{l}+F(x_{l})$ where $F$ is a non-linear mapping (usually a sequence of NN modules likes convolutions, activation functions, and normalizations). If we do backpropagation on such residual connections, we obtain:\n",
    "\n",
    "$$\\frac{\\partial x_{l+1}}{\\partial x_{l}} = \\mathbf{I} + \\frac{\\partial F(x_{l})}{\\partial x_{l}}$$\n",
    "\n",
    "The bias towards the identity matrix guarantees a stable gradient propagation being less effected by $F$ itself. There have been many variants of ResNet proposed, which mostly concern the function $F$, or operations applied on the sum. In this tutorial, we look at two of them: the original ResNet block, and the [Pre-Activation ResNet block](https://arxiv.org/abs/1603.05027). We visually compare the blocks below (figure credit - [He et al.](https://arxiv.org/abs/1603.05027)):\n",
    "\n",
    "<center width=\"100%\"><img src=\"resnet_block.svg\" style=\"display: block; margin-left: auto; margin-right: auto;\" width=\"300px\"/></center>\n",
    "\n",
    "The original ResNet block applies a non-linear activation function, usually ReLU, after the skip connection. In contrast, the pre-activation ResNet block applies the non-linearity at the beginning of $F$. Both have their advantages and disadvantages. For very deep network, however, the pre-activation ResNet has shown to perform better as the gradient flow is guaranteed to have the identity matrix as calculated above, and is not harmed by any non-linear activation applied to it. For comparison, in this notebook, we implement both ResNet types as shallow networks.\n",
    "\n",
    "Let's start with the original ResNet block. The visualization above already shows what layers are included in $F$. One special case we have to handle is when we want to reduce the image dimensions in terms of width and height. The basic ResNet block requires $F(x_{l})$ to be of the same shape as $x_{l}$. Thus, we need to change the dimensionality of $x_{l}$ as well before adding to $F(x_{l})$. The original implementation used an identity mapping with stride 2 and padded additional feature dimensions with 0. However, the more common implementation is to use a 1x1 convolution with stride 2 as it allows us to change the feature dimensionality while being efficient in parameter and computation cost. The code for the ResNet block is relatively simple, and shown below:"
   ]
  },
  {
   "cell_type": "code",
   "execution_count": 22,
   "metadata": {},
   "outputs": [],
   "source": [
    "class ResNetBlock(nn.Module):\n",
    "\n",
    "    def __init__(self, c_in, act_fn, subsample=False, c_out=-1):\n",
    "        \"\"\"\n",
    "        Inputs:\n",
    "            c_in - Number of input features\n",
    "            act_fn - Activation class constructor (e.g. nn.ReLU)\n",
    "            subsample - If True, we want to apply a stride inside the block and reduce the output shape by 2 in height and width\n",
    "            c_out - Number of output features. Note that this is only relevant if subsample is True, as otherwise, c_out = c_in\n",
    "        \"\"\"\n",
    "        super().__init__()\n",
    "        if not subsample:\n",
    "            c_out = c_in\n",
    "            \n",
    "        # Network representing F\n",
    "        self.net = nn.Sequential(\n",
    "            nn.Conv2d(c_in, c_out, kernel_size=3, padding=1, stride=1 if not subsample else 2, bias=False),  # No bias needed as the Batch Norm handles it\n",
    "            nn.BatchNorm2d(c_out),\n",
    "            act_fn(),\n",
    "            nn.Conv2d(c_out, c_out, kernel_size=3, padding=1, bias=False),\n",
    "            nn.BatchNorm2d(c_out)\n",
    "        )\n",
    "        \n",
    "        # 1x1 convolution with stride 2 means we take the upper left value, and transform it to new output size\n",
    "        self.downsample = nn.Conv2d(c_in, c_out, kernel_size=1, stride=2) if subsample else None\n",
    "        self.act_fn = act_fn()\n",
    "\n",
    "    def forward(self, x):\n",
    "        z = self.net(x)\n",
    "        if self.downsample is not None:\n",
    "            x = self.downsample(x)\n",
    "        out = z + x\n",
    "        out = self.act_fn(out)\n",
    "        return out"
   ]
  },
  {
   "cell_type": "markdown",
   "metadata": {},
   "source": [
    "The second block we implement is the pre-activation ResNet block. For this, we have to change the order of layer in `self.net`, and do not apply an activation function on the output. Additionally, the downsampling operation has to apply a non-linearity as well as the input, $x_l$, has not been processed by a non-linearity yet. Hence, the block looks as follows:"
   ]
  },
  {
   "cell_type": "code",
   "execution_count": 23,
   "metadata": {},
   "outputs": [],
   "source": [
    "class PreActResNetBlock(nn.Module):\n",
    "\n",
    "    def __init__(self, c_in, act_fn, subsample=False, c_out=-1):\n",
    "        \"\"\"\n",
    "        Inputs:\n",
    "            c_in - Number of input features\n",
    "            act_fn - Activation class constructor (e.g. nn.ReLU)\n",
    "            subsample - If True, we want to apply a stride inside the block and reduce the output shape by 2 in height and width\n",
    "            c_out - Number of output features. Note that this is only relevant if subsample is True, as otherwise, c_out = c_in\n",
    "        \"\"\"\n",
    "        super().__init__()\n",
    "        if not subsample:\n",
    "            c_out = c_in\n",
    "            \n",
    "        # Network representing F\n",
    "        self.net = nn.Sequential(\n",
    "            nn.BatchNorm2d(c_in),\n",
    "            act_fn(),\n",
    "            nn.Conv2d(c_in, c_out, kernel_size=3, padding=1, stride=1 if not subsample else 2, bias=False),\n",
    "            nn.BatchNorm2d(c_out),\n",
    "            act_fn(),\n",
    "            nn.Conv2d(c_out, c_out, kernel_size=3, padding=1, bias=False)\n",
    "        )\n",
    "        \n",
    "        # 1x1 convolution needs to apply non-linearity as well as not done on skip connection\n",
    "        self.downsample = nn.Sequential(\n",
    "            nn.BatchNorm2d(c_in),\n",
    "            act_fn(),\n",
    "            nn.Conv2d(c_in, c_out, kernel_size=1, stride=2, bias=False)\n",
    "        ) if subsample else None\n",
    "\n",
    "    def forward(self, x):\n",
    "        z = self.net(x)\n",
    "        if self.downsample is not None:\n",
    "            x = self.downsample(x)\n",
    "        out = z + x\n",
    "        return out"
   ]
  },
  {
   "cell_type": "markdown",
   "metadata": {},
   "source": [
    "Similarly to the model selection, we define a dictionary to create a mapping from string to block class. We will use the string name as hyperparameter value in our model to choose between the ResNet blocks. Feel free to implement any other ResNet block type and add it here as well."
   ]
  },
  {
   "cell_type": "code",
   "execution_count": 24,
   "metadata": {},
   "outputs": [],
   "source": [
    "resnet_blocks_by_name = {\n",
    "    \"ResNetBlock\": ResNetBlock,\n",
    "    \"PreActResNetBlock\": PreActResNetBlock\n",
    "}"
   ]
  },
  {
   "cell_type": "markdown",
   "metadata": {},
   "source": [
    "The overall ResNet architecture consists of stacking multiple ResNet blocks, of which some are downsampling the input. When talking about ResNet blocks in the whole network, we usually group them by the same output shape. Hence, if we say the ResNet has `[3,3,3]` blocks, it means that we have 3 times a group of 3 ResNet blocks, where a subsampling is taking place in the fourth and seventh block. The ResNet with `[3,3,3]` blocks on CIFAR10 is visualized below.\n",
    "\n",
    "<center width=\"100%\"><img src=\"resnet_notation.svg\" width=\"500px\"></center>\n",
    "\n",
    "The three groups operate on the resolutions $32\\times32$, $16\\times16$ and $8\\times8$ respectively. The blocks in orange denote ResNet blocks with downsampling. The same notation is used by many other implementations such as in the [torchvision library](https://pytorch.org/docs/stable/_modules/torchvision/models/resnet.html#resnet18) from PyTorch. Thus, our code looks as follows:"
   ]
  },
  {
   "cell_type": "code",
   "execution_count": 25,
   "metadata": {},
   "outputs": [],
   "source": [
    "class ResNet(nn.Module):\n",
    "\n",
    "    def __init__(self, num_classes=10, num_blocks=[3,3,3], c_hidden=[16,32,64], act_fn_name=\"relu\", block_name=\"ResNetBlock\", **kwargs):\n",
    "        \"\"\"\n",
    "        Inputs: \n",
    "            num_classes - Number of classification outputs (10 for CIFAR10)\n",
    "            num_blocks - List with the number of ResNet blocks to use. The first block of each group uses downsampling, except the first.\n",
    "            c_hidden - List with the hidden dimensionalities in the different blocks. Usually multiplied by 2 the deeper we go.\n",
    "            act_fn_name - Name of the activation function to use, looked up in \"act_fn_by_name\"\n",
    "            block_name - Name of the ResNet block, looked up in \"resnet_blocks_by_name\"\n",
    "        \"\"\"\n",
    "        super().__init__()\n",
    "        assert block_name in resnet_blocks_by_name\n",
    "        self.hparams = SimpleNamespace(num_classes=num_classes, \n",
    "                                       c_hidden=c_hidden, \n",
    "                                       num_blocks=num_blocks, \n",
    "                                       act_fn_name=act_fn_name,\n",
    "                                       act_fn=act_fn_by_name[act_fn_name],\n",
    "                                       block_class=resnet_blocks_by_name[block_name])\n",
    "        self._create_network()\n",
    "        self._init_params()\n",
    "\n",
    "    def _create_network(self):\n",
    "        c_hidden = self.hparams.c_hidden\n",
    "        \n",
    "        # A first convolution on the original image to scale up the channel size\n",
    "        if self.hparams.block_class == PreActResNetBlock: # => Don't apply non-linearity on output\n",
    "            self.input_net = nn.Sequential(\n",
    "                nn.Conv2d(3, c_hidden[0], kernel_size=3, padding=1, bias=False)\n",
    "            )\n",
    "        else:\n",
    "            self.input_net = nn.Sequential(\n",
    "                nn.Conv2d(3, c_hidden[0], kernel_size=3, padding=1, bias=False),\n",
    "                nn.BatchNorm2d(c_hidden[0]),\n",
    "                self.hparams.act_fn()\n",
    "            )\n",
    "        \n",
    "        # Creating the ResNet blocks\n",
    "        blocks = []\n",
    "        for block_idx, block_count in enumerate(self.hparams.num_blocks):\n",
    "            for bc in range(block_count):\n",
    "                subsample = (bc == 0 and block_idx > 0) # Subsample the first block of each group, except the very first one.\n",
    "                blocks.append(\n",
    "                    self.hparams.block_class(c_in=c_hidden[block_idx if not subsample else (block_idx-1)],\n",
    "                                             act_fn=self.hparams.act_fn,\n",
    "                                             subsample=subsample,\n",
    "                                             c_out=c_hidden[block_idx])\n",
    "                )\n",
    "        self.blocks = nn.Sequential(*blocks)\n",
    "        \n",
    "        # Mapping to classification output\n",
    "        self.output_net = nn.Sequential(\n",
    "            nn.AdaptiveAvgPool2d((1,1)),\n",
    "            nn.Flatten(),\n",
    "            nn.Linear(c_hidden[-1], self.hparams.num_classes)\n",
    "        )\n",
    "\n",
    "    def _init_params(self):\n",
    "        # Based on our discussion in Tutorial 4, we should initialize the convolutions according to the activation function\n",
    "        # Fan-out focuses on the gradient distribution, and is commonly used in ResNets\n",
    "        for m in self.modules():\n",
    "            if isinstance(m, nn.Conv2d):\n",
    "                nn.init.kaiming_normal_(m.weight, mode='fan_out', nonlinearity=self.hparams.act_fn_name)\n",
    "            elif isinstance(m, nn.BatchNorm2d):\n",
    "                nn.init.constant_(m.weight, 1)\n",
    "                nn.init.constant_(m.bias, 0)\n",
    "\n",
    "    def forward(self, x):\n",
    "        x = self.input_net(x)\n",
    "        x = self.blocks(x)\n",
    "        x = self.output_net(x)\n",
    "        return x"
   ]
  },
  {
   "cell_type": "markdown",
   "metadata": {},
   "source": [
    "We also need to add the new ResNet class to our model dictionary:"
   ]
  },
  {
   "cell_type": "code",
   "execution_count": 26,
   "metadata": {},
   "outputs": [],
   "source": [
    "model_dict[\"ResNet\"] = ResNet"
   ]
  },
  {
   "cell_type": "markdown",
   "metadata": {},
   "source": [
    "Finally, we can train our ResNet models. One difference to the GoogleNet training is that we explicitly use SGD with Momentum as optimizer instead of Adam. Adam often leads to a slightly worse accuracy on plain, shallow ResNets. It is not 100% clear why Adam performs worse in this context, but one possible explanation is related to ResNet's loss surface. ResNet has been shown to produce smoother loss surfaces than networks without skip connection (see [Li et al., 2018](https://arxiv.org/pdf/1712.09913.pdf) for details). A possible visualization of the loss surface with/out skip connections is below (figure credit - [Li et al.](https://arxiv.org/pdf/1712.09913.pdf)):\n",
    "\n",
    "<center width=\"100%\"><img src=\"resnet_loss_surface.svg\" style=\"display: block; margin-left: auto; margin-right: auto;\" width=\"600px\"/></center>\n",
    "\n",
    "The $x$ and $y$ axis shows a projection of the parameter space, and the $z$ axis shows the loss values achieved by different parameter values. On smooth surfaces like the one on the right, we might not require an adaptive learning rate as Adam provides. Instead, Adam can get stuck in local optima while SGD finds the wider minima that tend to generalize better.\n",
    "However, to answer this question in detail, we would need an extra tutorial because it is not easy to answer. For now, we conclude: for ResNet architectures, consider the optimizer to be an important hyperparameter, and try training with both Adam and SGD. Let's train the model below with SGD:"
   ]
  },
  {
   "cell_type": "code",
   "execution_count": 27,
   "metadata": {},
   "outputs": [
    {
     "name": "stderr",
     "output_type": "stream",
     "text": [
      "GPU available: True, used: True\n",
      "TPU available: False, using: 0 TPU cores\n",
      "IPU available: False, using: 0 IPUs\n",
      "/home/arijit/miniconda3/lib/python3.9/site-packages/pytorch_lightning/trainer/trainer.py:678: LightningDeprecationWarning: `trainer.test(test_dataloaders)` is deprecated in v1.4 and will be removed in v1.6. Use `trainer.test(dataloaders)` instead.\n",
      "  rank_zero_deprecation(\n",
      "LOCAL_RANK: 0 - CUDA_VISIBLE_DEVICES: [0]\n"
     ]
    },
    {
     "name": "stdout",
     "output_type": "stream",
     "text": [
      "Found pretrained model at ../saved_models/tutorial5/ResNet.ckpt, loading...\n"
     ]
    },
    {
     "data": {
      "application/vnd.jupyter.widget-view+json": {
       "model_id": "e36b6ea946c946b0a5c6e7010ebf5a09",
       "version_major": 2,
       "version_minor": 0
      },
      "text/plain": [
       "Testing: 0it [00:00, ?it/s]"
      ]
     },
     "metadata": {},
     "output_type": "display_data"
    },
    {
     "name": "stderr",
     "output_type": "stream",
     "text": [
      "LOCAL_RANK: 0 - CUDA_VISIBLE_DEVICES: [0]\n"
     ]
    },
    {
     "data": {
      "application/vnd.jupyter.widget-view+json": {
       "model_id": "e1420116bf3145fa882b364a98c6ee06",
       "version_major": 2,
       "version_minor": 0
      },
      "text/plain": [
       "Testing: 0it [00:00, ?it/s]"
      ]
     },
     "metadata": {},
     "output_type": "display_data"
    }
   ],
   "source": [
    "resnet_model, resnet_results = train_model(model_name=\"ResNet\", \n",
    "                                           model_hparams={\"num_classes\": 10,\n",
    "                                                          \"c_hidden\": [16,32,64],\n",
    "                                                          \"num_blocks\": [3,3,3],\n",
    "                                                          \"act_fn_name\": \"relu\"}, \n",
    "                                           optimizer_name=\"SGD\",\n",
    "                                           optimizer_hparams={\"lr\": 0.1,\n",
    "                                                              \"momentum\": 0.9,\n",
    "                                                              \"weight_decay\": 1e-4})"
   ]
  },
  {
   "cell_type": "markdown",
   "metadata": {},
   "source": [
    "Let's also train the pre-activation ResNet as comparison:"
   ]
  },
  {
   "cell_type": "code",
   "execution_count": 28,
   "metadata": {},
   "outputs": [
    {
     "name": "stderr",
     "output_type": "stream",
     "text": [
      "GPU available: True, used: True\n",
      "TPU available: False, using: 0 TPU cores\n",
      "IPU available: False, using: 0 IPUs\n",
      "LOCAL_RANK: 0 - CUDA_VISIBLE_DEVICES: [0]\n"
     ]
    },
    {
     "name": "stdout",
     "output_type": "stream",
     "text": [
      "Found pretrained model at ../saved_models/tutorial5/ResNetPreAct.ckpt, loading...\n"
     ]
    },
    {
     "data": {
      "application/vnd.jupyter.widget-view+json": {
       "model_id": "9cb29e43962a4fbf92c621bb9e5699c1",
       "version_major": 2,
       "version_minor": 0
      },
      "text/plain": [
       "Testing: 0it [00:00, ?it/s]"
      ]
     },
     "metadata": {},
     "output_type": "display_data"
    },
    {
     "name": "stderr",
     "output_type": "stream",
     "text": [
      "LOCAL_RANK: 0 - CUDA_VISIBLE_DEVICES: [0]\n"
     ]
    },
    {
     "data": {
      "application/vnd.jupyter.widget-view+json": {
       "model_id": "1e14277e3c4542f68a63a7eb9fea73d0",
       "version_major": 2,
       "version_minor": 0
      },
      "text/plain": [
       "Testing: 0it [00:00, ?it/s]"
      ]
     },
     "metadata": {},
     "output_type": "display_data"
    }
   ],
   "source": [
    "resnetpreact_model, resnetpreact_results = train_model(model_name=\"ResNet\", \n",
    "                                                       model_hparams={\"num_classes\": 10,\n",
    "                                                                      \"c_hidden\": [16,32,64],\n",
    "                                                                      \"num_blocks\": [3,3,3],\n",
    "                                                                      \"act_fn_name\": \"relu\",\n",
    "                                                                      \"block_name\": \"PreActResNetBlock\"}, \n",
    "                                                       optimizer_name=\"SGD\",\n",
    "                                                       optimizer_hparams={\"lr\": 0.1,\n",
    "                                                                          \"momentum\": 0.9,\n",
    "                                                                          \"weight_decay\": 1e-4},\n",
    "                                                       save_name=\"ResNetPreAct\")"
   ]
  },
  {
   "cell_type": "markdown",
   "metadata": {},
   "source": [
    "### Tensorboard log\n",
    "\n",
    "Similarly to our GoogleNet model, we also have a TensorBoard log for the ResNet model. We can open it below."
   ]
  },
  {
   "cell_type": "code",
   "execution_count": 29,
   "metadata": {},
   "outputs": [
    {
     "data": {
      "text/html": [
       "\n",
       "      <iframe id=\"tensorboard-frame-bdd640fb06671ad1\" width=\"100%\" height=\"800\" frameborder=\"0\">\n",
       "      </iframe>\n",
       "      <script>\n",
       "        (function() {\n",
       "          const frame = document.getElementById(\"tensorboard-frame-bdd640fb06671ad1\");\n",
       "          const url = new URL(\"/\", window.location);\n",
       "          const port = 6007;\n",
       "          if (port) {\n",
       "            url.port = port;\n",
       "          }\n",
       "          frame.src = url;\n",
       "        })();\n",
       "      </script>\n",
       "    "
      ],
      "text/plain": [
       "<IPython.core.display.HTML object>"
      ]
     },
     "metadata": {},
     "output_type": "display_data"
    }
   ],
   "source": [
    "# Opens tensorboard in notebook. Adjust the path to your CHECKPOINT_PATH! Feel free to change \"ResNet\" to \"ResNetPreAct\"\n",
    "%tensorboard --logdir ../saved_models/tutorial5/tensorboards/ResNet/"
   ]
  },
  {
   "cell_type": "markdown",
   "metadata": {},
   "source": [
    "<center width=\"100%\"><img src=\"tensorboard_screenshot_ResNet.png\" width=\"1000px\"></center>\n",
    "\n",
    "Feel free to explore the TensorBoard yourself, including the computation graph. In general, we can see that with SGD, the ResNet has a higher training loss than the GoogleNet in the first stage of the training. After reducing the learning rate however, the model achieves even higher validation accuracies. We compare the precise scores at the end of the notebook."
   ]
  },
  {
   "cell_type": "markdown",
   "metadata": {},
   "source": [
    "## DenseNet\n",
    "\n",
    "[DenseNet](https://arxiv.org/abs/1608.06993) is another architecture for enabling very deep neural networks and takes a slightly different perspective on residual connections. Instead of modeling the difference between layers, DenseNet considers residual connections as a possible way to reuse features across layers, removing any necessity to learn redundant feature maps. If we go deeper into the network, the model learns abstract features to recognize patterns. However, some complex patterns consist of a combination of abstract features (e.g. hand, face, etc.), and low-level features (e.g. edges, basic color, etc.). To find these low-level features in the deep layers, standard CNNs have to learn copy such feature maps, which wastes a lot of parameter complexity. DenseNet provides an efficient way of reusing features by having each convolution depends on all previous input features, but add only a small amount of filters to it. See the figure below for an illustration (figure credit - [Hu et al.](https://arxiv.org/abs/1608.06993)):\n",
    "\n",
    "<center width=\"100%\"><img src=\"densenet_block.svg\" style=\"display: block; margin-left: auto; margin-right: auto;\" width=\"500px\"/></center>\n",
    "\n",
    "The last layer, called the transition layer, is responsible for reducing the dimensionality of the feature maps in height, width, and channel size. Although those technically break the identity backpropagation, there are only a few in a network so that it doesn't affect the gradient flow much. \n",
    "\n",
    "We split the implementation of the layers in DenseNet into three parts: a `DenseLayer`, and a `DenseBlock`, and a `TransitionLayer`. The module `DenseLayer` implements a single layer inside a dense block. It applies a 1x1 convolution for dimensionality reduction with a subsequential 3x3 convolution. The output channels are concatenated to the originals and returned. Note that we apply the Batch Normalization as the first layer of each block. This allows slightly different activations for the same features to different layers, depending on what is needed. Overall, we can implement it as follows:"
   ]
  },
  {
   "cell_type": "code",
   "execution_count": 30,
   "metadata": {},
   "outputs": [],
   "source": [
    "class DenseLayer(nn.Module):\n",
    "    \n",
    "    def __init__(self, c_in, bn_size, growth_rate, act_fn):\n",
    "        \"\"\"\n",
    "        Inputs:\n",
    "            c_in - Number of input channels\n",
    "            bn_size - Bottleneck size (factor of growth rate) for the output of the 1x1 convolution. Typically between 2 and 4.\n",
    "            growth_rate - Number of output channels of the 3x3 convolution\n",
    "            act_fn - Activation class constructor (e.g. nn.ReLU)\n",
    "        \"\"\"\n",
    "        super().__init__()\n",
    "        self.net = nn.Sequential(\n",
    "            nn.BatchNorm2d(c_in),\n",
    "            act_fn(),\n",
    "            nn.Conv2d(c_in, bn_size * growth_rate, kernel_size=1, bias=False),\n",
    "            nn.BatchNorm2d(bn_size * growth_rate),\n",
    "            act_fn(),\n",
    "            nn.Conv2d(bn_size * growth_rate, growth_rate, kernel_size=3, padding=1, bias=False)\n",
    "        )\n",
    "        \n",
    "    def forward(self, x):\n",
    "        out = self.net(x)\n",
    "        out = torch.cat([out, x], dim=1)\n",
    "        return out"
   ]
  },
  {
   "cell_type": "markdown",
   "metadata": {},
   "source": [
    "The module `DenseBlock` summarizes multiple dense layers applied in sequence. Each dense layer takes as input the original input concatenated with all previous layers' feature maps:"
   ]
  },
  {
   "cell_type": "code",
   "execution_count": 31,
   "metadata": {},
   "outputs": [],
   "source": [
    "class DenseBlock(nn.Module):\n",
    "    \n",
    "    def __init__(self, c_in, num_layers, bn_size, growth_rate, act_fn):\n",
    "        \"\"\"\n",
    "        Inputs:\n",
    "            c_in - Number of input channels\n",
    "            num_layers - Number of dense layers to apply in the block\n",
    "            bn_size - Bottleneck size to use in the dense layers\n",
    "            growth_rate - Growth rate to use in the dense layers\n",
    "            act_fn - Activation function to use in the dense layers\n",
    "        \"\"\"\n",
    "        super().__init__()\n",
    "        layers = []\n",
    "        for layer_idx in range(num_layers):\n",
    "            layers.append(\n",
    "                DenseLayer(c_in=c_in + layer_idx * growth_rate, # Input channels are original plus the feature maps from previous layers\n",
    "                           bn_size=bn_size,\n",
    "                           growth_rate=growth_rate,\n",
    "                           act_fn=act_fn)\n",
    "            )\n",
    "        self.block = nn.Sequential(*layers)\n",
    "        \n",
    "    def forward(self, x):\n",
    "        out = self.block(x)\n",
    "        return out"
   ]
  },
  {
   "cell_type": "markdown",
   "metadata": {},
   "source": [
    "Finally, the `TransitionLayer` takes as input the final output of a dense block and reduces its channel dimensionality using a 1x1 convolution. To reduce the height and width dimension, we take a slightly different approach than in ResNet and apply an average pooling with kernel size 2 and stride 2. This is because we don't have an additional connection to the output that would consider the full 2x2 patch instead of a single value. Besides, it is more parameter efficient than using a 3x3 convolution with stride 2. Thus, the layer is implemented as follows:"
   ]
  },
  {
   "cell_type": "code",
   "execution_count": 32,
   "metadata": {},
   "outputs": [],
   "source": [
    "class TransitionLayer(nn.Module):\n",
    "    \n",
    "    def __init__(self, c_in, c_out, act_fn):\n",
    "        super().__init__()\n",
    "        self.transition = nn.Sequential(\n",
    "            nn.BatchNorm2d(c_in),\n",
    "            act_fn(),\n",
    "            nn.Conv2d(c_in, c_out, kernel_size=1, bias=False),\n",
    "            nn.AvgPool2d(kernel_size=2, stride=2) # Average the output for each 2x2 pixel group\n",
    "        )\n",
    "        \n",
    "    def forward(self, x):\n",
    "        return self.transition(x)"
   ]
  },
  {
   "cell_type": "markdown",
   "metadata": {},
   "source": [
    "Now we can put everything together and create our DenseNet. To specify the number of layers, we use a similar notation as in ResNets and pass on a list of ints representing the number of layers per block. After each dense block except the last one, we apply a transition layer to reduce the dimensionality by 2. "
   ]
  },
  {
   "cell_type": "code",
   "execution_count": 33,
   "metadata": {},
   "outputs": [],
   "source": [
    "class DenseNet(nn.Module):\n",
    "    \n",
    "    def __init__(self, num_classes=10, num_layers=[6,6,6,6], bn_size=2, growth_rate=16, act_fn_name=\"relu\", **kwargs):\n",
    "        super().__init__()\n",
    "        self.hparams = SimpleNamespace(num_classes=num_classes,\n",
    "                                       num_layers=num_layers,\n",
    "                                       bn_size=bn_size,\n",
    "                                       growth_rate=growth_rate,\n",
    "                                       act_fn_name=act_fn_name,\n",
    "                                       act_fn=act_fn_by_name[act_fn_name])\n",
    "        self._create_network()\n",
    "        self._init_params()\n",
    "        \n",
    "    def _create_network(self):\n",
    "        c_hidden = self.hparams.growth_rate * self.hparams.bn_size # The start number of hidden channels\n",
    "        \n",
    "        # A first convolution on the original image to scale up the channel size\n",
    "        self.input_net = nn.Sequential(\n",
    "            nn.Conv2d(3, c_hidden, kernel_size=3, padding=1) # No batch norm or activation function as done inside the Dense layers\n",
    "        )\n",
    "        \n",
    "        # Creating the dense blocks, eventually including transition layers\n",
    "        blocks = []\n",
    "        for block_idx, num_layers in enumerate(self.hparams.num_layers):\n",
    "            blocks.append( \n",
    "                DenseBlock(c_in=c_hidden, \n",
    "                           num_layers=num_layers, \n",
    "                           bn_size=self.hparams.bn_size,\n",
    "                           growth_rate=self.hparams.growth_rate,\n",
    "                           act_fn=self.hparams.act_fn)\n",
    "            )\n",
    "            c_hidden = c_hidden + num_layers * self.hparams.growth_rate # Overall output of the dense block\n",
    "            if block_idx < len(self.hparams.num_layers)-1: # Don't apply transition layer on last block\n",
    "                blocks.append(\n",
    "                    TransitionLayer(c_in=c_hidden,\n",
    "                                    c_out=c_hidden // 2,\n",
    "                                    act_fn=self.hparams.act_fn))\n",
    "                c_hidden = c_hidden // 2\n",
    "                \n",
    "        self.blocks = nn.Sequential(*blocks)\n",
    "        \n",
    "        # Mapping to classification output\n",
    "        self.output_net = nn.Sequential(\n",
    "            nn.BatchNorm2d(c_hidden), # The features have not passed a non-linearity until here.\n",
    "            self.hparams.act_fn(),\n",
    "            nn.AdaptiveAvgPool2d((1,1)),\n",
    "            nn.Flatten(),\n",
    "            nn.Linear(c_hidden, self.hparams.num_classes)\n",
    "        )\n",
    "\n",
    "    def _init_params(self):\n",
    "        # Based on our discussion in Tutorial 4, we should initialize the convolutions according to the activation function\n",
    "        for m in self.modules():\n",
    "            if isinstance(m, nn.Conv2d):\n",
    "                nn.init.kaiming_normal_(m.weight, nonlinearity=self.hparams.act_fn_name)\n",
    "            elif isinstance(m, nn.BatchNorm2d):\n",
    "                nn.init.constant_(m.weight, 1)\n",
    "                nn.init.constant_(m.bias, 0)\n",
    "\n",
    "    def forward(self, x):\n",
    "        x = self.input_net(x)\n",
    "        x = self.blocks(x)\n",
    "        x = self.output_net(x)\n",
    "        return x"
   ]
  },
  {
   "cell_type": "markdown",
   "metadata": {},
   "source": [
    "Let's also add the DenseNet to our model dictionary:"
   ]
  },
  {
   "cell_type": "code",
   "execution_count": 34,
   "metadata": {},
   "outputs": [],
   "source": [
    "model_dict[\"DenseNet\"] = DenseNet"
   ]
  },
  {
   "cell_type": "markdown",
   "metadata": {},
   "source": [
    "Lastly, we train our network. In contrast to ResNet, DenseNet does not show any issues with Adam, and hence we train it with this optimizer. The other hyperparameters are chosen to result in a network with a similar parameter size as the ResNet and GoogleNet. Commonly, when designing very deep networks, DenseNet is more parameter efficient than ResNet while achieving a similar or even better performance."
   ]
  },
  {
   "cell_type": "code",
   "execution_count": 35,
   "metadata": {},
   "outputs": [
    {
     "name": "stderr",
     "output_type": "stream",
     "text": [
      "GPU available: True, used: True\n",
      "TPU available: False, using: 0 TPU cores\n",
      "IPU available: False, using: 0 IPUs\n",
      "/home/arijit/miniconda3/lib/python3.9/site-packages/pytorch_lightning/trainer/trainer.py:678: LightningDeprecationWarning: `trainer.test(test_dataloaders)` is deprecated in v1.4 and will be removed in v1.6. Use `trainer.test(dataloaders)` instead.\n",
      "  rank_zero_deprecation(\n",
      "LOCAL_RANK: 0 - CUDA_VISIBLE_DEVICES: [0]\n"
     ]
    },
    {
     "name": "stdout",
     "output_type": "stream",
     "text": [
      "Found pretrained model at ../saved_models/tutorial5/DenseNet.ckpt, loading...\n"
     ]
    },
    {
     "data": {
      "application/vnd.jupyter.widget-view+json": {
       "model_id": "bc6714514653487fbe5e076c137cce83",
       "version_major": 2,
       "version_minor": 0
      },
      "text/plain": [
       "Testing: 0it [00:00, ?it/s]"
      ]
     },
     "metadata": {},
     "output_type": "display_data"
    },
    {
     "name": "stderr",
     "output_type": "stream",
     "text": [
      "LOCAL_RANK: 0 - CUDA_VISIBLE_DEVICES: [0]\n"
     ]
    },
    {
     "data": {
      "application/vnd.jupyter.widget-view+json": {
       "model_id": "6faf3fb2e84045d684d591e2d8843a84",
       "version_major": 2,
       "version_minor": 0
      },
      "text/plain": [
       "Testing: 0it [00:00, ?it/s]"
      ]
     },
     "metadata": {},
     "output_type": "display_data"
    }
   ],
   "source": [
    "densenet_model, densenet_results = train_model(model_name=\"DenseNet\", \n",
    "                                               model_hparams={\"num_classes\": 10,\n",
    "                                                              \"num_layers\": [6,6,6,6],\n",
    "                                                              \"bn_size\": 2,\n",
    "                                                              \"growth_rate\": 16,\n",
    "                                                              \"act_fn_name\": \"relu\"}, \n",
    "                                               optimizer_name=\"Adam\",\n",
    "                                               optimizer_hparams={\"lr\": 1e-3,\n",
    "                                                                  \"weight_decay\": 1e-4})"
   ]
  },
  {
   "cell_type": "markdown",
   "metadata": {},
   "source": [
    "### Tensorboard log\n",
    "\n",
    "Finally, we also have another TensorBoard for the DenseNet training. We take a look at it below:"
   ]
  },
  {
   "cell_type": "code",
   "execution_count": 36,
   "metadata": {
    "scrolled": false
   },
   "outputs": [
    {
     "data": {
      "text/html": [
       "\n",
       "      <iframe id=\"tensorboard-frame-3eb13b9046685257\" width=\"100%\" height=\"800\" frameborder=\"0\">\n",
       "      </iframe>\n",
       "      <script>\n",
       "        (function() {\n",
       "          const frame = document.getElementById(\"tensorboard-frame-3eb13b9046685257\");\n",
       "          const url = new URL(\"/\", window.location);\n",
       "          const port = 6008;\n",
       "          if (port) {\n",
       "            url.port = port;\n",
       "          }\n",
       "          frame.src = url;\n",
       "        })();\n",
       "      </script>\n",
       "    "
      ],
      "text/plain": [
       "<IPython.core.display.HTML object>"
      ]
     },
     "metadata": {},
     "output_type": "display_data"
    }
   ],
   "source": [
    "# Opens tensorboard in notebook. Adjust the path to your CHECKPOINT_PATH! Feel free to change \"ResNet\" to \"ResNetPreAct\"\n",
    "%tensorboard --logdir ../saved_models/tutorial5/tensorboards/DenseNet/"
   ]
  },
  {
   "cell_type": "markdown",
   "metadata": {},
   "source": [
    "<center width=\"100%\"><img src=\"tensorboard_screenshot_DenseNet.png\" width=\"1000px\"></center>\n",
    "\n",
    "The overall course of the validation accuracy and training loss resemble the training of GoogleNet, which is also related to training the network with Adam. Feel free to explore the training metrics yourself."
   ]
  },
  {
   "cell_type": "markdown",
   "metadata": {},
   "source": [
    "## Conclusion and Comparison\n",
    "\n",
    "After discussing each model separately, and training all of them, we can finally compare them. First, let's organize the results of all models in a table:"
   ]
  },
  {
   "cell_type": "code",
   "execution_count": 37,
   "metadata": {},
   "outputs": [
    {
     "data": {
      "text/html": [
       "<!-- Some HTML code to increase font size in the following table -->\n",
       "<style>\n",
       "th {font-size: 120%;}\n",
       "td {font-size: 120%;}\n",
       "</style>\n"
      ],
      "text/plain": [
       "<IPython.core.display.HTML object>"
      ]
     },
     "metadata": {},
     "output_type": "display_data"
    }
   ],
   "source": [
    "%%html\n",
    "<!-- Some HTML code to increase font size in the following table -->\n",
    "<style>\n",
    "th {font-size: 120%;}\n",
    "td {font-size: 120%;}\n",
    "</style>"
   ]
  },
  {
   "cell_type": "code",
   "execution_count": 38,
   "metadata": {},
   "outputs": [
    {
     "data": {
      "text/html": [
       "<table>\n",
       "<thead>\n",
       "<tr><th>Model       </th><th>Val Accuracy  </th><th>Test Accuracy  </th><th>Num Parameters  </th></tr>\n",
       "</thead>\n",
       "<tbody>\n",
       "<tr><td>GoogleNet   </td><td>90.40%        </td><td>89.71%         </td><td>260,650         </td></tr>\n",
       "<tr><td>ResNet      </td><td>91.84%        </td><td>91.07%         </td><td>272,378         </td></tr>\n",
       "<tr><td>ResNetPreAct</td><td>91.80%        </td><td>91.08%         </td><td>272,250         </td></tr>\n",
       "<tr><td>DenseNet    </td><td>90.70%        </td><td>90.23%         </td><td>239,146         </td></tr>\n",
       "</tbody>\n",
       "</table>"
      ],
      "text/plain": [
       "<IPython.core.display.HTML object>"
      ]
     },
     "metadata": {},
     "output_type": "display_data"
    }
   ],
   "source": [
    "import tabulate\n",
    "from IPython.display import display, HTML\n",
    "all_models = [\n",
    "    (\"GoogleNet\", googlenet_results, googlenet_model),\n",
    "    (\"ResNet\", resnet_results, resnet_model),\n",
    "    (\"ResNetPreAct\", resnetpreact_results, resnetpreact_model),\n",
    "    (\"DenseNet\", densenet_results, densenet_model)\n",
    "]\n",
    "table = [[model_name,\n",
    "          f\"{100.0*model_results['val']:4.2f}%\",\n",
    "          f\"{100.0*model_results['test']:4.2f}%\",\n",
    "          \"{:,}\".format(sum([np.prod(p.shape) for p in model.parameters()]))]\n",
    "         for model_name, model_results, model in all_models]\n",
    "display(HTML(tabulate.tabulate(table, tablefmt='html', headers=[\"Model\", \"Val Accuracy\", \"Test Accuracy\", \"Num Parameters\"])))"
   ]
  },
  {
   "cell_type": "markdown",
   "metadata": {},
   "source": [
    "First of all, we see that all models are performing reasonably well. Simple models as you have implemented them in the practical achieve considerably lower performance, which is beside the lower number of parameters also attributed to the architecture design choice. GoogleNet is the model to obtain the lowest performance on the validation and test set, although it is very close to DenseNet. A proper hyperparameter search over all the channel sizes in GoogleNet would likely improve the accuracy of the model to a similar level, but this is also expensive given a large number of hyperparameters. ResNet outperforms both DenseNet and GoogleNet by more than 1% on the validation set, while there is a minor difference between both versions, original and pre-activation. We can conclude that for shallow networks, the place of the activation function does not seem to be crucial, although papers have reported the contrary for very deep networks (e.g. [He et al.](https://arxiv.org/abs/1603.05027)). \n",
    "\n",
    "In general, we can conclude that ResNet is a simple, but powerful architecture. If we would apply the models on more complex tasks with larger images and more layers inside the networks, we would likely see a bigger gap between GoogleNet and skip-connection architectures like ResNet and DenseNet. A comparison with deeper models on CIFAR10 can be for example found [here](https://github.com/kuangliu/pytorch-cifar). Interestingly, DenseNet outperforms the original ResNet on their setup but comes closely behind the Pre-Activation ResNet. The best model, a Dual Path Network ([Chen et. al](https://arxiv.org/abs/1707.01629)), is actually a combination of ResNet and DenseNet showing that both offer different advantages."
   ]
  },
  {
   "cell_type": "markdown",
   "metadata": {},
   "source": [
    "### Which model should I choose for my task?\n",
    "\n",
    "We have reviewed four different models. So, which one should we choose if have given a new task? Usually, starting with a ResNet is a good idea given the superior performance of the CIFAR dataset and its simple implementation. Besides, for the parameter number we have chosen here, ResNet is the fastest as DenseNet and GoogleNet have many more layers that are applied in sequence in our primitive implementation. However, if you have a really difficult task, such as semantic segmentation on HD images, more complex variants of ResNet and DenseNet are recommended.  "
   ]
  }
 ],
 "metadata": {
  "kernelspec": {
   "display_name": "Python 3 (ipykernel)",
   "language": "python",
   "name": "python3"
  },
  "language_info": {
   "codemirror_mode": {
    "name": "ipython",
    "version": 3
   },
   "file_extension": ".py",
   "mimetype": "text/x-python",
   "name": "python",
   "nbconvert_exporter": "python",
   "pygments_lexer": "ipython3",
   "version": "3.9.7"
  }
 },
 "nbformat": 4,
 "nbformat_minor": 4
}
