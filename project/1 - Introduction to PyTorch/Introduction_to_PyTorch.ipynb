{
 "cells": [
  {
   "cell_type": "markdown",
   "metadata": {},
   "source": [
    "# Tutorial 2: Introduction to PyTorch\n",
    "\n",
    "![Status](https://img.shields.io/static/v1.svg?label=Status&message=Finished&color=green)\n",
    "\n",
    "**Filled notebook:** \n",
    "[![View filled on Github](https://img.shields.io/static/v1.svg?logo=github&label=Repo&message=View%20On%20Github&color=lightgrey)](https://github.com/phlippe/uvadlc_notebooks/blob/master/docs/tutorial_notebooks/tutorial2/Introduction_to_PyTorch.ipynb)\n",
    "[![Open filled In Collab](https://colab.research.google.com/assets/colab-badge.svg)](https://colab.research.google.com/github/phlippe/uvadlc_notebooks/blob/master/docs/tutorial_notebooks/tutorial2/Introduction_to_PyTorch.ipynb)   \n",
    "**Recordings:** \n",
    "[![YouTube - Part 1](https://img.shields.io/static/v1.svg?logo=youtube&label=YouTube&message=Part%201&color=red)](https://youtu.be/wnKZZgFQY-E)\n",
    "[![YouTube - Part 2](https://img.shields.io/static/v1.svg?logo=youtube&label=YouTube&message=Part%202&color=red)](https://youtu.be/schbjeU5X2g)"
   ]
  },
  {
   "cell_type": "markdown",
   "metadata": {},
   "source": [
    "Welcome to our PyTorch tutorial for the Deep Learning course 2021 at the University of Amsterdam! The following notebook is meant to give a short introduction to PyTorch basics, and get you setup for writing your own neural networks. PyTorch is an open source machine learning framework that allows you to write your own neural networks and optimize them efficiently. However, PyTorch is not the only framework of its kind. Alternatives to PyTorch include [TensorFlow](https://www.tensorflow.org/), [JAX](https://github.com/google/jax#quickstart-colab-in-the-cloud) and [Caffe](http://caffe.berkeleyvision.org/). We choose to teach PyTorch at the University of Amsterdam because it is well established, has a huge developer community (originally developed by Facebook), is very flexible and especially used in research. Many current papers publish their code in PyTorch, and thus it is good to be familiar with PyTorch as well. \n",
    "Meanwhile, TensorFlow (developed by Google) is usually known for being a production-grade deep learning library. Still, if you know one machine learning framework in depth, it is very easy to learn another one because many of them use the same concepts and ideas. For instance, TensorFlow's version 2 was heavily inspired by the most popular features of PyTorch, making the frameworks even more similar. \n",
    "If you are already familiar with PyTorch and have created your own neural network projects, feel free to just skim this notebook.\n",
    "\n",
    "We are of course not the first ones to create a PyTorch tutorial. There are many great tutorials online, including the [\"60-min blitz\"](https://pytorch.org/tutorials/beginner/deep_learning_60min_blitz.html) on the official [PyTorch website](https://pytorch.org/tutorials/). Yet, we choose to create our own tutorial which is designed to give you the basics particularly necessary for the practicals, but still understand how PyTorch works under the hood. Over the next few weeks, we will also keep exploring new PyTorch features in the series of Jupyter notebook tutorials about deep learning. \n",
    "\n",
    "We will use a set of standard libraries that are often used in machine learning projects. If you are running this notebook on Google Colab, all libraries should be pre-installed. If you are running this notebook locally, make sure you have installed our `dl2021` environment and have activated it."
   ]
  },
  {
   "cell_type": "code",
   "execution_count": 1,
   "metadata": {
    "pycharm": {
     "is_executing": true
    }
   },
   "outputs": [],
   "source": [
    "## Standard libraries\n",
    "import os\n",
    "import math\n",
    "import numpy as np \n",
    "import time\n",
    "\n",
    "## Imports for plotting\n",
    "import matplotlib.pyplot as plt\n",
    "%matplotlib inline \n",
    "import matplotlib_inline.backend_inline\n",
    "matplotlib_inline.backend_inline.set_matplotlib_formats('svg', 'pdf') # For export\n",
    "from matplotlib.colors import to_rgba\n",
    "import seaborn as sns\n",
    "sns.set()\n",
    "\n",
    "## Progress bar\n",
    "from tqdm.notebook import tqdm"
   ]
  },
  {
   "cell_type": "markdown",
   "metadata": {},
   "source": [
    "## The Basics of PyTorch\n",
    "\n",
    "We will start with reviewing the very basic concepts of PyTorch. As a prerequisite, we recommend to be familiar with the `numpy` package as most machine learning frameworks are based on very similar concepts. If you are not familiar with numpy yet, don't worry: here is a [tutorial](https://numpy.org/devdocs/user/quickstart.html) to go through. \n",
    "\n",
    "So, let's start with importing PyTorch. The package is called `torch`, based on its original framework [Torch](http://torch.ch/). As a first step, we can check its version:"
   ]
  },
  {
   "cell_type": "code",
   "execution_count": 2,
   "metadata": {},
   "outputs": [
    {
     "name": "stdout",
     "output_type": "stream",
     "text": [
      "Using torch 1.10.1\n"
     ]
    }
   ],
   "source": [
    "import torch\n",
    "print(\"Using torch\", torch.__version__)"
   ]
  },
  {
   "cell_type": "markdown",
   "metadata": {},
   "source": [
    "At the time of writing this tutorial (mid of October 2021), the current stable version is 1.10. You should therefore see the output `Using torch 1.10.0` or `Using torch 1.9.0`, eventually with some extension for the CUDA version on Colab. In case you use the `dl2021` environment, you should see `Using torch 1.10.0`. In general, it is recommended to keep the PyTorch version updated to the newest one. If you see a lower version number than 1.9, make sure you have installed the correct the environment, or ask one of your TAs. In case PyTorch 1.11 or newer will be published during the time of the course, don't worry. The interface between PyTorch versions doesn't change too much, and hence all code should also be runnable with newer versions.\n",
    "\n",
    "As in every machine learning framework, PyTorch provides functions that are stochastic like generating random numbers. However, a very good practice is to setup your code to be reproducible with the exact same random numbers. This is why we set a seed below. "
   ]
  },
  {
   "cell_type": "code",
   "execution_count": 3,
   "metadata": {},
   "outputs": [
    {
     "data": {
      "text/plain": [
       "<torch._C.Generator at 0x7f3ea2149190>"
      ]
     },
     "execution_count": 3,
     "metadata": {},
     "output_type": "execute_result"
    }
   ],
   "source": [
    "torch.manual_seed(42) # Setting the seed"
   ]
  },
  {
   "cell_type": "markdown",
   "metadata": {},
   "source": [
    "### Tensors\n",
    "\n",
    "Tensors are the PyTorch equivalent to Numpy arrays, with the addition to also have support for GPU acceleration (more on that later).\n",
    "The name \"tensor\" is a generalization of concepts you already know. For instance, a vector is a 1-D tensor, and a matrix a 2-D tensor. When working with neural networks, we will use tensors of various shapes and number of dimensions.\n",
    "\n",
    "Most common functions you know from numpy can be used on tensors as well. Actually, since numpy arrays are so similar to tensors, we can convert most tensors to numpy arrays (and back) but we don't need it too often.\n",
    "\n",
    "#### Initialization\n",
    "\n",
    "Let's first start by looking at different ways of creating a tensor. There are many possible options, the most simple one is to call `torch.Tensor` passing the desired shape as input argument:"
   ]
  },
  {
   "cell_type": "code",
   "execution_count": 4,
   "metadata": {},
   "outputs": [
    {
     "name": "stdout",
     "output_type": "stream",
     "text": [
      "tensor([[[ 4.6114e+24,  8.6777e+35,  1.8617e+25,  1.7539e+19],\n",
      "         [ 3.5176e-15,  7.4451e+34,  1.7889e+22,  1.1446e+24],\n",
      "         [ 1.7751e+28,  7.8061e-33,  1.3563e-19,  1.3563e-19]],\n",
      "\n",
      "        [[ 1.3563e-19,  1.3563e-19,  7.5556e+28,  2.7944e+20],\n",
      "         [-7.9958e-19,  4.5646e-41,  0.0000e+00,  1.2867e+22],\n",
      "         [ 4.3066e+21,  7.0368e+28,  1.3569e-14,  5.0968e-11]]])\n"
     ]
    }
   ],
   "source": [
    "x = torch.Tensor(2, 3, 4)\n",
    "print(x)"
   ]
  },
  {
   "cell_type": "markdown",
   "metadata": {},
   "source": [
    "The function `torch.Tensor` allocates memory for the desired tensor, but reuses any values that have already been in the memory. To directly assign values to the tensor during initialization, there are many alternatives including:\n",
    "\n",
    "* `torch.zeros`: Creates a tensor filled with zeros\n",
    "* `torch.ones`: Creates a tensor filled with ones\n",
    "* `torch.rand`: Creates a tensor with random values uniformly sampled between 0 and 1\n",
    "* `torch.randn`: Creates a tensor with random values sampled from a normal distribution with mean 0 and variance 1\n",
    "* `torch.arange`: Creates a tensor containing the values $N,N+1,N+2,...,M$\n",
    "* `torch.Tensor` (input list): Creates a tensor from the list elements you provide"
   ]
  },
  {
   "cell_type": "code",
   "execution_count": 5,
   "metadata": {},
   "outputs": [
    {
     "name": "stdout",
     "output_type": "stream",
     "text": [
      "tensor([[1., 2.],\n",
      "        [3., 4.]])\n"
     ]
    }
   ],
   "source": [
    "# Create a tensor from a (nested) list\n",
    "x = torch.Tensor([[1, 2], [3, 4]])\n",
    "print(x)"
   ]
  },
  {
   "cell_type": "code",
   "execution_count": 6,
   "metadata": {},
   "outputs": [
    {
     "name": "stdout",
     "output_type": "stream",
     "text": [
      "tensor([[[0.8823, 0.9150, 0.3829, 0.9593],\n",
      "         [0.3904, 0.6009, 0.2566, 0.7936],\n",
      "         [0.9408, 0.1332, 0.9346, 0.5936]],\n",
      "\n",
      "        [[0.8694, 0.5677, 0.7411, 0.4294],\n",
      "         [0.8854, 0.5739, 0.2666, 0.6274],\n",
      "         [0.2696, 0.4414, 0.2969, 0.8317]]])\n"
     ]
    }
   ],
   "source": [
    "# Create a tensor with random values between 0 and 1 with the shape [2, 3, 4]\n",
    "x = torch.rand(2, 3, 4)\n",
    "print(x)"
   ]
  },
  {
   "cell_type": "markdown",
   "metadata": {},
   "source": [
    "You can obtain the shape of a tensor in the same way as in numpy (`x.shape`), or using the `.size` method:"
   ]
  },
  {
   "cell_type": "code",
   "execution_count": 7,
   "metadata": {},
   "outputs": [
    {
     "name": "stdout",
     "output_type": "stream",
     "text": [
      "Shape: torch.Size([2, 3, 4])\n",
      "Size: torch.Size([2, 3, 4])\n",
      "Size: 2 3 4\n"
     ]
    }
   ],
   "source": [
    "shape = x.shape\n",
    "print(\"Shape:\", x.shape)\n",
    "\n",
    "size = x.size()\n",
    "print(\"Size:\", size)\n",
    "\n",
    "dim1, dim2, dim3 = x.size()\n",
    "print(\"Size:\", dim1, dim2, dim3)"
   ]
  },
  {
   "cell_type": "markdown",
   "metadata": {},
   "source": [
    "#### Tensor to Numpy, and Numpy to Tensor\n",
    "\n",
    "Tensors can be converted to numpy arrays, and numpy arrays back to tensors. To transform a numpy array into a tensor, we can use the function `torch.from_numpy`:"
   ]
  },
  {
   "cell_type": "code",
   "execution_count": 8,
   "metadata": {},
   "outputs": [
    {
     "name": "stdout",
     "output_type": "stream",
     "text": [
      "Numpy array: [[1 2]\n",
      " [3 4]]\n",
      "PyTorch tensor: tensor([[1, 2],\n",
      "        [3, 4]])\n"
     ]
    }
   ],
   "source": [
    "np_arr = np.array([[1, 2], [3, 4]])\n",
    "tensor = torch.from_numpy(np_arr)\n",
    "\n",
    "print(\"Numpy array:\", np_arr)\n",
    "print(\"PyTorch tensor:\", tensor)"
   ]
  },
  {
   "cell_type": "markdown",
   "metadata": {},
   "source": [
    "To transform a PyTorch tensor back to a numpy array, we can use the function `.numpy()` on tensors:"
   ]
  },
  {
   "cell_type": "code",
   "execution_count": 9,
   "metadata": {},
   "outputs": [
    {
     "name": "stdout",
     "output_type": "stream",
     "text": [
      "PyTorch tensor: tensor([0, 1, 2, 3])\n",
      "Numpy array: [0 1 2 3]\n"
     ]
    }
   ],
   "source": [
    "tensor = torch.arange(4)\n",
    "np_arr = tensor.numpy()\n",
    "\n",
    "print(\"PyTorch tensor:\", tensor)\n",
    "print(\"Numpy array:\", np_arr)"
   ]
  },
  {
   "cell_type": "markdown",
   "metadata": {},
   "source": [
    "The conversion of tensors to numpy require the tensor to be on the CPU, and not the GPU (more on GPU support in a later section). In case you have a tensor on GPU, you need to call `.cpu()` on the tensor beforehand. Hence, you get a line like `np_arr = tensor.cpu().numpy()`."
   ]
  },
  {
   "cell_type": "markdown",
   "metadata": {},
   "source": [
    "#### Operations\n",
    "\n",
    "Most operations that exist in numpy, also exist in PyTorch. A full list of operations can be found in the [PyTorch documentation](https://pytorch.org/docs/stable/tensors.html#), but we will review the most important ones here.\n",
    "\n",
    "The simplest operation is to add two tensors:"
   ]
  },
  {
   "cell_type": "code",
   "execution_count": 10,
   "metadata": {},
   "outputs": [
    {
     "name": "stdout",
     "output_type": "stream",
     "text": [
      "X1 tensor([[0.1053, 0.2695, 0.3588],\n",
      "        [0.1994, 0.5472, 0.0062]])\n",
      "X2 tensor([[0.9516, 0.0753, 0.8860],\n",
      "        [0.5832, 0.3376, 0.8090]])\n",
      "Y tensor([[1.0569, 0.3448, 1.2448],\n",
      "        [0.7826, 0.8848, 0.8151]])\n"
     ]
    }
   ],
   "source": [
    "x1 = torch.rand(2, 3)\n",
    "x2 = torch.rand(2, 3)\n",
    "y = x1 + x2\n",
    "\n",
    "print(\"X1\", x1)\n",
    "print(\"X2\", x2)\n",
    "print(\"Y\", y)"
   ]
  },
  {
   "cell_type": "markdown",
   "metadata": {},
   "source": [
    "Calling `x1 + x2` creates a new tensor containing the sum of the two inputs. However, we can also use in-place operations that are applied directly on the memory of a tensor. We therefore change the values of `x2` without the chance to re-accessing the values of `x2` before the operation. An example is shown below:"
   ]
  },
  {
   "cell_type": "code",
   "execution_count": 11,
   "metadata": {},
   "outputs": [
    {
     "name": "stdout",
     "output_type": "stream",
     "text": [
      "X1 (before) tensor([[0.5779, 0.9040, 0.5547],\n",
      "        [0.3423, 0.6343, 0.3644]])\n",
      "X2 (before) tensor([[0.7104, 0.9464, 0.7890],\n",
      "        [0.2814, 0.7886, 0.5895]])\n",
      "X1 (after) tensor([[0.5779, 0.9040, 0.5547],\n",
      "        [0.3423, 0.6343, 0.3644]])\n",
      "X2 (after) tensor([[1.2884, 1.8504, 1.3437],\n",
      "        [0.6237, 1.4230, 0.9539]])\n"
     ]
    }
   ],
   "source": [
    "x1 = torch.rand(2, 3)\n",
    "x2 = torch.rand(2, 3)\n",
    "print(\"X1 (before)\", x1)\n",
    "print(\"X2 (before)\", x2)\n",
    "\n",
    "x2.add_(x1)\n",
    "print(\"X1 (after)\", x1)\n",
    "print(\"X2 (after)\", x2)"
   ]
  },
  {
   "cell_type": "markdown",
   "metadata": {},
   "source": [
    "In-place operations are usually marked with a underscore postfix (e.g. \"add_\" instead of \"add\").\n",
    "\n",
    "Another common operation aims at changing the shape of a tensor. A tensor of size (2,3) can be re-organized to any other shape with the same number of elements (e.g. a tensor of size (6), or (3,2), ...). In PyTorch, this operation is called `view`:"
   ]
  },
  {
   "cell_type": "code",
   "execution_count": 12,
   "metadata": {},
   "outputs": [
    {
     "name": "stdout",
     "output_type": "stream",
     "text": [
      "X tensor([0, 1, 2, 3, 4, 5])\n"
     ]
    }
   ],
   "source": [
    "x = torch.arange(6)\n",
    "print(\"X\", x)"
   ]
  },
  {
   "cell_type": "code",
   "execution_count": 13,
   "metadata": {},
   "outputs": [
    {
     "name": "stdout",
     "output_type": "stream",
     "text": [
      "X tensor([[0, 1, 2],\n",
      "        [3, 4, 5]])\n"
     ]
    }
   ],
   "source": [
    "x = x.view(2, 3)\n",
    "print(\"X\", x)"
   ]
  },
  {
   "cell_type": "code",
   "execution_count": 14,
   "metadata": {},
   "outputs": [
    {
     "name": "stdout",
     "output_type": "stream",
     "text": [
      "X tensor([[0, 3],\n",
      "        [1, 4],\n",
      "        [2, 5]])\n"
     ]
    }
   ],
   "source": [
    "x = x.permute(1, 0) # Swapping dimension 0 and 1\n",
    "print(\"X\", x)"
   ]
  },
  {
   "cell_type": "markdown",
   "metadata": {},
   "source": [
    "Other commonly used operations include matrix multiplications, which are essential for neural networks. Quite often, we have an input vector $\\mathbf{x}$, which is transformed using a learned weight matrix $\\mathbf{W}$. There are multiple ways and functions to perform matrix multiplication, some of which we list below:\n",
    "\n",
    "* `torch.matmul`: Performs the matrix product over two tensors, where the specific behavior depends on the dimensions. If both inputs are matrices (2-dimensional tensors), it performs the standard matrix product. For higher dimensional inputs, the function supports broadcasting (for details see the [documentation](https://pytorch.org/docs/stable/generated/torch.matmul.html?highlight=matmul#torch.matmul)). Can also be written as `a @ b`, similar to numpy. \n",
    "* `torch.mm`: Performs the matrix product over two matrices, but doesn't support broadcasting (see [documentation](https://pytorch.org/docs/stable/generated/torch.mm.html?highlight=torch%20mm#torch.mm))\n",
    "* `torch.bmm`: Performs the matrix product with a support batch dimension. If the first tensor $T$ is of shape ($b\\times n\\times m$), and the second tensor $R$ ($b\\times m\\times p$), the output $O$ is of shape ($b\\times n\\times p$), and has been calculated by performing $b$ matrix multiplications of the submatrices of $T$ and $R$: $O_i = T_i @ R_i$\n",
    "* `torch.einsum`: Performs matrix multiplications and more (i.e. sums of products) using the Einstein summation convention. Explanation of the Einstein sum can be found in assignment 1.\n",
    "\n",
    "Usually, we use `torch.matmul` or `torch.bmm`. We can try a matrix multiplication with `torch.matmul` below."
   ]
  },
  {
   "cell_type": "code",
   "execution_count": 15,
   "metadata": {},
   "outputs": [
    {
     "name": "stdout",
     "output_type": "stream",
     "text": [
      "X tensor([[0, 1, 2],\n",
      "        [3, 4, 5]])\n"
     ]
    }
   ],
   "source": [
    "x = torch.arange(6)\n",
    "x = x.view(2, 3)\n",
    "print(\"X\", x)"
   ]
  },
  {
   "cell_type": "code",
   "execution_count": 16,
   "metadata": {},
   "outputs": [
    {
     "name": "stdout",
     "output_type": "stream",
     "text": [
      "W tensor([[0, 1, 2],\n",
      "        [3, 4, 5],\n",
      "        [6, 7, 8]])\n"
     ]
    }
   ],
   "source": [
    "W = torch.arange(9).view(3, 3) # We can also stack multiple operations in a single line\n",
    "print(\"W\", W)"
   ]
  },
  {
   "cell_type": "code",
   "execution_count": 17,
   "metadata": {},
   "outputs": [
    {
     "name": "stdout",
     "output_type": "stream",
     "text": [
      "h tensor([[15, 18, 21],\n",
      "        [42, 54, 66]])\n"
     ]
    }
   ],
   "source": [
    "h = torch.matmul(x, W) # Verify the result by calculating it by hand too!\n",
    "print(\"h\", h)"
   ]
  },
  {
   "cell_type": "markdown",
   "metadata": {},
   "source": [
    "#### Indexing\n",
    "\n",
    "We often have the situation where we need to select a part of a tensor. Indexing works just like in numpy, so let's try it:"
   ]
  },
  {
   "cell_type": "code",
   "execution_count": 18,
   "metadata": {},
   "outputs": [
    {
     "name": "stdout",
     "output_type": "stream",
     "text": [
      "X tensor([[ 0,  1,  2,  3],\n",
      "        [ 4,  5,  6,  7],\n",
      "        [ 8,  9, 10, 11]])\n"
     ]
    }
   ],
   "source": [
    "x = torch.arange(12).view(3, 4)\n",
    "print(\"X\", x)"
   ]
  },
  {
   "cell_type": "code",
   "execution_count": 19,
   "metadata": {},
   "outputs": [
    {
     "name": "stdout",
     "output_type": "stream",
     "text": [
      "tensor([1, 5, 9])\n"
     ]
    }
   ],
   "source": [
    "print(x[:, 1])   # Second column"
   ]
  },
  {
   "cell_type": "code",
   "execution_count": 20,
   "metadata": {},
   "outputs": [
    {
     "name": "stdout",
     "output_type": "stream",
     "text": [
      "tensor([0, 1, 2, 3])\n"
     ]
    }
   ],
   "source": [
    "print(x[0])      # First row"
   ]
  },
  {
   "cell_type": "code",
   "execution_count": 21,
   "metadata": {},
   "outputs": [
    {
     "name": "stdout",
     "output_type": "stream",
     "text": [
      "tensor([3, 7])\n"
     ]
    }
   ],
   "source": [
    "print(x[:2, -1]) # First two rows, last column"
   ]
  },
  {
   "cell_type": "code",
   "execution_count": 22,
   "metadata": {},
   "outputs": [
    {
     "name": "stdout",
     "output_type": "stream",
     "text": [
      "tensor([[ 4,  5,  6,  7],\n",
      "        [ 8,  9, 10, 11]])\n"
     ]
    }
   ],
   "source": [
    "print(x[1:3, :]) # Middle two rows"
   ]
  },
  {
   "cell_type": "markdown",
   "metadata": {},
   "source": [
    "### Dynamic Computation Graph and Backpropagation\n",
    "\n",
    "One of the main reasons for using PyTorch in Deep Learning projects is that we can automatically get **gradients/derivatives** of functions that we define. We will mainly use PyTorch for implementing neural networks, and they are just fancy functions. If we use weight matrices in our function that we want to learn, then those are called the **parameters** or simply the **weights**.\n",
    "\n",
    "If our neural network would output a single scalar value, we would talk about taking the **derivative**, but you will see that quite often we will have **multiple** output variables (\"values\"); in that case we talk about **gradients**. It's a more general term.\n",
    "\n",
    "Given an input $\\mathbf{x}$, we define our function by **manipulating** that input, usually by matrix-multiplications with weight matrices and additions with so-called bias vectors. As we manipulate our input, we are automatically creating a **computational graph**. This graph shows how to arrive at our output from our input. \n",
    "PyTorch is a **define-by-run** framework; this means that we can just do our manipulations, and PyTorch will keep track of that graph for us. Thus, we create a dynamic computation graph along the way.\n",
    "\n",
    "So, to recap: the only thing we have to do is to compute the **output**, and then we can ask PyTorch to automatically get the **gradients**. \n",
    "\n",
    "> **Note:  Why do we want gradients?** Consider that we have defined a function, a neural net, that is supposed to compute a certain output $y$ for an input vector $\\mathbf{x}$. We then define an **error measure** that tells us how wrong our network is; how bad it is in predicting output $y$ from input $\\mathbf{x}$. Based on this error measure, we can use the gradients to **update** the weights $\\mathbf{W}$ that were responsible for the output, so that the next time we present input $\\mathbf{x}$ to our network, the output will be closer to what we want.\n",
    "\n",
    "The first thing we have to do is to specify which tensors require gradients. By default, when we create a tensor, it does not require gradients."
   ]
  },
  {
   "cell_type": "code",
   "execution_count": 23,
   "metadata": {},
   "outputs": [
    {
     "name": "stdout",
     "output_type": "stream",
     "text": [
      "False\n"
     ]
    }
   ],
   "source": [
    "x = torch.ones((3,))\n",
    "print(x.requires_grad)"
   ]
  },
  {
   "cell_type": "markdown",
   "metadata": {},
   "source": [
    "We can change this for an existing tensor using the function `requires_grad_()` (underscore indicating that this is a in-place operation). Alternatively, when creating a tensor, you can pass the argument `requires_grad=True` to most initializers we have seen above."
   ]
  },
  {
   "cell_type": "code",
   "execution_count": 24,
   "metadata": {},
   "outputs": [
    {
     "name": "stdout",
     "output_type": "stream",
     "text": [
      "True\n"
     ]
    }
   ],
   "source": [
    "x.requires_grad_(True)\n",
    "print(x.requires_grad)"
   ]
  },
  {
   "cell_type": "markdown",
   "metadata": {},
   "source": [
    "In order to get familiar with the concept of a computation graph, we will create one for the following function:\n",
    "\n",
    "$$y = \\frac{1}{|x|}\\sum_i \\left[(x_i + 2)^2 + 3\\right]$$\n",
    "\n",
    "You could imagine that $x$ are our parameters, and we want to optimize (either maximize or minimize) the output $y$. For this, we want to obtain the gradients $\\partial y / \\partial \\mathbf{x}$. For our example, we'll use $\\mathbf{x}=[0,1,2]$ as our input."
   ]
  },
  {
   "cell_type": "code",
   "execution_count": 25,
   "metadata": {},
   "outputs": [
    {
     "name": "stdout",
     "output_type": "stream",
     "text": [
      "X tensor([0., 1., 2.], requires_grad=True)\n"
     ]
    }
   ],
   "source": [
    "x = torch.arange(3, dtype=torch.float32, requires_grad=True) # Only float tensors can have gradients\n",
    "print(\"X\", x)"
   ]
  },
  {
   "cell_type": "markdown",
   "metadata": {},
   "source": [
    "Now let's build the computation graph step by step. You can combine multiple operations in a single line, but we will separate them here to get a better understanding of how each operation is added to the computation graph."
   ]
  },
  {
   "cell_type": "code",
   "execution_count": 26,
   "metadata": {},
   "outputs": [
    {
     "name": "stdout",
     "output_type": "stream",
     "text": [
      "Y tensor(12.6667, grad_fn=<MeanBackward0>)\n"
     ]
    }
   ],
   "source": [
    "a = x + 2\n",
    "b = a ** 2\n",
    "c = b + 3\n",
    "y = c.mean()\n",
    "print(\"Y\", y)"
   ]
  },
  {
   "cell_type": "markdown",
   "metadata": {},
   "source": [
    "Using the statements above, we have created a computation graph that looks similar to the figure below:\n",
    "\n",
    "<center style=\"width: 100%\"><img src=\"pytorch_computation_graph.svg\" width=\"200px\"></center>\n",
    "\n",
    "We calculate $a$ based on the inputs $x$ and the constant $2$, $b$ is $a$ squared, and so on. The visualization is an abstraction of the dependencies between inputs and outputs of the operations we have applied.\n",
    "Each node of the computation graph has automatically defined a function for calculating the gradients with respect to its inputs, `grad_fn`. You can see this when we printed the output tensor $y$. This is why the computation graph is usually visualized in the reverse direction (arrows point from the result to the inputs). We can perform backpropagation on the computation graph by calling the function `backward()` on the last output, which effectively calculates the gradients for each tensor that has the property `requires_grad=True`:"
   ]
  },
  {
   "cell_type": "code",
   "execution_count": 27,
   "metadata": {},
   "outputs": [],
   "source": [
    "y.backward()"
   ]
  },
  {
   "cell_type": "markdown",
   "metadata": {},
   "source": [
    "`x.grad` will now contain the gradient $\\partial y/ \\partial \\mathcal{x}$, and this gradient indicates how a change in $\\mathbf{x}$ will affect output $y$ given the current input $\\mathbf{x}=[0,1,2]$:"
   ]
  },
  {
   "cell_type": "code",
   "execution_count": 28,
   "metadata": {},
   "outputs": [
    {
     "name": "stdout",
     "output_type": "stream",
     "text": [
      "tensor([1.3333, 2.0000, 2.6667])\n"
     ]
    }
   ],
   "source": [
    "print(x.grad)"
   ]
  },
  {
   "cell_type": "markdown",
   "metadata": {},
   "source": [
    "We can also verify these gradients by hand. We will calculate the gradients using the chain rule, in the same way as PyTorch did it:\n",
    "\n",
    "$$\\frac{\\partial y}{\\partial x_i} = \\frac{\\partial y}{\\partial c_i}\\frac{\\partial c_i}{\\partial b_i}\\frac{\\partial b_i}{\\partial a_i}\\frac{\\partial a_i}{\\partial x_i}$$\n",
    "\n",
    "Note that we have simplified this equation to index notation, and by using the fact that all operation besides the mean do not combine the elements in the tensor. The partial derivatives are:\n",
    "\n",
    "$$\n",
    "\\frac{\\partial a_i}{\\partial x_i} = 1,\\hspace{1cm}\n",
    "\\frac{\\partial b_i}{\\partial a_i} = 2\\cdot a_i\\hspace{1cm}\n",
    "\\frac{\\partial c_i}{\\partial b_i} = 1\\hspace{1cm}\n",
    "\\frac{\\partial y}{\\partial c_i} = \\frac{1}{3}\n",
    "$$\n",
    "\n",
    "Hence, with the input being $\\mathbf{x}=[0,1,2]$, our gradients are $\\partial y/\\partial \\mathbf{x}=[4/3,2,8/3]$. The previous code cell should have printed the same result."
   ]
  },
  {
   "cell_type": "markdown",
   "metadata": {},
   "source": [
    "### GPU support\n",
    "\n",
    "A crucial feature of PyTorch is the support of GPUs, short for Graphics Processing Unit. A GPU can perform many thousands of small operations in parallel, making it very well suitable for performing large matrix operations in neural networks. When comparing GPUs to CPUs, we can list the following main differences (credit: [Kevin Krewell, 2009](https://blogs.nvidia.com/blog/2009/12/16/whats-the-difference-between-a-cpu-and-a-gpu/)) \n",
    "\n",
    "<center style=\"width: 100%\"><img src=\"comparison_CPU_GPU.png\" width=\"700px\"></center>\n",
    "\n",
    "CPUs and GPUs have both different advantages and disadvantages, which is why many computers contain both components and use them for different tasks. In case you are not familiar with GPUs, you can read up more details in this [NVIDIA blog post](https://blogs.nvidia.com/blog/2009/12/16/whats-the-difference-between-a-cpu-and-a-gpu/) or [here](https://www.intel.com/content/www/us/en/products/docs/processors/what-is-a-gpu.html). \n",
    "\n",
    "GPUs can accelerate the training of your network up to a factor of $100$ which is essential for large neural networks. PyTorch implements a lot of functionality for supporting GPUs (mostly those of NVIDIA due to the libraries [CUDA](https://developer.nvidia.com/cuda-zone) and [cuDNN](https://developer.nvidia.com/cudnn)). First, let's check whether you have a GPU available:"
   ]
  },
  {
   "cell_type": "code",
   "execution_count": 29,
   "metadata": {},
   "outputs": [
    {
     "name": "stdout",
     "output_type": "stream",
     "text": [
      "Is the GPU available? True\n"
     ]
    }
   ],
   "source": [
    "gpu_avail = torch.cuda.is_available()\n",
    "print(f\"Is the GPU available? {gpu_avail}\")"
   ]
  },
  {
   "cell_type": "markdown",
   "metadata": {},
   "source": [
    "If you have a GPU on your computer but the command above returns False, make sure you have the correct CUDA-version installed. The `dl2021` environment comes with the CUDA-toolkit 11.3, which is selected for the Lisa supercomputer. Please change it if necessary (CUDA 11.1 is currently common on Colab). On Google Colab, make sure that you have selected a GPU in your runtime setup (in the menu, check under `Runtime -> Change runtime type`). \n",
    "\n",
    "By default, all tensors you create are stored on the CPU. We can push a tensor to the GPU by using the function `.to(...)`, or `.cuda()`. However, it is often a good practice to define a `device` object in your code which points to the GPU if you have one, and otherwise to the CPU. Then, you can write your code with respect to this device object, and it allows you to run the same code on both a CPU-only system, and one with a GPU. Let's try it below. We can specify the device as follows: "
   ]
  },
  {
   "cell_type": "code",
   "execution_count": 30,
   "metadata": {},
   "outputs": [
    {
     "name": "stdout",
     "output_type": "stream",
     "text": [
      "Device cuda\n"
     ]
    }
   ],
   "source": [
    "device = torch.device(\"cuda\") if torch.cuda.is_available() else torch.device(\"cpu\")\n",
    "print(\"Device\", device)"
   ]
  },
  {
   "cell_type": "markdown",
   "metadata": {},
   "source": [
    "Now let's create a tensor and push it to the device:"
   ]
  },
  {
   "cell_type": "code",
   "execution_count": 31,
   "metadata": {},
   "outputs": [
    {
     "name": "stdout",
     "output_type": "stream",
     "text": [
      "X tensor([[0., 0., 0.],\n",
      "        [0., 0., 0.]], device='cuda:0')\n"
     ]
    }
   ],
   "source": [
    "x = torch.zeros(2, 3)\n",
    "x = x.to(device)\n",
    "print(\"X\", x)"
   ]
  },
  {
   "cell_type": "markdown",
   "metadata": {},
   "source": [
    "In case you have a GPU, you should now see the attribute `device='cuda:0'` being printed next to your tensor. The zero next to cuda indicates that this is the zero-th GPU device on your computer. PyTorch also supports multi-GPU systems, but this you will only need once you have very big networks to train (if interested, see the [PyTorch documentation](https://pytorch.org/docs/stable/distributed.html#distributed-basics)). We can also compare the runtime of a large matrix multiplication on the CPU with a operation on the GPU:"
   ]
  },
  {
   "cell_type": "code",
   "execution_count": 33,
   "metadata": {},
   "outputs": [
    {
     "name": "stdout",
     "output_type": "stream",
     "text": [
      "CPU time: 0.35546s\n",
      "GPU time: 0.00796s\n",
      "Speed up: 44.63762s\n"
     ]
    }
   ],
   "source": [
    "x = torch.randn(5000, 5000)\n",
    "\n",
    "## CPU version\n",
    "start_time = time.time()\n",
    "_ = torch.matmul(x, x)\n",
    "end_time = time.time()\n",
    "cpu_time = (end_time - start_time)\n",
    "print(f\"CPU time: {cpu_time:6.5f}s\")\n",
    "\n",
    "## GPU version\n",
    "x = x.to(device)\n",
    "# CUDA is asynchronous, so we need to use different timing functions\n",
    "start = torch.cuda.Event(enable_timing=True)\n",
    "end = torch.cuda.Event(enable_timing=True)\n",
    "start.record()\n",
    "_ = torch.matmul(x, x)\n",
    "end.record()\n",
    "torch.cuda.synchronize()  # Waits for everything to finish running on the GPU\n",
    "gpu_time = 0.001 * start.elapsed_time(end)\n",
    "print(f\"GPU time: {gpu_time:6.5f}s\")  # Milliseconds to seconds\n",
    "print(f\"Speed up: {cpu_time/gpu_time:6.5f}s\")  "
   ]
  },
  {
   "cell_type": "markdown",
   "metadata": {},
   "source": [
    "Depending on the size of the operation and the CPU/GPU in your system, the speedup of this operation can be >50x. As `matmul` operations are very common in neural networks, we can already see the great benefit of training a NN on a GPU. The time estimate can be relatively noisy here because we haven't run it for multiple times. Feel free to extend this, but it also takes longer to run.\n",
    "\n",
    "When generating random numbers, the seed between CPU and GPU is not synchronized. Hence, we need to set the seed on the GPU separately to ensure a reproducible code. Note that due to different GPU architectures, running the same code on different GPUs does not guarantee the same random numbers. Still, we don't want that our code gives us a different output every time we run it on the exact same hardware. Hence, we also set the seed on the GPU:"
   ]
  },
  {
   "cell_type": "code",
   "execution_count": 34,
   "metadata": {},
   "outputs": [],
   "source": [
    "# GPU operations have a separate seed we also want to set\n",
    "if torch.cuda.is_available(): \n",
    "    torch.cuda.manual_seed(42)\n",
    "    torch.cuda.manual_seed_all(42)\n",
    "    \n",
    "# Additionally, some operations on a GPU are implemented stochastic for efficiency\n",
    "# We want to ensure that all operations are deterministic on GPU (if used) for reproducibility\n",
    "torch.backends.cudnn.determinstic = True\n",
    "torch.backends.cudnn.benchmark = False"
   ]
  },
  {
   "cell_type": "markdown",
   "metadata": {},
   "source": [
    "## Learning by example: Continuous XOR\n",
    "\n",
    "If we want to build a neural network in PyTorch, we could specify all our parameters (weight matrices, bias vectors) using `Tensors` (with `requires_grad=True`), ask PyTorch to calculate the gradients and then adjust the parameters. But things can quickly get cumbersome if we have a lot of parameters. In PyTorch, there is a package called `torch.nn` that makes building neural networks more convenient. \n",
    "\n",
    "We will introduce the libraries and all additional parts you might need to train a neural network in PyTorch, using a simple example classifier on a simple yet well known example: XOR. Given two binary inputs $x_1$ and $x_2$, the label to predict is $1$ if either $x_1$ or $x_2$ is $1$ while the other is $0$, or the label is $0$ in all other cases. The example became famous by the fact that a single neuron, i.e. a linear classifier, cannot learn this simple function.\n",
    "Hence, we will learn how to build a small neural network that can learn this function. \n",
    "To make it a little bit more interesting, we move the XOR into continuous space and introduce some gaussian noise on the binary inputs. Our desired separation of an XOR dataset could look as follows:\n",
    "\n",
    "<center style=\"width: 100%\"><img src=\"continuous_xor.svg\" width=\"350px\"></center>"
   ]
  },
  {
   "cell_type": "markdown",
   "metadata": {},
   "source": [
    "### The model\n",
    "\n",
    "The package `torch.nn` defines a series of useful classes like linear networks layers, activation functions, loss functions etc. A full list can be found [here](https://pytorch.org/docs/stable/nn.html). In case you need a certain network layer, check the documentation of the package first before writing the layer yourself as the package likely contains the code for it already. We import it below:"
   ]
  },
  {
   "cell_type": "code",
   "execution_count": 35,
   "metadata": {},
   "outputs": [],
   "source": [
    "import torch.nn as nn"
   ]
  },
  {
   "cell_type": "markdown",
   "metadata": {},
   "source": [
    "Additionally to `torch.nn`, there is also `torch.nn.functional`. It contains functions that are used in network layers. This is in contrast to `torch.nn` which defines them as `nn.Modules` (more on it below), and `torch.nn` actually uses a lot of functionalities from `torch.nn.functional`. Hence, the functional package is useful in many situations, and so we import it as well here."
   ]
  },
  {
   "cell_type": "code",
   "execution_count": 36,
   "metadata": {},
   "outputs": [],
   "source": [
    "import torch.nn.functional as F"
   ]
  },
  {
   "cell_type": "markdown",
   "metadata": {},
   "source": [
    "#### nn.Module\n",
    "\n",
    "In PyTorch, a neural network is built up out of modules. Modules can contain other modules, and a neural network is considered to be a module itself as well. The basic template of a module is as follows:"
   ]
  },
  {
   "cell_type": "code",
   "execution_count": 37,
   "metadata": {},
   "outputs": [],
   "source": [
    "class MyModule(nn.Module):\n",
    "    \n",
    "    def __init__(self):\n",
    "        super().__init__()\n",
    "        # Some init for my module\n",
    "        \n",
    "    def forward(self, x):\n",
    "        # Function for performing the calculation of the module.\n",
    "        pass"
   ]
  },
  {
   "cell_type": "markdown",
   "metadata": {},
   "source": [
    "The forward function is where the computation of the module is taken place, and is executed when you call the module (`nn = MyModule(); nn(x)`). In the init function, we usually create the parameters of the module, using `nn.Parameter`, or defining other modules that are used in the forward function. The backward calculation is done automatically, but could be overwritten as well if wanted.\n",
    "\n",
    "#### Simple classifier\n",
    "We can now make use of the pre-defined modules in the `torch.nn` package, and define our own small neural network. We will use a minimal network with a input layer, one hidden layer with tanh as activation function, and a output layer. In other words, our networks should look something like this:\n",
    "\n",
    "<center width=\"100%\"><img src=\"small_neural_network.svg\" width=\"300px\"></center>\n",
    "\n",
    "The input neurons are shown in blue, which represent the coordinates $x_1$ and $x_2$ of a data point. The hidden neurons including a tanh activation are shown in white, and the output neuron in red.\n",
    "In PyTorch, we can define this as follows:"
   ]
  },
  {
   "cell_type": "code",
   "execution_count": 38,
   "metadata": {},
   "outputs": [],
   "source": [
    "class SimpleClassifier(nn.Module):\n",
    "\n",
    "    def __init__(self, num_inputs, num_hidden, num_outputs):\n",
    "        super().__init__()\n",
    "        # Initialize the modules we need to build the network\n",
    "        self.linear1 = nn.Linear(num_inputs, num_hidden)\n",
    "        self.act_fn = nn.Tanh()\n",
    "        self.linear2 = nn.Linear(num_hidden, num_outputs)\n",
    "\n",
    "    def forward(self, x):\n",
    "        # Perform the calculation of the model to determine the prediction\n",
    "        x = self.linear1(x)\n",
    "        x = self.act_fn(x)\n",
    "        x = self.linear2(x)\n",
    "        return x"
   ]
  },
  {
   "cell_type": "markdown",
   "metadata": {},
   "source": [
    "For the examples in this notebook, we will use a tiny neural network with two input neurons and four hidden neurons. As we perform binary classification, we will use a single output neuron. Note that we do not apply a sigmoid on the output yet. This is because other functions, especially the loss, are more efficient and precise to calculate on the original outputs instead of the sigmoid output. We will discuss the detailed reason later."
   ]
  },
  {
   "cell_type": "code",
   "execution_count": 39,
   "metadata": {},
   "outputs": [
    {
     "name": "stdout",
     "output_type": "stream",
     "text": [
      "SimpleClassifier(\n",
      "  (linear1): Linear(in_features=2, out_features=4, bias=True)\n",
      "  (act_fn): Tanh()\n",
      "  (linear2): Linear(in_features=4, out_features=1, bias=True)\n",
      ")\n"
     ]
    }
   ],
   "source": [
    "model = SimpleClassifier(num_inputs=2, num_hidden=4, num_outputs=1)\n",
    "# Printing a module shows all its submodules\n",
    "print(model)"
   ]
  },
  {
   "cell_type": "markdown",
   "metadata": {},
   "source": [
    "Printing the model lists all submodules it contains. The parameters of a module can be obtained by using its `parameters()` functions, or `named_parameters()` to get a name to each parameter object. For our small neural network, we have the following parameters:"
   ]
  },
  {
   "cell_type": "code",
   "execution_count": 40,
   "metadata": {},
   "outputs": [
    {
     "name": "stdout",
     "output_type": "stream",
     "text": [
      "Parameter linear1.weight, shape torch.Size([4, 2])\n",
      "Parameter linear1.bias, shape torch.Size([4])\n",
      "Parameter linear2.weight, shape torch.Size([1, 4])\n",
      "Parameter linear2.bias, shape torch.Size([1])\n"
     ]
    }
   ],
   "source": [
    "for name, param in model.named_parameters():\n",
    "    print(f\"Parameter {name}, shape {param.shape}\")"
   ]
  },
  {
   "cell_type": "markdown",
   "metadata": {},
   "source": [
    "Each linear layer has a weight matrix of the shape `[output, input]`, and a bias of the shape `[output]`. The tanh activation function does not have any parameters. Note that parameters are only registered for `nn.Module` objects that are direct object attributes, i.e. `self.a = ...`. If you define a list of modules, the parameters of those are not registered for the outer module and can cause some issues when you try to optimize your module. There are alternatives, like `nn.ModuleList`, `nn.ModuleDict` and `nn.Sequential`, that allow you to have different data structures of modules. We will use them in a few later tutorials and explain them there. "
   ]
  },
  {
   "cell_type": "markdown",
   "metadata": {},
   "source": [
    "### The data\n",
    "\n",
    "PyTorch also provides a few functionalities to load the training and test data efficiently, summarized in the package `torch.utils.data`."
   ]
  },
  {
   "cell_type": "code",
   "execution_count": 41,
   "metadata": {},
   "outputs": [],
   "source": [
    "import torch.utils.data as data"
   ]
  },
  {
   "cell_type": "markdown",
   "metadata": {},
   "source": [
    "The data package defines two classes which are the standard interface for handling data in PyTorch: `data.Dataset`, and `data.DataLoader`. The dataset class provides an uniform interface to access the training/test data, while the data loader makes sure to efficiently load and stack the data points from the dataset into batches during training."
   ]
  },
  {
   "cell_type": "markdown",
   "metadata": {},
   "source": [
    "#### The dataset class\n",
    "\n",
    "The dataset class summarizes the basic functionality of a dataset in a natural way. To define a dataset in PyTorch, we simply specify two functions: `__getitem__`, and `__len__`. The get-item function has to return the $i$-th data point in the dataset, while the len function returns the size of the dataset. For the XOR dataset, we can define the dataset class as follows:"
   ]
  },
  {
   "cell_type": "code",
   "execution_count": 42,
   "metadata": {},
   "outputs": [],
   "source": [
    "class XORDataset(data.Dataset):\n",
    "\n",
    "    def __init__(self, size, std=0.1):\n",
    "        \"\"\"\n",
    "        Inputs:\n",
    "            size - Number of data points we want to generate\n",
    "            std - Standard deviation of the noise (see generate_continuous_xor function)\n",
    "        \"\"\"\n",
    "        super().__init__()\n",
    "        self.size = size\n",
    "        self.std = std\n",
    "        self.generate_continuous_xor()\n",
    "\n",
    "    def generate_continuous_xor(self):\n",
    "        # Each data point in the XOR dataset has two variables, x and y, that can be either 0 or 1\n",
    "        # The label is their XOR combination, i.e. 1 if only x or only y is 1 while the other is 0.\n",
    "        # If x=y, the label is 0.\n",
    "        data = torch.randint(low=0, high=2, size=(self.size, 2), dtype=torch.float32)\n",
    "        label = (data.sum(dim=1) == 1).to(torch.long)\n",
    "        # To make it slightly more challenging, we add a bit of gaussian noise to the data points.\n",
    "        data += self.std * torch.randn(data.shape)\n",
    "\n",
    "        self.data = data\n",
    "        self.label = label\n",
    "\n",
    "    def __len__(self):\n",
    "        # Number of data point we have. Alternatively self.data.shape[0], or self.label.shape[0]\n",
    "        return self.size\n",
    "\n",
    "    def __getitem__(self, idx):\n",
    "        # Return the idx-th data point of the dataset\n",
    "        # If we have multiple things to return (data point and label), we can return them as tuple\n",
    "        data_point = self.data[idx]\n",
    "        data_label = self.label[idx]\n",
    "        return data_point, data_label"
   ]
  },
  {
   "cell_type": "markdown",
   "metadata": {},
   "source": [
    "Let's try to create such a dataset and inspect it:"
   ]
  },
  {
   "cell_type": "code",
   "execution_count": 43,
   "metadata": {},
   "outputs": [
    {
     "name": "stdout",
     "output_type": "stream",
     "text": [
      "Size of dataset: 200\n",
      "Data point 0: (tensor([1.0943, 1.0827]), tensor(0))\n"
     ]
    }
   ],
   "source": [
    "dataset = XORDataset(size=200)\n",
    "print(\"Size of dataset:\", len(dataset))\n",
    "print(\"Data point 0:\", dataset[0])"
   ]
  },
  {
   "cell_type": "markdown",
   "metadata": {},
   "source": [
    "To better relate to the dataset, we visualize the samples below. "
   ]
  },
  {
   "cell_type": "code",
   "execution_count": 44,
   "metadata": {},
   "outputs": [],
   "source": [
    "def visualize_samples(data, label):\n",
    "    if isinstance(data, torch.Tensor):\n",
    "        data = data.cpu().numpy()\n",
    "    if isinstance(label, torch.Tensor):\n",
    "        label = label.cpu().numpy()\n",
    "    data_0 = data[label == 0]\n",
    "    data_1 = data[label == 1]\n",
    "    \n",
    "    plt.figure(figsize=(4,4))\n",
    "    plt.scatter(data_0[:,0], data_0[:,1], edgecolor=\"#333\", label=\"Class 0\")\n",
    "    plt.scatter(data_1[:,0], data_1[:,1], edgecolor=\"#333\", label=\"Class 1\")\n",
    "    plt.title(\"Dataset samples\")\n",
    "    plt.ylabel(r\"$x_2$\")\n",
    "    plt.xlabel(r\"$x_1$\")\n",
    "    plt.legend()"
   ]
  },
  {
   "cell_type": "code",
   "execution_count": 45,
   "metadata": {},
   "outputs": [
    {
     "data": {
      "application/pdf": "[encoded data removed]",
      "image/svg+xml": [
       "<?xml version=\"1.0\" encoding=\"utf-8\" standalone=\"no\"?>\n",
       "<!DOCTYPE svg PUBLIC \"-//W3C//DTD SVG 1.1//EN\"\n",
       "  \"http://www.w3.org/Graphics/SVG/1.1/DTD/svg11.dtd\">\n",
       "<svg height=\"282.717813pt\" version=\"1.1\" viewBox=\"0 0 296.423594 282.717813\" width=\"296.423594pt\" xmlns=\"http://www.w3.org/2000/svg\" xmlns:xlink=\"http://www.w3.org/1999/xlink\">\n",
       " <metadata>\n",
       "  <rdf:RDF xmlns:cc=\"http://creativecommons.org/ns#\" xmlns:dc=\"http://purl.org/dc/elements/1.1/\" xmlns:rdf=\"http://www.w3.org/1999/02/22-rdf-syntax-ns#\">\n",
       "   <cc:Work>\n",
       "    <dc:type rdf:resource=\"http://purl.org/dc/dcmitype/StillImage\"/>\n",
       "    <dc:date>2022-01-10T11:12:14.663120</dc:date>\n",
       "    <dc:format>image/svg+xml</dc:format>\n",
       "    <dc:creator>\n",
       "     <cc:Agent>\n",
       "      <dc:title>Matplotlib v3.4.2, https://matplotlib.org/</dc:title>\n",
       "     </cc:Agent>\n",
       "    </dc:creator>\n",
       "   </cc:Work>\n",
       "  </rdf:RDF>\n",
       " </metadata>\n",
       " <defs>\n",
       "  <style type=\"text/css\">*{stroke-linecap:butt;stroke-linejoin:round;}</style>\n",
       " </defs>\n",
       " <g id=\"figure_1\">\n",
       "  <g id=\"patch_1\">\n",
       "   <path d=\"M 0 282.717813 \n",
       "L 296.423594 282.717813 \n",
       "L 296.423594 0 \n",
       "L 0 0 \n",
       "z\n",
       "\" style=\"fill:#ffffff;\"/>\n",
       "  </g>\n",
       "  <g id=\"axes_1\">\n",
       "   <g id=\"patch_2\">\n",
       "    <path d=\"M 66.023594 239.758125 \n",
       "L 289.223594 239.758125 \n",
       "L 289.223594 22.318125 \n",
       "L 66.023594 22.318125 \n",
       "z\n",
       "\" style=\"fill:#eaeaf2;\"/>\n",
       "   </g>\n",
       "   <g id=\"matplotlib.axis_1\">\n",
       "    <g id=\"xtick_1\">\n",
       "     <g id=\"line2d_1\">\n",
       "      <path clip-path=\"url(#p55c0e7cafd)\" d=\"M 102.666239 239.758125 \n",
       "L 102.666239 22.318125 \n",
       "\" style=\"fill:none;stroke:#ffffff;stroke-linecap:round;\"/>\n",
       "     </g>\n",
       "     <g id=\"text_1\">\n",
       "      <!-- 0.0 -->\n",
       "      <g style=\"fill:#262626;\" transform=\"translate(93.919521 257.616406)scale(0.11 -0.11)\">\n",
       "       <defs>\n",
       "        <path d=\"M 2034 4250 \n",
       "Q 1547 4250 1301 3770 \n",
       "Q 1056 3291 1056 2328 \n",
       "Q 1056 1369 1301 889 \n",
       "Q 1547 409 2034 409 \n",
       "Q 2525 409 2770 889 \n",
       "Q 3016 1369 3016 2328 \n",
       "Q 3016 3291 2770 3770 \n",
       "Q 2525 4250 2034 4250 \n",
       "z\n",
       "M 2034 4750 \n",
       "Q 2819 4750 3233 4129 \n",
       "Q 3647 3509 3647 2328 \n",
       "Q 3647 1150 3233 529 \n",
       "Q 2819 -91 2034 -91 \n",
       "Q 1250 -91 836 529 \n",
       "Q 422 1150 422 2328 \n",
       "Q 422 3509 836 4129 \n",
       "Q 1250 4750 2034 4750 \n",
       "z\n",
       "\" id=\"DejaVuSans-30\" transform=\"scale(0.015625)\"/>\n",
       "        <path d=\"M 684 794 \n",
       "L 1344 794 \n",
       "L 1344 0 \n",
       "L 684 0 \n",
       "L 684 794 \n",
       "z\n",
       "\" id=\"DejaVuSans-2e\" transform=\"scale(0.015625)\"/>\n",
       "       </defs>\n",
       "       <use xlink:href=\"#DejaVuSans-30\"/>\n",
       "       <use x=\"63.623047\" xlink:href=\"#DejaVuSans-2e\"/>\n",
       "       <use x=\"95.410156\" xlink:href=\"#DejaVuSans-30\"/>\n",
       "      </g>\n",
       "     </g>\n",
       "    </g>\n",
       "    <g id=\"xtick_2\">\n",
       "     <g id=\"line2d_2\">\n",
       "      <path clip-path=\"url(#p55c0e7cafd)\" d=\"M 167.878221 239.758125 \n",
       "L 167.878221 22.318125 \n",
       "\" style=\"fill:none;stroke:#ffffff;stroke-linecap:round;\"/>\n",
       "     </g>\n",
       "     <g id=\"text_2\">\n",
       "      <!-- 0.5 -->\n",
       "      <g style=\"fill:#262626;\" transform=\"translate(159.131502 257.616406)scale(0.11 -0.11)\">\n",
       "       <defs>\n",
       "        <path d=\"M 691 4666 \n",
       "L 3169 4666 \n",
       "L 3169 4134 \n",
       "L 1269 4134 \n",
       "L 1269 2991 \n",
       "Q 1406 3038 1543 3061 \n",
       "Q 1681 3084 1819 3084 \n",
       "Q 2600 3084 3056 2656 \n",
       "Q 3513 2228 3513 1497 \n",
       "Q 3513 744 3044 326 \n",
       "Q 2575 -91 1722 -91 \n",
       "Q 1428 -91 1123 -41 \n",
       "Q 819 9 494 109 \n",
       "L 494 744 \n",
       "Q 775 591 1075 516 \n",
       "Q 1375 441 1709 441 \n",
       "Q 2250 441 2565 725 \n",
       "Q 2881 1009 2881 1497 \n",
       "Q 2881 1984 2565 2268 \n",
       "Q 2250 2553 1709 2553 \n",
       "Q 1456 2553 1204 2497 \n",
       "Q 953 2441 691 2322 \n",
       "L 691 4666 \n",
       "z\n",
       "\" id=\"DejaVuSans-35\" transform=\"scale(0.015625)\"/>\n",
       "       </defs>\n",
       "       <use xlink:href=\"#DejaVuSans-30\"/>\n",
       "       <use x=\"63.623047\" xlink:href=\"#DejaVuSans-2e\"/>\n",
       "       <use x=\"95.410156\" xlink:href=\"#DejaVuSans-35\"/>\n",
       "      </g>\n",
       "     </g>\n",
       "    </g>\n",
       "    <g id=\"xtick_3\">\n",
       "     <g id=\"line2d_3\">\n",
       "      <path clip-path=\"url(#p55c0e7cafd)\" d=\"M 233.090202 239.758125 \n",
       "L 233.090202 22.318125 \n",
       "\" style=\"fill:none;stroke:#ffffff;stroke-linecap:round;\"/>\n",
       "     </g>\n",
       "     <g id=\"text_3\">\n",
       "      <!-- 1.0 -->\n",
       "      <g style=\"fill:#262626;\" transform=\"translate(224.343483 257.616406)scale(0.11 -0.11)\">\n",
       "       <defs>\n",
       "        <path d=\"M 794 531 \n",
       "L 1825 531 \n",
       "L 1825 4091 \n",
       "L 703 3866 \n",
       "L 703 4441 \n",
       "L 1819 4666 \n",
       "L 2450 4666 \n",
       "L 2450 531 \n",
       "L 3481 531 \n",
       "L 3481 0 \n",
       "L 794 0 \n",
       "L 794 531 \n",
       "z\n",
       "\" id=\"DejaVuSans-31\" transform=\"scale(0.015625)\"/>\n",
       "       </defs>\n",
       "       <use xlink:href=\"#DejaVuSans-31\"/>\n",
       "       <use x=\"63.623047\" xlink:href=\"#DejaVuSans-2e\"/>\n",
       "       <use x=\"95.410156\" xlink:href=\"#DejaVuSans-30\"/>\n",
       "      </g>\n",
       "     </g>\n",
       "    </g>\n",
       "    <g id=\"text_4\">\n",
       "     <!-- $x_1$ -->\n",
       "     <g style=\"fill:#262626;\" transform=\"translate(171.203594 273.022188)scale(0.12 -0.12)\">\n",
       "      <defs>\n",
       "       <path d=\"M 3841 3500 \n",
       "L 2234 1784 \n",
       "L 3219 0 \n",
       "L 2559 0 \n",
       "L 1819 1388 \n",
       "L 531 0 \n",
       "L -166 0 \n",
       "L 1556 1844 \n",
       "L 641 3500 \n",
       "L 1300 3500 \n",
       "L 1972 2234 \n",
       "L 3144 3500 \n",
       "L 3841 3500 \n",
       "z\n",
       "\" id=\"DejaVuSans-Oblique-78\" transform=\"scale(0.015625)\"/>\n",
       "      </defs>\n",
       "      <use transform=\"translate(0 0.3125)\" xlink:href=\"#DejaVuSans-Oblique-78\"/>\n",
       "      <use transform=\"translate(59.179688 -16.09375)scale(0.7)\" xlink:href=\"#DejaVuSans-31\"/>\n",
       "     </g>\n",
       "    </g>\n",
       "   </g>\n",
       "   <g id=\"matplotlib.axis_2\">\n",
       "    <g id=\"ytick_1\">\n",
       "     <g id=\"line2d_4\">\n",
       "      <path clip-path=\"url(#p55c0e7cafd)\" d=\"M 66.023594 227.940089 \n",
       "L 289.223594 227.940089 \n",
       "\" style=\"fill:none;stroke:#ffffff;stroke-linecap:round;\"/>\n",
       "     </g>\n",
       "     <g id=\"text_5\">\n",
       "      <!-- −0.25 -->\n",
       "      <g style=\"fill:#262626;\" transform=\"translate(22.81375 232.11923)scale(0.11 -0.11)\">\n",
       "       <defs>\n",
       "        <path d=\"M 678 2272 \n",
       "L 4684 2272 \n",
       "L 4684 1741 \n",
       "L 678 1741 \n",
       "L 678 2272 \n",
       "z\n",
       "\" id=\"DejaVuSans-2212\" transform=\"scale(0.015625)\"/>\n",
       "        <path d=\"M 1228 531 \n",
       "L 3431 531 \n",
       "L 3431 0 \n",
       "L 469 0 \n",
       "L 469 531 \n",
       "Q 828 903 1448 1529 \n",
       "Q 2069 2156 2228 2338 \n",
       "Q 2531 2678 2651 2914 \n",
       "Q 2772 3150 2772 3378 \n",
       "Q 2772 3750 2511 3984 \n",
       "Q 2250 4219 1831 4219 \n",
       "Q 1534 4219 1204 4116 \n",
       "Q 875 4013 500 3803 \n",
       "L 500 4441 \n",
       "Q 881 4594 1212 4672 \n",
       "Q 1544 4750 1819 4750 \n",
       "Q 2544 4750 2975 4387 \n",
       "Q 3406 4025 3406 3419 \n",
       "Q 3406 3131 3298 2873 \n",
       "Q 3191 2616 2906 2266 \n",
       "Q 2828 2175 2409 1742 \n",
       "Q 1991 1309 1228 531 \n",
       "z\n",
       "\" id=\"DejaVuSans-32\" transform=\"scale(0.015625)\"/>\n",
       "       </defs>\n",
       "       <use xlink:href=\"#DejaVuSans-2212\"/>\n",
       "       <use x=\"83.789062\" xlink:href=\"#DejaVuSans-30\"/>\n",
       "       <use x=\"147.412109\" xlink:href=\"#DejaVuSans-2e\"/>\n",
       "       <use x=\"179.199219\" xlink:href=\"#DejaVuSans-32\"/>\n",
       "       <use x=\"242.822266\" xlink:href=\"#DejaVuSans-35\"/>\n",
       "      </g>\n",
       "     </g>\n",
       "    </g>\n",
       "    <g id=\"ytick_2\">\n",
       "     <g id=\"line2d_5\">\n",
       "      <path clip-path=\"url(#p55c0e7cafd)\" d=\"M 66.023594 197.861893 \n",
       "L 289.223594 197.861893 \n",
       "\" style=\"fill:none;stroke:#ffffff;stroke-linecap:round;\"/>\n",
       "     </g>\n",
       "     <g id=\"text_6\">\n",
       "      <!-- 0.00 -->\n",
       "      <g style=\"fill:#262626;\" transform=\"translate(32.031406 202.041034)scale(0.11 -0.11)\">\n",
       "       <use xlink:href=\"#DejaVuSans-30\"/>\n",
       "       <use x=\"63.623047\" xlink:href=\"#DejaVuSans-2e\"/>\n",
       "       <use x=\"95.410156\" xlink:href=\"#DejaVuSans-30\"/>\n",
       "       <use x=\"159.033203\" xlink:href=\"#DejaVuSans-30\"/>\n",
       "      </g>\n",
       "     </g>\n",
       "    </g>\n",
       "    <g id=\"ytick_3\">\n",
       "     <g id=\"line2d_6\">\n",
       "      <path clip-path=\"url(#p55c0e7cafd)\" d=\"M 66.023594 167.783697 \n",
       "L 289.223594 167.783697 \n",
       "\" style=\"fill:none;stroke:#ffffff;stroke-linecap:round;\"/>\n",
       "     </g>\n",
       "     <g id=\"text_7\">\n",
       "      <!-- 0.25 -->\n",
       "      <g style=\"fill:#262626;\" transform=\"translate(32.031406 171.962837)scale(0.11 -0.11)\">\n",
       "       <use xlink:href=\"#DejaVuSans-30\"/>\n",
       "       <use x=\"63.623047\" xlink:href=\"#DejaVuSans-2e\"/>\n",
       "       <use x=\"95.410156\" xlink:href=\"#DejaVuSans-32\"/>\n",
       "       <use x=\"159.033203\" xlink:href=\"#DejaVuSans-35\"/>\n",
       "      </g>\n",
       "     </g>\n",
       "    </g>\n",
       "    <g id=\"ytick_4\">\n",
       "     <g id=\"line2d_7\">\n",
       "      <path clip-path=\"url(#p55c0e7cafd)\" d=\"M 66.023594 137.705501 \n",
       "L 289.223594 137.705501 \n",
       "\" style=\"fill:none;stroke:#ffffff;stroke-linecap:round;\"/>\n",
       "     </g>\n",
       "     <g id=\"text_8\">\n",
       "      <!-- 0.50 -->\n",
       "      <g style=\"fill:#262626;\" transform=\"translate(32.031406 141.884641)scale(0.11 -0.11)\">\n",
       "       <use xlink:href=\"#DejaVuSans-30\"/>\n",
       "       <use x=\"63.623047\" xlink:href=\"#DejaVuSans-2e\"/>\n",
       "       <use x=\"95.410156\" xlink:href=\"#DejaVuSans-35\"/>\n",
       "       <use x=\"159.033203\" xlink:href=\"#DejaVuSans-30\"/>\n",
       "      </g>\n",
       "     </g>\n",
       "    </g>\n",
       "    <g id=\"ytick_5\">\n",
       "     <g id=\"line2d_8\">\n",
       "      <path clip-path=\"url(#p55c0e7cafd)\" d=\"M 66.023594 107.627304 \n",
       "L 289.223594 107.627304 \n",
       "\" style=\"fill:none;stroke:#ffffff;stroke-linecap:round;\"/>\n",
       "     </g>\n",
       "     <g id=\"text_9\">\n",
       "      <!-- 0.75 -->\n",
       "      <g style=\"fill:#262626;\" transform=\"translate(32.031406 111.806445)scale(0.11 -0.11)\">\n",
       "       <defs>\n",
       "        <path d=\"M 525 4666 \n",
       "L 3525 4666 \n",
       "L 3525 4397 \n",
       "L 1831 0 \n",
       "L 1172 0 \n",
       "L 2766 4134 \n",
       "L 525 4134 \n",
       "L 525 4666 \n",
       "z\n",
       "\" id=\"DejaVuSans-37\" transform=\"scale(0.015625)\"/>\n",
       "       </defs>\n",
       "       <use xlink:href=\"#DejaVuSans-30\"/>\n",
       "       <use x=\"63.623047\" xlink:href=\"#DejaVuSans-2e\"/>\n",
       "       <use x=\"95.410156\" xlink:href=\"#DejaVuSans-37\"/>\n",
       "       <use x=\"159.033203\" xlink:href=\"#DejaVuSans-35\"/>\n",
       "      </g>\n",
       "     </g>\n",
       "    </g>\n",
       "    <g id=\"ytick_6\">\n",
       "     <g id=\"line2d_9\">\n",
       "      <path clip-path=\"url(#p55c0e7cafd)\" d=\"M 66.023594 77.549108 \n",
       "L 289.223594 77.549108 \n",
       "\" style=\"fill:none;stroke:#ffffff;stroke-linecap:round;\"/>\n",
       "     </g>\n",
       "     <g id=\"text_10\">\n",
       "      <!-- 1.00 -->\n",
       "      <g style=\"fill:#262626;\" transform=\"translate(32.031406 81.728249)scale(0.11 -0.11)\">\n",
       "       <use xlink:href=\"#DejaVuSans-31\"/>\n",
       "       <use x=\"63.623047\" xlink:href=\"#DejaVuSans-2e\"/>\n",
       "       <use x=\"95.410156\" xlink:href=\"#DejaVuSans-30\"/>\n",
       "       <use x=\"159.033203\" xlink:href=\"#DejaVuSans-30\"/>\n",
       "      </g>\n",
       "     </g>\n",
       "    </g>\n",
       "    <g id=\"ytick_7\">\n",
       "     <g id=\"line2d_10\">\n",
       "      <path clip-path=\"url(#p55c0e7cafd)\" d=\"M 66.023594 47.470912 \n",
       "L 289.223594 47.470912 \n",
       "\" style=\"fill:none;stroke:#ffffff;stroke-linecap:round;\"/>\n",
       "     </g>\n",
       "     <g id=\"text_11\">\n",
       "      <!-- 1.25 -->\n",
       "      <g style=\"fill:#262626;\" transform=\"translate(32.031406 51.650052)scale(0.11 -0.11)\">\n",
       "       <use xlink:href=\"#DejaVuSans-31\"/>\n",
       "       <use x=\"63.623047\" xlink:href=\"#DejaVuSans-2e\"/>\n",
       "       <use x=\"95.410156\" xlink:href=\"#DejaVuSans-32\"/>\n",
       "       <use x=\"159.033203\" xlink:href=\"#DejaVuSans-35\"/>\n",
       "      </g>\n",
       "     </g>\n",
       "    </g>\n",
       "    <g id=\"text_12\">\n",
       "     <!-- $x_2$ -->\n",
       "     <g style=\"fill:#262626;\" transform=\"translate(16.318125 137.458125)rotate(-90)scale(0.12 -0.12)\">\n",
       "      <use transform=\"translate(0 0.3125)\" xlink:href=\"#DejaVuSans-Oblique-78\"/>\n",
       "      <use transform=\"translate(59.179688 -16.09375)scale(0.7)\" xlink:href=\"#DejaVuSans-32\"/>\n",
       "     </g>\n",
       "    </g>\n",
       "   </g>\n",
       "   <g id=\"PathCollection_1\">\n",
       "    <defs>\n",
       "     <path d=\"M 0 3 \n",
       "C 0.795609 3 1.55874 2.683901 2.12132 2.12132 \n",
       "C 2.683901 1.55874 3 0.795609 3 0 \n",
       "C 3 -0.795609 2.683901 -1.55874 2.12132 -2.12132 \n",
       "C 1.55874 -2.683901 0.795609 -3 0 -3 \n",
       "C -0.795609 -3 -1.55874 -2.683901 -2.12132 -2.12132 \n",
       "C -2.683901 -1.55874 -3 -0.795609 -3 0 \n",
       "C -3 0.795609 -2.683901 1.55874 -2.12132 2.12132 \n",
       "C -1.55874 2.683901 -0.795609 3 0 3 \n",
       "z\n",
       "\" id=\"m1bf798e0e5\" style=\"stroke:#333333;\"/>\n",
       "    </defs>\n",
       "    <g clip-path=\"url(#p55c0e7cafd)\">\n",
       "     <use style=\"fill:#4c72b0;stroke:#333333;\" x=\"245.393835\" xlink:href=\"#m1bf798e0e5\" y=\"67.599182\"/>\n",
       "     <use style=\"fill:#4c72b0;stroke:#333333;\" x=\"95.862432\" xlink:href=\"#m1bf798e0e5\" y=\"204.727729\"/>\n",
       "     <use style=\"fill:#4c72b0;stroke:#333333;\" x=\"113.553694\" xlink:href=\"#m1bf798e0e5\" y=\"182.113205\"/>\n",
       "     <use style=\"fill:#4c72b0;stroke:#333333;\" x=\"244.110135\" xlink:href=\"#m1bf798e0e5\" y=\"62.569559\"/>\n",
       "     <use style=\"fill:#4c72b0;stroke:#333333;\" x=\"96.258342\" xlink:href=\"#m1bf798e0e5\" y=\"193.623675\"/>\n",
       "     <use style=\"fill:#4c72b0;stroke:#333333;\" x=\"225.372362\" xlink:href=\"#m1bf798e0e5\" y=\"84.791619\"/>\n",
       "     <use style=\"fill:#4c72b0;stroke:#333333;\" x=\"100.965503\" xlink:href=\"#m1bf798e0e5\" y=\"201.817353\"/>\n",
       "     <use style=\"fill:#4c72b0;stroke:#333333;\" x=\"244.267804\" xlink:href=\"#m1bf798e0e5\" y=\"81.639317\"/>\n",
       "     <use style=\"fill:#4c72b0;stroke:#333333;\" x=\"213.75877\" xlink:href=\"#m1bf798e0e5\" y=\"88.925336\"/>\n",
       "     <use style=\"fill:#4c72b0;stroke:#333333;\" x=\"95.416273\" xlink:href=\"#m1bf798e0e5\" y=\"185.450582\"/>\n",
       "     <use style=\"fill:#4c72b0;stroke:#333333;\" x=\"241.974947\" xlink:href=\"#m1bf798e0e5\" y=\"84.406239\"/>\n",
       "     <use style=\"fill:#4c72b0;stroke:#333333;\" x=\"107.303332\" xlink:href=\"#m1bf798e0e5\" y=\"194.189245\"/>\n",
       "     <use style=\"fill:#4c72b0;stroke:#333333;\" x=\"116.314642\" xlink:href=\"#m1bf798e0e5\" y=\"192.410167\"/>\n",
       "     <use style=\"fill:#4c72b0;stroke:#333333;\" x=\"206.991092\" xlink:href=\"#m1bf798e0e5\" y=\"89.878805\"/>\n",
       "     <use style=\"fill:#4c72b0;stroke:#333333;\" x=\"239.686318\" xlink:href=\"#m1bf798e0e5\" y=\"71.11842\"/>\n",
       "     <use style=\"fill:#4c72b0;stroke:#333333;\" x=\"249.219094\" xlink:href=\"#m1bf798e0e5\" y=\"76.436066\"/>\n",
       "     <use style=\"fill:#4c72b0;stroke:#333333;\" x=\"208.887373\" xlink:href=\"#m1bf798e0e5\" y=\"53.999315\"/>\n",
       "     <use style=\"fill:#4c72b0;stroke:#333333;\" x=\"124.148106\" xlink:href=\"#m1bf798e0e5\" y=\"219.062908\"/>\n",
       "     <use style=\"fill:#4c72b0;stroke:#333333;\" x=\"104.780363\" xlink:href=\"#m1bf798e0e5\" y=\"194.323187\"/>\n",
       "     <use style=\"fill:#4c72b0;stroke:#333333;\" x=\"238.135368\" xlink:href=\"#m1bf798e0e5\" y=\"60.511941\"/>\n",
       "     <use style=\"fill:#4c72b0;stroke:#333333;\" x=\"102.211758\" xlink:href=\"#m1bf798e0e5\" y=\"195.128538\"/>\n",
       "     <use style=\"fill:#4c72b0;stroke:#333333;\" x=\"109.864534\" xlink:href=\"#m1bf798e0e5\" y=\"200.437449\"/>\n",
       "     <use style=\"fill:#4c72b0;stroke:#333333;\" x=\"97.972375\" xlink:href=\"#m1bf798e0e5\" y=\"210.270879\"/>\n",
       "     <use style=\"fill:#4c72b0;stroke:#333333;\" x=\"212.865334\" xlink:href=\"#m1bf798e0e5\" y=\"82.455307\"/>\n",
       "     <use style=\"fill:#4c72b0;stroke:#333333;\" x=\"84.221029\" xlink:href=\"#m1bf798e0e5\" y=\"201.912459\"/>\n",
       "     <use style=\"fill:#4c72b0;stroke:#333333;\" x=\"96.502198\" xlink:href=\"#m1bf798e0e5\" y=\"187.676116\"/>\n",
       "     <use style=\"fill:#4c72b0;stroke:#333333;\" x=\"79.772736\" xlink:href=\"#m1bf798e0e5\" y=\"179.44022\"/>\n",
       "     <use style=\"fill:#4c72b0;stroke:#333333;\" x=\"86.612244\" xlink:href=\"#m1bf798e0e5\" y=\"198.244953\"/>\n",
       "     <use style=\"fill:#4c72b0;stroke:#333333;\" x=\"96.717189\" xlink:href=\"#m1bf798e0e5\" y=\"214.464969\"/>\n",
       "     <use style=\"fill:#4c72b0;stroke:#333333;\" x=\"234.87129\" xlink:href=\"#m1bf798e0e5\" y=\"87.276591\"/>\n",
       "     <use style=\"fill:#4c72b0;stroke:#333333;\" x=\"260.538865\" xlink:href=\"#m1bf798e0e5\" y=\"73.895668\"/>\n",
       "     <use style=\"fill:#4c72b0;stroke:#333333;\" x=\"103.701412\" xlink:href=\"#m1bf798e0e5\" y=\"209.732988\"/>\n",
       "     <use style=\"fill:#4c72b0;stroke:#333333;\" x=\"97.655417\" xlink:href=\"#m1bf798e0e5\" y=\"195.424866\"/>\n",
       "     <use style=\"fill:#4c72b0;stroke:#333333;\" x=\"226.931164\" xlink:href=\"#m1bf798e0e5\" y=\"79.093684\"/>\n",
       "     <use style=\"fill:#4c72b0;stroke:#333333;\" x=\"248.314028\" xlink:href=\"#m1bf798e0e5\" y=\"80.454061\"/>\n",
       "     <use style=\"fill:#4c72b0;stroke:#333333;\" x=\"114.926285\" xlink:href=\"#m1bf798e0e5\" y=\"191.807393\"/>\n",
       "     <use style=\"fill:#4c72b0;stroke:#333333;\" x=\"224.528508\" xlink:href=\"#m1bf798e0e5\" y=\"81.460725\"/>\n",
       "     <use style=\"fill:#4c72b0;stroke:#333333;\" x=\"242.530872\" xlink:href=\"#m1bf798e0e5\" y=\"89.522597\"/>\n",
       "     <use style=\"fill:#4c72b0;stroke:#333333;\" x=\"105.125671\" xlink:href=\"#m1bf798e0e5\" y=\"185.693293\"/>\n",
       "     <use style=\"fill:#4c72b0;stroke:#333333;\" x=\"113.341829\" xlink:href=\"#m1bf798e0e5\" y=\"199.949939\"/>\n",
       "     <use style=\"fill:#4c72b0;stroke:#333333;\" x=\"93.774049\" xlink:href=\"#m1bf798e0e5\" y=\"185.450223\"/>\n",
       "     <use style=\"fill:#4c72b0;stroke:#333333;\" x=\"106.625839\" xlink:href=\"#m1bf798e0e5\" y=\"204.721134\"/>\n",
       "     <use style=\"fill:#4c72b0;stroke:#333333;\" x=\"82.589378\" xlink:href=\"#m1bf798e0e5\" y=\"189.167271\"/>\n",
       "     <use style=\"fill:#4c72b0;stroke:#333333;\" x=\"244.631046\" xlink:href=\"#m1bf798e0e5\" y=\"70.349624\"/>\n",
       "     <use style=\"fill:#4c72b0;stroke:#333333;\" x=\"116.561719\" xlink:href=\"#m1bf798e0e5\" y=\"213.395265\"/>\n",
       "     <use style=\"fill:#4c72b0;stroke:#333333;\" x=\"279.078139\" xlink:href=\"#m1bf798e0e5\" y=\"79.458584\"/>\n",
       "     <use style=\"fill:#4c72b0;stroke:#333333;\" x=\"254.719871\" xlink:href=\"#m1bf798e0e5\" y=\"74.089864\"/>\n",
       "     <use style=\"fill:#4c72b0;stroke:#333333;\" x=\"216.31789\" xlink:href=\"#m1bf798e0e5\" y=\"92.206612\"/>\n",
       "     <use style=\"fill:#4c72b0;stroke:#333333;\" x=\"85.245767\" xlink:href=\"#m1bf798e0e5\" y=\"210.361069\"/>\n",
       "     <use style=\"fill:#4c72b0;stroke:#333333;\" x=\"116.789596\" xlink:href=\"#m1bf798e0e5\" y=\"203.280202\"/>\n",
       "     <use style=\"fill:#4c72b0;stroke:#333333;\" x=\"78.083553\" xlink:href=\"#m1bf798e0e5\" y=\"206.064305\"/>\n",
       "     <use style=\"fill:#4c72b0;stroke:#333333;\" x=\"94.114469\" xlink:href=\"#m1bf798e0e5\" y=\"202.156201\"/>\n",
       "     <use style=\"fill:#4c72b0;stroke:#333333;\" x=\"77.085602\" xlink:href=\"#m1bf798e0e5\" y=\"189.957774\"/>\n",
       "     <use style=\"fill:#4c72b0;stroke:#333333;\" x=\"98.338435\" xlink:href=\"#m1bf798e0e5\" y=\"202.433072\"/>\n",
       "     <use style=\"fill:#4c72b0;stroke:#333333;\" x=\"257.169668\" xlink:href=\"#m1bf798e0e5\" y=\"82.66282\"/>\n",
       "     <use style=\"fill:#4c72b0;stroke:#333333;\" x=\"251.228609\" xlink:href=\"#m1bf798e0e5\" y=\"82.916823\"/>\n",
       "     <use style=\"fill:#4c72b0;stroke:#333333;\" x=\"230.518433\" xlink:href=\"#m1bf798e0e5\" y=\"78.831491\"/>\n",
       "     <use style=\"fill:#4c72b0;stroke:#333333;\" x=\"223.970173\" xlink:href=\"#m1bf798e0e5\" y=\"73.117492\"/>\n",
       "     <use style=\"fill:#4c72b0;stroke:#333333;\" x=\"226.97364\" xlink:href=\"#m1bf798e0e5\" y=\"80.244619\"/>\n",
       "     <use style=\"fill:#4c72b0;stroke:#333333;\" x=\"100.632566\" xlink:href=\"#m1bf798e0e5\" y=\"194.40796\"/>\n",
       "     <use style=\"fill:#4c72b0;stroke:#333333;\" x=\"226.686613\" xlink:href=\"#m1bf798e0e5\" y=\"89.670653\"/>\n",
       "     <use style=\"fill:#4c72b0;stroke:#333333;\" x=\"245.827259\" xlink:href=\"#m1bf798e0e5\" y=\"79.035497\"/>\n",
       "     <use style=\"fill:#4c72b0;stroke:#333333;\" x=\"90.025588\" xlink:href=\"#m1bf798e0e5\" y=\"200.905532\"/>\n",
       "     <use style=\"fill:#4c72b0;stroke:#333333;\" x=\"234.579163\" xlink:href=\"#m1bf798e0e5\" y=\"77.76935\"/>\n",
       "     <use style=\"fill:#4c72b0;stroke:#333333;\" x=\"237.747001\" xlink:href=\"#m1bf798e0e5\" y=\"93.393059\"/>\n",
       "     <use style=\"fill:#4c72b0;stroke:#333333;\" x=\"230.084247\" xlink:href=\"#m1bf798e0e5\" y=\"71.887144\"/>\n",
       "     <use style=\"fill:#4c72b0;stroke:#333333;\" x=\"231.93027\" xlink:href=\"#m1bf798e0e5\" y=\"75.888774\"/>\n",
       "     <use style=\"fill:#4c72b0;stroke:#333333;\" x=\"222.263629\" xlink:href=\"#m1bf798e0e5\" y=\"62.200114\"/>\n",
       "     <use style=\"fill:#4c72b0;stroke:#333333;\" x=\"217.514243\" xlink:href=\"#m1bf798e0e5\" y=\"79.992207\"/>\n",
       "     <use style=\"fill:#4c72b0;stroke:#333333;\" x=\"244.883868\" xlink:href=\"#m1bf798e0e5\" y=\"88.526481\"/>\n",
       "     <use style=\"fill:#4c72b0;stroke:#333333;\" x=\"83.963389\" xlink:href=\"#m1bf798e0e5\" y=\"214.105348\"/>\n",
       "     <use style=\"fill:#4c72b0;stroke:#333333;\" x=\"195.042414\" xlink:href=\"#m1bf798e0e5\" y=\"63.819414\"/>\n",
       "     <use style=\"fill:#4c72b0;stroke:#333333;\" x=\"243.592861\" xlink:href=\"#m1bf798e0e5\" y=\"69.605798\"/>\n",
       "     <use style=\"fill:#4c72b0;stroke:#333333;\" x=\"255.541896\" xlink:href=\"#m1bf798e0e5\" y=\"74.105124\"/>\n",
       "     <use style=\"fill:#4c72b0;stroke:#333333;\" x=\"216.83713\" xlink:href=\"#m1bf798e0e5\" y=\"72.519457\"/>\n",
       "     <use style=\"fill:#4c72b0;stroke:#333333;\" x=\"92.498515\" xlink:href=\"#m1bf798e0e5\" y=\"194.635084\"/>\n",
       "     <use style=\"fill:#4c72b0;stroke:#333333;\" x=\"89.746506\" xlink:href=\"#m1bf798e0e5\" y=\"208.750296\"/>\n",
       "     <use style=\"fill:#4c72b0;stroke:#333333;\" x=\"83.639961\" xlink:href=\"#m1bf798e0e5\" y=\"210.338149\"/>\n",
       "     <use style=\"fill:#4c72b0;stroke:#333333;\" x=\"224.421781\" xlink:href=\"#m1bf798e0e5\" y=\"83.411507\"/>\n",
       "     <use style=\"fill:#4c72b0;stroke:#333333;\" x=\"246.697777\" xlink:href=\"#m1bf798e0e5\" y=\"98.866205\"/>\n",
       "     <use style=\"fill:#4c72b0;stroke:#333333;\" x=\"235.784549\" xlink:href=\"#m1bf798e0e5\" y=\"70.21155\"/>\n",
       "     <use style=\"fill:#4c72b0;stroke:#333333;\" x=\"210.862457\" xlink:href=\"#m1bf798e0e5\" y=\"53.743446\"/>\n",
       "     <use style=\"fill:#4c72b0;stroke:#333333;\" x=\"111.554945\" xlink:href=\"#m1bf798e0e5\" y=\"182.73277\"/>\n",
       "     <use style=\"fill:#4c72b0;stroke:#333333;\" x=\"105.761711\" xlink:href=\"#m1bf798e0e5\" y=\"176.920825\"/>\n",
       "     <use style=\"fill:#4c72b0;stroke:#333333;\" x=\"226.41581\" xlink:href=\"#m1bf798e0e5\" y=\"70.179222\"/>\n",
       "     <use style=\"fill:#4c72b0;stroke:#333333;\" x=\"105.251683\" xlink:href=\"#m1bf798e0e5\" y=\"192.535356\"/>\n",
       "     <use style=\"fill:#4c72b0;stroke:#333333;\" x=\"92.64815\" xlink:href=\"#m1bf798e0e5\" y=\"190.308981\"/>\n",
       "     <use style=\"fill:#4c72b0;stroke:#333333;\" x=\"236.226494\" xlink:href=\"#m1bf798e0e5\" y=\"77.662119\"/>\n",
       "     <use style=\"fill:#4c72b0;stroke:#333333;\" x=\"252.880526\" xlink:href=\"#m1bf798e0e5\" y=\"81.120882\"/>\n",
       "     <use style=\"fill:#4c72b0;stroke:#333333;\" x=\"108.179612\" xlink:href=\"#m1bf798e0e5\" y=\"184.992325\"/>\n",
       "     <use style=\"fill:#4c72b0;stroke:#333333;\" x=\"100.782314\" xlink:href=\"#m1bf798e0e5\" y=\"200.247643\"/>\n",
       "     <use style=\"fill:#4c72b0;stroke:#333333;\" x=\"136.873924\" xlink:href=\"#m1bf798e0e5\" y=\"212.836396\"/>\n",
       "     <use style=\"fill:#4c72b0;stroke:#333333;\" x=\"107.714336\" xlink:href=\"#m1bf798e0e5\" y=\"192.859757\"/>\n",
       "     <use style=\"fill:#4c72b0;stroke:#333333;\" x=\"226.14067\" xlink:href=\"#m1bf798e0e5\" y=\"80.188856\"/>\n",
       "     <use style=\"fill:#4c72b0;stroke:#333333;\" x=\"107.18033\" xlink:href=\"#m1bf798e0e5\" y=\"205.226573\"/>\n",
       "    </g>\n",
       "   </g>\n",
       "   <g id=\"PathCollection_2\">\n",
       "    <defs>\n",
       "     <path d=\"M 0 3 \n",
       "C 0.795609 3 1.55874 2.683901 2.12132 2.12132 \n",
       "C 2.683901 1.55874 3 0.795609 3 0 \n",
       "C 3 -0.795609 2.683901 -1.55874 2.12132 -2.12132 \n",
       "C 1.55874 -2.683901 0.795609 -3 0 -3 \n",
       "C -0.795609 -3 -1.55874 -2.683901 -2.12132 -2.12132 \n",
       "C -2.683901 -1.55874 -3 -0.795609 -3 0 \n",
       "C -3 0.795609 -2.683901 1.55874 -2.12132 2.12132 \n",
       "C -1.55874 2.683901 -0.795609 3 0 3 \n",
       "z\n",
       "\" id=\"md6e4ef1faf\" style=\"stroke:#333333;\"/>\n",
       "    </defs>\n",
       "    <g clip-path=\"url(#p55c0e7cafd)\">\n",
       "     <use style=\"fill:#dd8452;stroke:#333333;\" x=\"117.242872\" xlink:href=\"#md6e4ef1faf\" y=\"85.135407\"/>\n",
       "     <use style=\"fill:#dd8452;stroke:#333333;\" x=\"227.955714\" xlink:href=\"#md6e4ef1faf\" y=\"202.207367\"/>\n",
       "     <use style=\"fill:#dd8452;stroke:#333333;\" x=\"258.191575\" xlink:href=\"#md6e4ef1faf\" y=\"178.536086\"/>\n",
       "     <use style=\"fill:#dd8452;stroke:#333333;\" x=\"232.722436\" xlink:href=\"#md6e4ef1faf\" y=\"191.198849\"/>\n",
       "     <use style=\"fill:#dd8452;stroke:#333333;\" x=\"255.683863\" xlink:href=\"#md6e4ef1faf\" y=\"216.376003\"/>\n",
       "     <use style=\"fill:#dd8452;stroke:#333333;\" x=\"230.893103\" xlink:href=\"#md6e4ef1faf\" y=\"222.421223\"/>\n",
       "     <use style=\"fill:#dd8452;stroke:#333333;\" x=\"234.83752\" xlink:href=\"#md6e4ef1faf\" y=\"190.67705\"/>\n",
       "     <use style=\"fill:#dd8452;stroke:#333333;\" x=\"205.748158\" xlink:href=\"#md6e4ef1faf\" y=\"166.702502\"/>\n",
       "     <use style=\"fill:#dd8452;stroke:#333333;\" x=\"102.339687\" xlink:href=\"#md6e4ef1faf\" y=\"73.857747\"/>\n",
       "     <use style=\"fill:#dd8452;stroke:#333333;\" x=\"101.955437\" xlink:href=\"#md6e4ef1faf\" y=\"66.143499\"/>\n",
       "     <use style=\"fill:#dd8452;stroke:#333333;\" x=\"244.367155\" xlink:href=\"#md6e4ef1faf\" y=\"201.806591\"/>\n",
       "     <use style=\"fill:#dd8452;stroke:#333333;\" x=\"229.551239\" xlink:href=\"#md6e4ef1faf\" y=\"177.514647\"/>\n",
       "     <use style=\"fill:#dd8452;stroke:#333333;\" x=\"111.75703\" xlink:href=\"#md6e4ef1faf\" y=\"81.964804\"/>\n",
       "     <use style=\"fill:#dd8452;stroke:#333333;\" x=\"98.423428\" xlink:href=\"#md6e4ef1faf\" y=\"76.678582\"/>\n",
       "     <use style=\"fill:#dd8452;stroke:#333333;\" x=\"83.833934\" xlink:href=\"#md6e4ef1faf\" y=\"82.167913\"/>\n",
       "     <use style=\"fill:#dd8452;stroke:#333333;\" x=\"239.630922\" xlink:href=\"#md6e4ef1faf\" y=\"194.326098\"/>\n",
       "     <use style=\"fill:#dd8452;stroke:#333333;\" x=\"207.411884\" xlink:href=\"#md6e4ef1faf\" y=\"183.937771\"/>\n",
       "     <use style=\"fill:#dd8452;stroke:#333333;\" x=\"116.866953\" xlink:href=\"#md6e4ef1faf\" y=\"88.338725\"/>\n",
       "     <use style=\"fill:#dd8452;stroke:#333333;\" x=\"239.781144\" xlink:href=\"#md6e4ef1faf\" y=\"210.635685\"/>\n",
       "     <use style=\"fill:#dd8452;stroke:#333333;\" x=\"102.835199\" xlink:href=\"#md6e4ef1faf\" y=\"88.780392\"/>\n",
       "     <use style=\"fill:#dd8452;stroke:#333333;\" x=\"250.648072\" xlink:href=\"#md6e4ef1faf\" y=\"188.435544\"/>\n",
       "     <use style=\"fill:#dd8452;stroke:#333333;\" x=\"107.532329\" xlink:href=\"#md6e4ef1faf\" y=\"57.824648\"/>\n",
       "     <use style=\"fill:#dd8452;stroke:#333333;\" x=\"99.634503\" xlink:href=\"#md6e4ef1faf\" y=\"95.575736\"/>\n",
       "     <use style=\"fill:#dd8452;stroke:#333333;\" x=\"225.325423\" xlink:href=\"#md6e4ef1faf\" y=\"207.781869\"/>\n",
       "     <use style=\"fill:#dd8452;stroke:#333333;\" x=\"92.894201\" xlink:href=\"#md6e4ef1faf\" y=\"83.460831\"/>\n",
       "     <use style=\"fill:#dd8452;stroke:#333333;\" x=\"232.23646\" xlink:href=\"#md6e4ef1faf\" y=\"229.874489\"/>\n",
       "     <use style=\"fill:#dd8452;stroke:#333333;\" x=\"236.200467\" xlink:href=\"#md6e4ef1faf\" y=\"189.449764\"/>\n",
       "     <use style=\"fill:#dd8452;stroke:#333333;\" x=\"133.836728\" xlink:href=\"#md6e4ef1faf\" y=\"67.426212\"/>\n",
       "     <use style=\"fill:#dd8452;stroke:#333333;\" x=\"229.450536\" xlink:href=\"#md6e4ef1faf\" y=\"192.996427\"/>\n",
       "     <use style=\"fill:#dd8452;stroke:#333333;\" x=\"91.409475\" xlink:href=\"#md6e4ef1faf\" y=\"32.201761\"/>\n",
       "     <use style=\"fill:#dd8452;stroke:#333333;\" x=\"125.408636\" xlink:href=\"#md6e4ef1faf\" y=\"71.461562\"/>\n",
       "     <use style=\"fill:#dd8452;stroke:#333333;\" x=\"249.328177\" xlink:href=\"#md6e4ef1faf\" y=\"186.134673\"/>\n",
       "     <use style=\"fill:#dd8452;stroke:#333333;\" x=\"101.769008\" xlink:href=\"#md6e4ef1faf\" y=\"75.053128\"/>\n",
       "     <use style=\"fill:#dd8452;stroke:#333333;\" x=\"114.698106\" xlink:href=\"#md6e4ef1faf\" y=\"60.768254\"/>\n",
       "     <use style=\"fill:#dd8452;stroke:#333333;\" x=\"91.553047\" xlink:href=\"#md6e4ef1faf\" y=\"94.046061\"/>\n",
       "     <use style=\"fill:#dd8452;stroke:#333333;\" x=\"88.171398\" xlink:href=\"#md6e4ef1faf\" y=\"72.177534\"/>\n",
       "     <use style=\"fill:#dd8452;stroke:#333333;\" x=\"234.969178\" xlink:href=\"#md6e4ef1faf\" y=\"198.473275\"/>\n",
       "     <use style=\"fill:#dd8452;stroke:#333333;\" x=\"110.391872\" xlink:href=\"#md6e4ef1faf\" y=\"79.185196\"/>\n",
       "     <use style=\"fill:#dd8452;stroke:#333333;\" x=\"128.985825\" xlink:href=\"#md6e4ef1faf\" y=\"96.254067\"/>\n",
       "     <use style=\"fill:#dd8452;stroke:#333333;\" x=\"243.080687\" xlink:href=\"#md6e4ef1faf\" y=\"178.313888\"/>\n",
       "     <use style=\"fill:#dd8452;stroke:#333333;\" x=\"247.84957\" xlink:href=\"#md6e4ef1faf\" y=\"187.610868\"/>\n",
       "     <use style=\"fill:#dd8452;stroke:#333333;\" x=\"114.841943\" xlink:href=\"#md6e4ef1faf\" y=\"80.704795\"/>\n",
       "     <use style=\"fill:#dd8452;stroke:#333333;\" x=\"122.007589\" xlink:href=\"#md6e4ef1faf\" y=\"98.218072\"/>\n",
       "     <use style=\"fill:#dd8452;stroke:#333333;\" x=\"105.454152\" xlink:href=\"#md6e4ef1faf\" y=\"59.123009\"/>\n",
       "     <use style=\"fill:#dd8452;stroke:#333333;\" x=\"240.925832\" xlink:href=\"#md6e4ef1faf\" y=\"201.685047\"/>\n",
       "     <use style=\"fill:#dd8452;stroke:#333333;\" x=\"114.364061\" xlink:href=\"#md6e4ef1faf\" y=\"71.000195\"/>\n",
       "     <use style=\"fill:#dd8452;stroke:#333333;\" x=\"255.488536\" xlink:href=\"#md6e4ef1faf\" y=\"190.12744\"/>\n",
       "     <use style=\"fill:#dd8452;stroke:#333333;\" x=\"231.865926\" xlink:href=\"#md6e4ef1faf\" y=\"196.253339\"/>\n",
       "     <use style=\"fill:#dd8452;stroke:#333333;\" x=\"114.70643\" xlink:href=\"#md6e4ef1faf\" y=\"69.649069\"/>\n",
       "     <use style=\"fill:#dd8452;stroke:#333333;\" x=\"217.857793\" xlink:href=\"#md6e4ef1faf\" y=\"184.14772\"/>\n",
       "     <use style=\"fill:#dd8452;stroke:#333333;\" x=\"86.63603\" xlink:href=\"#md6e4ef1faf\" y=\"68.072309\"/>\n",
       "     <use style=\"fill:#dd8452;stroke:#333333;\" x=\"98.940318\" xlink:href=\"#md6e4ef1faf\" y=\"87.545726\"/>\n",
       "     <use style=\"fill:#dd8452;stroke:#333333;\" x=\"94.368312\" xlink:href=\"#md6e4ef1faf\" y=\"74.3157\"/>\n",
       "     <use style=\"fill:#dd8452;stroke:#333333;\" x=\"251.809426\" xlink:href=\"#md6e4ef1faf\" y=\"193.616776\"/>\n",
       "     <use style=\"fill:#dd8452;stroke:#333333;\" x=\"247.879531\" xlink:href=\"#md6e4ef1faf\" y=\"194.455523\"/>\n",
       "     <use style=\"fill:#dd8452;stroke:#333333;\" x=\"244.185153\" xlink:href=\"#md6e4ef1faf\" y=\"191.646648\"/>\n",
       "     <use style=\"fill:#dd8452;stroke:#333333;\" x=\"210.535791\" xlink:href=\"#md6e4ef1faf\" y=\"188.328342\"/>\n",
       "     <use style=\"fill:#dd8452;stroke:#333333;\" x=\"96.036861\" xlink:href=\"#md6e4ef1faf\" y=\"87.034341\"/>\n",
       "     <use style=\"fill:#dd8452;stroke:#333333;\" x=\"209.932749\" xlink:href=\"#md6e4ef1faf\" y=\"207.615064\"/>\n",
       "     <use style=\"fill:#dd8452;stroke:#333333;\" x=\"103.933465\" xlink:href=\"#md6e4ef1faf\" y=\"77.325496\"/>\n",
       "     <use style=\"fill:#dd8452;stroke:#333333;\" x=\"99.397329\" xlink:href=\"#md6e4ef1faf\" y=\"70.803518\"/>\n",
       "     <use style=\"fill:#dd8452;stroke:#333333;\" x=\"116.748791\" xlink:href=\"#md6e4ef1faf\" y=\"68.759726\"/>\n",
       "     <use style=\"fill:#dd8452;stroke:#333333;\" x=\"228.873046\" xlink:href=\"#md6e4ef1faf\" y=\"193.486572\"/>\n",
       "     <use style=\"fill:#dd8452;stroke:#333333;\" x=\"101.571467\" xlink:href=\"#md6e4ef1faf\" y=\"86.220804\"/>\n",
       "     <use style=\"fill:#dd8452;stroke:#333333;\" x=\"103.503964\" xlink:href=\"#md6e4ef1faf\" y=\"87.08522\"/>\n",
       "     <use style=\"fill:#dd8452;stroke:#333333;\" x=\"210.589882\" xlink:href=\"#md6e4ef1faf\" y=\"189.684267\"/>\n",
       "     <use style=\"fill:#dd8452;stroke:#333333;\" x=\"83.941381\" xlink:href=\"#md6e4ef1faf\" y=\"78.089687\"/>\n",
       "     <use style=\"fill:#dd8452;stroke:#333333;\" x=\"76.169048\" xlink:href=\"#md6e4ef1faf\" y=\"86.553468\"/>\n",
       "     <use style=\"fill:#dd8452;stroke:#333333;\" x=\"241.997336\" xlink:href=\"#md6e4ef1faf\" y=\"198.440082\"/>\n",
       "     <use style=\"fill:#dd8452;stroke:#333333;\" x=\"222.981771\" xlink:href=\"#md6e4ef1faf\" y=\"191.522722\"/>\n",
       "     <use style=\"fill:#dd8452;stroke:#333333;\" x=\"213.144292\" xlink:href=\"#md6e4ef1faf\" y=\"215.327541\"/>\n",
       "     <use style=\"fill:#dd8452;stroke:#333333;\" x=\"110.754496\" xlink:href=\"#md6e4ef1faf\" y=\"79.600796\"/>\n",
       "     <use style=\"fill:#dd8452;stroke:#333333;\" x=\"260.808245\" xlink:href=\"#md6e4ef1faf\" y=\"186.824346\"/>\n",
       "     <use style=\"fill:#dd8452;stroke:#333333;\" x=\"228.578448\" xlink:href=\"#md6e4ef1faf\" y=\"187.705622\"/>\n",
       "     <use style=\"fill:#dd8452;stroke:#333333;\" x=\"80.503199\" xlink:href=\"#md6e4ef1faf\" y=\"81.806822\"/>\n",
       "     <use style=\"fill:#dd8452;stroke:#333333;\" x=\"98.849942\" xlink:href=\"#md6e4ef1faf\" y=\"66.044207\"/>\n",
       "     <use style=\"fill:#dd8452;stroke:#333333;\" x=\"220.127189\" xlink:href=\"#md6e4ef1faf\" y=\"199.267192\"/>\n",
       "     <use style=\"fill:#dd8452;stroke:#333333;\" x=\"95.411973\" xlink:href=\"#md6e4ef1faf\" y=\"60.226083\"/>\n",
       "     <use style=\"fill:#dd8452;stroke:#333333;\" x=\"210.779658\" xlink:href=\"#md6e4ef1faf\" y=\"190.223331\"/>\n",
       "     <use style=\"fill:#dd8452;stroke:#333333;\" x=\"245.428708\" xlink:href=\"#md6e4ef1faf\" y=\"199.346496\"/>\n",
       "     <use style=\"fill:#dd8452;stroke:#333333;\" x=\"94.731412\" xlink:href=\"#md6e4ef1faf\" y=\"90.708025\"/>\n",
       "     <use style=\"fill:#dd8452;stroke:#333333;\" x=\"98.1743\" xlink:href=\"#md6e4ef1faf\" y=\"60.957545\"/>\n",
       "     <use style=\"fill:#dd8452;stroke:#333333;\" x=\"227.938945\" xlink:href=\"#md6e4ef1faf\" y=\"189.199373\"/>\n",
       "     <use style=\"fill:#dd8452;stroke:#333333;\" x=\"231.248206\" xlink:href=\"#md6e4ef1faf\" y=\"204.228448\"/>\n",
       "     <use style=\"fill:#dd8452;stroke:#333333;\" x=\"112.503658\" xlink:href=\"#md6e4ef1faf\" y=\"89.488225\"/>\n",
       "     <use style=\"fill:#dd8452;stroke:#333333;\" x=\"231.722233\" xlink:href=\"#md6e4ef1faf\" y=\"210.392374\"/>\n",
       "     <use style=\"fill:#dd8452;stroke:#333333;\" x=\"248.569975\" xlink:href=\"#md6e4ef1faf\" y=\"185.403086\"/>\n",
       "     <use style=\"fill:#dd8452;stroke:#333333;\" x=\"111.644145\" xlink:href=\"#md6e4ef1faf\" y=\"78.990742\"/>\n",
       "     <use style=\"fill:#dd8452;stroke:#333333;\" x=\"115.29075\" xlink:href=\"#md6e4ef1faf\" y=\"75.363627\"/>\n",
       "     <use style=\"fill:#dd8452;stroke:#333333;\" x=\"229.449774\" xlink:href=\"#md6e4ef1faf\" y=\"214.674858\"/>\n",
       "     <use style=\"fill:#dd8452;stroke:#333333;\" x=\"81.408556\" xlink:href=\"#md6e4ef1faf\" y=\"79.979141\"/>\n",
       "     <use style=\"fill:#dd8452;stroke:#333333;\" x=\"82.823296\" xlink:href=\"#md6e4ef1faf\" y=\"78.42294\"/>\n",
       "     <use style=\"fill:#dd8452;stroke:#333333;\" x=\"105.254824\" xlink:href=\"#md6e4ef1faf\" y=\"73.819926\"/>\n",
       "     <use style=\"fill:#dd8452;stroke:#333333;\" x=\"109.84894\" xlink:href=\"#md6e4ef1faf\" y=\"74.864096\"/>\n",
       "     <use style=\"fill:#dd8452;stroke:#333333;\" x=\"109.094128\" xlink:href=\"#md6e4ef1faf\" y=\"73.37415\"/>\n",
       "     <use style=\"fill:#dd8452;stroke:#333333;\" x=\"226.272452\" xlink:href=\"#md6e4ef1faf\" y=\"190.437423\"/>\n",
       "     <use style=\"fill:#dd8452;stroke:#333333;\" x=\"238.961685\" xlink:href=\"#md6e4ef1faf\" y=\"176.614364\"/>\n",
       "     <use style=\"fill:#dd8452;stroke:#333333;\" x=\"88.24107\" xlink:href=\"#md6e4ef1faf\" y=\"60.83737\"/>\n",
       "     <use style=\"fill:#dd8452;stroke:#333333;\" x=\"213.382918\" xlink:href=\"#md6e4ef1faf\" y=\"196.582799\"/>\n",
       "     <use style=\"fill:#dd8452;stroke:#333333;\" x=\"110.262333\" xlink:href=\"#md6e4ef1faf\" y=\"67.772237\"/>\n",
       "     <use style=\"fill:#dd8452;stroke:#333333;\" x=\"103.837668\" xlink:href=\"#md6e4ef1faf\" y=\"77.061438\"/>\n",
       "     <use style=\"fill:#dd8452;stroke:#333333;\" x=\"237.298791\" xlink:href=\"#md6e4ef1faf\" y=\"201.296929\"/>\n",
       "     <use style=\"fill:#dd8452;stroke:#333333;\" x=\"243.534915\" xlink:href=\"#md6e4ef1faf\" y=\"184.288679\"/>\n",
       "     <use style=\"fill:#dd8452;stroke:#333333;\" x=\"217.811337\" xlink:href=\"#md6e4ef1faf\" y=\"214.794889\"/>\n",
       "     <use style=\"fill:#dd8452;stroke:#333333;\" x=\"219.993113\" xlink:href=\"#md6e4ef1faf\" y=\"205.203041\"/>\n",
       "    </g>\n",
       "   </g>\n",
       "   <g id=\"patch_3\">\n",
       "    <path d=\"M 66.023594 239.758125 \n",
       "L 66.023594 22.318125 \n",
       "\" style=\"fill:none;stroke:#ffffff;stroke-linecap:square;stroke-linejoin:miter;stroke-width:1.25;\"/>\n",
       "   </g>\n",
       "   <g id=\"patch_4\">\n",
       "    <path d=\"M 289.223594 239.758125 \n",
       "L 289.223594 22.318125 \n",
       "\" style=\"fill:none;stroke:#ffffff;stroke-linecap:square;stroke-linejoin:miter;stroke-width:1.25;\"/>\n",
       "   </g>\n",
       "   <g id=\"patch_5\">\n",
       "    <path d=\"M 66.023594 239.758125 \n",
       "L 289.223594 239.758125 \n",
       "\" style=\"fill:none;stroke:#ffffff;stroke-linecap:square;stroke-linejoin:miter;stroke-width:1.25;\"/>\n",
       "   </g>\n",
       "   <g id=\"patch_6\">\n",
       "    <path d=\"M 66.023594 22.318125 \n",
       "L 289.223594 22.318125 \n",
       "\" style=\"fill:none;stroke:#ffffff;stroke-linecap:square;stroke-linejoin:miter;stroke-width:1.25;\"/>\n",
       "   </g>\n",
       "   <g id=\"text_13\">\n",
       "    <!-- Dataset samples -->\n",
       "    <g style=\"fill:#262626;\" transform=\"translate(127.280781 16.318125)scale(0.12 -0.12)\">\n",
       "     <defs>\n",
       "      <path d=\"M 1259 4147 \n",
       "L 1259 519 \n",
       "L 2022 519 \n",
       "Q 2988 519 3436 956 \n",
       "Q 3884 1394 3884 2338 \n",
       "Q 3884 3275 3436 3711 \n",
       "Q 2988 4147 2022 4147 \n",
       "L 1259 4147 \n",
       "z\n",
       "M 628 4666 \n",
       "L 1925 4666 \n",
       "Q 3281 4666 3915 4102 \n",
       "Q 4550 3538 4550 2338 \n",
       "Q 4550 1131 3912 565 \n",
       "Q 3275 0 1925 0 \n",
       "L 628 0 \n",
       "L 628 4666 \n",
       "z\n",
       "\" id=\"DejaVuSans-44\" transform=\"scale(0.015625)\"/>\n",
       "      <path d=\"M 2194 1759 \n",
       "Q 1497 1759 1228 1600 \n",
       "Q 959 1441 959 1056 \n",
       "Q 959 750 1161 570 \n",
       "Q 1363 391 1709 391 \n",
       "Q 2188 391 2477 730 \n",
       "Q 2766 1069 2766 1631 \n",
       "L 2766 1759 \n",
       "L 2194 1759 \n",
       "z\n",
       "M 3341 1997 \n",
       "L 3341 0 \n",
       "L 2766 0 \n",
       "L 2766 531 \n",
       "Q 2569 213 2275 61 \n",
       "Q 1981 -91 1556 -91 \n",
       "Q 1019 -91 701 211 \n",
       "Q 384 513 384 1019 \n",
       "Q 384 1609 779 1909 \n",
       "Q 1175 2209 1959 2209 \n",
       "L 2766 2209 \n",
       "L 2766 2266 \n",
       "Q 2766 2663 2505 2880 \n",
       "Q 2244 3097 1772 3097 \n",
       "Q 1472 3097 1187 3025 \n",
       "Q 903 2953 641 2809 \n",
       "L 641 3341 \n",
       "Q 956 3463 1253 3523 \n",
       "Q 1550 3584 1831 3584 \n",
       "Q 2591 3584 2966 3190 \n",
       "Q 3341 2797 3341 1997 \n",
       "z\n",
       "\" id=\"DejaVuSans-61\" transform=\"scale(0.015625)\"/>\n",
       "      <path d=\"M 1172 4494 \n",
       "L 1172 3500 \n",
       "L 2356 3500 \n",
       "L 2356 3053 \n",
       "L 1172 3053 \n",
       "L 1172 1153 \n",
       "Q 1172 725 1289 603 \n",
       "Q 1406 481 1766 481 \n",
       "L 2356 481 \n",
       "L 2356 0 \n",
       "L 1766 0 \n",
       "Q 1100 0 847 248 \n",
       "Q 594 497 594 1153 \n",
       "L 594 3053 \n",
       "L 172 3053 \n",
       "L 172 3500 \n",
       "L 594 3500 \n",
       "L 594 4494 \n",
       "L 1172 4494 \n",
       "z\n",
       "\" id=\"DejaVuSans-74\" transform=\"scale(0.015625)\"/>\n",
       "      <path d=\"M 2834 3397 \n",
       "L 2834 2853 \n",
       "Q 2591 2978 2328 3040 \n",
       "Q 2066 3103 1784 3103 \n",
       "Q 1356 3103 1142 2972 \n",
       "Q 928 2841 928 2578 \n",
       "Q 928 2378 1081 2264 \n",
       "Q 1234 2150 1697 2047 \n",
       "L 1894 2003 \n",
       "Q 2506 1872 2764 1633 \n",
       "Q 3022 1394 3022 966 \n",
       "Q 3022 478 2636 193 \n",
       "Q 2250 -91 1575 -91 \n",
       "Q 1294 -91 989 -36 \n",
       "Q 684 19 347 128 \n",
       "L 347 722 \n",
       "Q 666 556 975 473 \n",
       "Q 1284 391 1588 391 \n",
       "Q 1994 391 2212 530 \n",
       "Q 2431 669 2431 922 \n",
       "Q 2431 1156 2273 1281 \n",
       "Q 2116 1406 1581 1522 \n",
       "L 1381 1569 \n",
       "Q 847 1681 609 1914 \n",
       "Q 372 2147 372 2553 \n",
       "Q 372 3047 722 3315 \n",
       "Q 1072 3584 1716 3584 \n",
       "Q 2034 3584 2315 3537 \n",
       "Q 2597 3491 2834 3397 \n",
       "z\n",
       "\" id=\"DejaVuSans-73\" transform=\"scale(0.015625)\"/>\n",
       "      <path d=\"M 3597 1894 \n",
       "L 3597 1613 \n",
       "L 953 1613 \n",
       "Q 991 1019 1311 708 \n",
       "Q 1631 397 2203 397 \n",
       "Q 2534 397 2845 478 \n",
       "Q 3156 559 3463 722 \n",
       "L 3463 178 \n",
       "Q 3153 47 2828 -22 \n",
       "Q 2503 -91 2169 -91 \n",
       "Q 1331 -91 842 396 \n",
       "Q 353 884 353 1716 \n",
       "Q 353 2575 817 3079 \n",
       "Q 1281 3584 2069 3584 \n",
       "Q 2775 3584 3186 3129 \n",
       "Q 3597 2675 3597 1894 \n",
       "z\n",
       "M 3022 2063 \n",
       "Q 3016 2534 2758 2815 \n",
       "Q 2500 3097 2075 3097 \n",
       "Q 1594 3097 1305 2825 \n",
       "Q 1016 2553 972 2059 \n",
       "L 3022 2063 \n",
       "z\n",
       "\" id=\"DejaVuSans-65\" transform=\"scale(0.015625)\"/>\n",
       "      <path id=\"DejaVuSans-20\" transform=\"scale(0.015625)\"/>\n",
       "      <path d=\"M 3328 2828 \n",
       "Q 3544 3216 3844 3400 \n",
       "Q 4144 3584 4550 3584 \n",
       "Q 5097 3584 5394 3201 \n",
       "Q 5691 2819 5691 2113 \n",
       "L 5691 0 \n",
       "L 5113 0 \n",
       "L 5113 2094 \n",
       "Q 5113 2597 4934 2840 \n",
       "Q 4756 3084 4391 3084 \n",
       "Q 3944 3084 3684 2787 \n",
       "Q 3425 2491 3425 1978 \n",
       "L 3425 0 \n",
       "L 2847 0 \n",
       "L 2847 2094 \n",
       "Q 2847 2600 2669 2842 \n",
       "Q 2491 3084 2119 3084 \n",
       "Q 1678 3084 1418 2786 \n",
       "Q 1159 2488 1159 1978 \n",
       "L 1159 0 \n",
       "L 581 0 \n",
       "L 581 3500 \n",
       "L 1159 3500 \n",
       "L 1159 2956 \n",
       "Q 1356 3278 1631 3431 \n",
       "Q 1906 3584 2284 3584 \n",
       "Q 2666 3584 2933 3390 \n",
       "Q 3200 3197 3328 2828 \n",
       "z\n",
       "\" id=\"DejaVuSans-6d\" transform=\"scale(0.015625)\"/>\n",
       "      <path d=\"M 1159 525 \n",
       "L 1159 -1331 \n",
       "L 581 -1331 \n",
       "L 581 3500 \n",
       "L 1159 3500 \n",
       "L 1159 2969 \n",
       "Q 1341 3281 1617 3432 \n",
       "Q 1894 3584 2278 3584 \n",
       "Q 2916 3584 3314 3078 \n",
       "Q 3713 2572 3713 1747 \n",
       "Q 3713 922 3314 415 \n",
       "Q 2916 -91 2278 -91 \n",
       "Q 1894 -91 1617 61 \n",
       "Q 1341 213 1159 525 \n",
       "z\n",
       "M 3116 1747 \n",
       "Q 3116 2381 2855 2742 \n",
       "Q 2594 3103 2138 3103 \n",
       "Q 1681 3103 1420 2742 \n",
       "Q 1159 2381 1159 1747 \n",
       "Q 1159 1113 1420 752 \n",
       "Q 1681 391 2138 391 \n",
       "Q 2594 391 2855 752 \n",
       "Q 3116 1113 3116 1747 \n",
       "z\n",
       "\" id=\"DejaVuSans-70\" transform=\"scale(0.015625)\"/>\n",
       "      <path d=\"M 603 4863 \n",
       "L 1178 4863 \n",
       "L 1178 0 \n",
       "L 603 0 \n",
       "L 603 4863 \n",
       "z\n",
       "\" id=\"DejaVuSans-6c\" transform=\"scale(0.015625)\"/>\n",
       "     </defs>\n",
       "     <use xlink:href=\"#DejaVuSans-44\"/>\n",
       "     <use x=\"77.001953\" xlink:href=\"#DejaVuSans-61\"/>\n",
       "     <use x=\"138.28125\" xlink:href=\"#DejaVuSans-74\"/>\n",
       "     <use x=\"177.490234\" xlink:href=\"#DejaVuSans-61\"/>\n",
       "     <use x=\"238.769531\" xlink:href=\"#DejaVuSans-73\"/>\n",
       "     <use x=\"290.869141\" xlink:href=\"#DejaVuSans-65\"/>\n",
       "     <use x=\"352.392578\" xlink:href=\"#DejaVuSans-74\"/>\n",
       "     <use x=\"391.601562\" xlink:href=\"#DejaVuSans-20\"/>\n",
       "     <use x=\"423.388672\" xlink:href=\"#DejaVuSans-73\"/>\n",
       "     <use x=\"475.488281\" xlink:href=\"#DejaVuSans-61\"/>\n",
       "     <use x=\"536.767578\" xlink:href=\"#DejaVuSans-6d\"/>\n",
       "     <use x=\"634.179688\" xlink:href=\"#DejaVuSans-70\"/>\n",
       "     <use x=\"697.65625\" xlink:href=\"#DejaVuSans-6c\"/>\n",
       "     <use x=\"725.439453\" xlink:href=\"#DejaVuSans-65\"/>\n",
       "     <use x=\"786.962891\" xlink:href=\"#DejaVuSans-73\"/>\n",
       "    </g>\n",
       "   </g>\n",
       "   <g id=\"legend_1\">\n",
       "    <g id=\"patch_7\">\n",
       "     <path d=\"M 206.890312 148.834063 \n",
       "L 281.523594 148.834063 \n",
       "Q 283.723594 148.834063 283.723594 146.634063 \n",
       "L 283.723594 115.442187 \n",
       "Q 283.723594 113.242188 281.523594 113.242188 \n",
       "L 206.890312 113.242188 \n",
       "Q 204.690312 113.242188 204.690312 115.442187 \n",
       "L 204.690312 146.634063 \n",
       "Q 204.690312 148.834063 206.890312 148.834063 \n",
       "z\n",
       "\" style=\"fill:#eaeaf2;opacity:0.8;stroke:#cccccc;stroke-linejoin:miter;\"/>\n",
       "    </g>\n",
       "    <g id=\"PathCollection_3\">\n",
       "     <g>\n",
       "      <use style=\"fill:#4c72b0;stroke:#333333;\" x=\"220.090312\" xlink:href=\"#m1bf798e0e5\" y=\"123.112969\"/>\n",
       "     </g>\n",
       "    </g>\n",
       "    <g id=\"text_14\">\n",
       "     <!-- Class 0 -->\n",
       "     <g style=\"fill:#262626;\" transform=\"translate(239.890312 126.000469)scale(0.11 -0.11)\">\n",
       "      <defs>\n",
       "       <path d=\"M 4122 4306 \n",
       "L 4122 3641 \n",
       "Q 3803 3938 3442 4084 \n",
       "Q 3081 4231 2675 4231 \n",
       "Q 1875 4231 1450 3742 \n",
       "Q 1025 3253 1025 2328 \n",
       "Q 1025 1406 1450 917 \n",
       "Q 1875 428 2675 428 \n",
       "Q 3081 428 3442 575 \n",
       "Q 3803 722 4122 1019 \n",
       "L 4122 359 \n",
       "Q 3791 134 3420 21 \n",
       "Q 3050 -91 2638 -91 \n",
       "Q 1578 -91 968 557 \n",
       "Q 359 1206 359 2328 \n",
       "Q 359 3453 968 4101 \n",
       "Q 1578 4750 2638 4750 \n",
       "Q 3056 4750 3426 4639 \n",
       "Q 3797 4528 4122 4306 \n",
       "z\n",
       "\" id=\"DejaVuSans-43\" transform=\"scale(0.015625)\"/>\n",
       "      </defs>\n",
       "      <use xlink:href=\"#DejaVuSans-43\"/>\n",
       "      <use x=\"69.824219\" xlink:href=\"#DejaVuSans-6c\"/>\n",
       "      <use x=\"97.607422\" xlink:href=\"#DejaVuSans-61\"/>\n",
       "      <use x=\"158.886719\" xlink:href=\"#DejaVuSans-73\"/>\n",
       "      <use x=\"210.986328\" xlink:href=\"#DejaVuSans-73\"/>\n",
       "      <use x=\"263.085938\" xlink:href=\"#DejaVuSans-20\"/>\n",
       "      <use x=\"294.873047\" xlink:href=\"#DejaVuSans-30\"/>\n",
       "     </g>\n",
       "    </g>\n",
       "    <g id=\"PathCollection_4\">\n",
       "     <g>\n",
       "      <use style=\"fill:#dd8452;stroke:#333333;\" x=\"220.090312\" xlink:href=\"#md6e4ef1faf\" y=\"139.258906\"/>\n",
       "     </g>\n",
       "    </g>\n",
       "    <g id=\"text_15\">\n",
       "     <!-- Class 1 -->\n",
       "     <g style=\"fill:#262626;\" transform=\"translate(239.890312 142.146406)scale(0.11 -0.11)\">\n",
       "      <use xlink:href=\"#DejaVuSans-43\"/>\n",
       "      <use x=\"69.824219\" xlink:href=\"#DejaVuSans-6c\"/>\n",
       "      <use x=\"97.607422\" xlink:href=\"#DejaVuSans-61\"/>\n",
       "      <use x=\"158.886719\" xlink:href=\"#DejaVuSans-73\"/>\n",
       "      <use x=\"210.986328\" xlink:href=\"#DejaVuSans-73\"/>\n",
       "      <use x=\"263.085938\" xlink:href=\"#DejaVuSans-20\"/>\n",
       "      <use x=\"294.873047\" xlink:href=\"#DejaVuSans-31\"/>\n",
       "     </g>\n",
       "    </g>\n",
       "   </g>\n",
       "  </g>\n",
       " </g>\n",
       " <defs>\n",
       "  <clipPath id=\"p55c0e7cafd\">\n",
       "   <rect height=\"217.44\" width=\"223.2\" x=\"66.023594\" y=\"22.318125\"/>\n",
       "  </clipPath>\n",
       " </defs>\n",
       "</svg>\n"
      ],
      "text/plain": [
       "<Figure size 288x288 with 1 Axes>"
      ]
     },
     "metadata": {},
     "output_type": "display_data"
    }
   ],
   "source": [
    "visualize_samples(dataset.data, dataset.label)\n",
    "plt.show()"
   ]
  },
  {
   "cell_type": "markdown",
   "metadata": {},
   "source": [
    "#### The data loader class\n",
    "\n",
    "The class `torch.utils.data.DataLoader` represents a Python iterable over a dataset with support for automatic batching, multi-process data loading and many more features. The data loader communicates with the dataset using the function `__getitem__`, and stacks its outputs as tensors over the first dimension to form a batch.\n",
    "In contrast to the dataset class, we usually don't have to define our own data loader class, but can just create an object of it with the dataset as input. Additionally, we can configure our data loader with the following input arguments (only a selection, see full list [here](https://pytorch.org/docs/stable/data.html#torch.utils.data.DataLoader)):\n",
    "\n",
    "* `batch_size`: Number of samples to stack per batch\n",
    "* `shuffle`: If True, the data is returned in a random order. This is important during training for introducing stochasticity. \n",
    "* `num_workers`: Number of subprocesses to use for data loading. The default, 0, means that the data will be loaded in the main process which can slow down training for datasets where loading a data point takes a considerable amount of time (e.g. large images). More workers are recommended for those, but can cause issues on Windows computers. For tiny datasets as ours, 0 workers are usually faster.\n",
    "* `pin_memory`: If True, the data loader will copy Tensors into CUDA pinned memory before returning them. This can save some time for large data points on GPUs. Usually a good practice to use for a training set, but not necessarily for validation and test to save memory on the GPU.\n",
    "* `drop_last`: If True, the last batch is dropped in case it is smaller than the specified batch size. This occurs when the dataset size is not a multiple of the batch size. Only potentially helpful during training to keep a consistent batch size.\n",
    "\n",
    "Let's create a simple data loader below:"
   ]
  },
  {
   "cell_type": "code",
   "execution_count": 46,
   "metadata": {},
   "outputs": [],
   "source": [
    "data_loader = data.DataLoader(dataset, batch_size=8, shuffle=True)"
   ]
  },
  {
   "cell_type": "code",
   "execution_count": 47,
   "metadata": {},
   "outputs": [
    {
     "name": "stdout",
     "output_type": "stream",
     "text": [
      "Data inputs torch.Size([8, 2]) \n",
      " tensor([[-0.1436,  0.9955],\n",
      "        [-0.0556,  1.1440],\n",
      "        [-0.0251,  1.0561],\n",
      "        [ 1.0501,  0.0294],\n",
      "        [ 0.7083,  1.1141],\n",
      "        [ 0.1483,  0.8282],\n",
      "        [-0.1539,  0.0723],\n",
      "        [ 0.0940,  0.0503]])\n",
      "Data labels torch.Size([8]) \n",
      " tensor([1, 1, 1, 1, 0, 1, 0, 0])\n"
     ]
    }
   ],
   "source": [
    "# next(iter(...)) catches the first batch of the data loader\n",
    "# If shuffle is True, this will return a different batch every time we run this cell\n",
    "# For iterating over the whole dataset, we can simple use \"for batch in data_loader: ...\"\n",
    "data_inputs, data_labels = next(iter(data_loader))\n",
    "\n",
    "# The shape of the outputs are [batch_size, d_1,...,d_N] where d_1,...,d_N are the \n",
    "# dimensions of the data point returned from the dataset class\n",
    "print(\"Data inputs\", data_inputs.shape, \"\\n\", data_inputs)\n",
    "print(\"Data labels\", data_labels.shape, \"\\n\", data_labels)"
   ]
  },
  {
   "cell_type": "markdown",
   "metadata": {},
   "source": [
    "### Optimization\n",
    "\n",
    "After defining the model and the dataset, it is time to prepare the optimization of the model. During training, we will perform the following steps:\n",
    "\n",
    "1. Get a batch from the data loader\n",
    "2. Obtain the predictions from the model for the batch\n",
    "3. Calculate the loss based on the difference between predictions and labels\n",
    "4. Backpropagation: calculate the gradients for every parameter with respect to the loss\n",
    "5. Update the parameters of the model in the direction of the gradients\n",
    "\n",
    "We have seen how we can do step 1, 2 and 4 in PyTorch. Now, we will look at step 3 and 5."
   ]
  },
  {
   "cell_type": "markdown",
   "metadata": {},
   "source": [
    "#### Loss modules\n",
    "\n",
    "We can calculate the loss for a batch by simply performing a few tensor operations as those are automatically added to the computation graph. For instance, for binary classification, we can use Binary Cross Entropy (BCE) which is defined as follows:\n",
    "\n",
    "$$\\mathcal{L}_{BCE} = -\\sum_i \\left[ y_i \\log x_i + (1 - y_i) \\log (1 - x_i) \\right]$$\n",
    "\n",
    "where $y$ are our labels, and $x$ our predictions, both in the range of $[0,1]$. However, PyTorch already provides a list of predefined loss functions which we can use (see [here](https://pytorch.org/docs/stable/nn.html#loss-functions) for a full list). For instance, for BCE, PyTorch has two modules: `nn.BCELoss()`, `nn.BCEWithLogitsLoss()`. While `nn.BCELoss` expects the inputs $x$ to be in the range $[0,1]$, i.e. the output of a sigmoid, `nn.BCEWithLogitsLoss` combines a sigmoid layer and the BCE loss in a single class. This version is numerically more stable than using a plain Sigmoid followed by a BCE loss because of the logarithms applied in the loss function. Hence, it is adviced to use loss functions applied on \"logits\" where possible (remember to not apply a sigmoid on the output of the model in this case!). For our model defined above, we therefore use the module `nn.BCEWithLogitsLoss`. "
   ]
  },
  {
   "cell_type": "code",
   "execution_count": 48,
   "metadata": {},
   "outputs": [],
   "source": [
    "loss_module = nn.BCEWithLogitsLoss()"
   ]
  },
  {
   "cell_type": "markdown",
   "metadata": {},
   "source": [
    "#### Stochastic Gradient Descent\n",
    "\n",
    "For updating the parameters, PyTorch provides the package `torch.optim` that has most popular optimizers implemented. We will discuss the specific optimizers and their differences later in the course, but will for now use the simplest of them: `torch.optim.SGD`. Stochastic Gradient Descent updates parameters by multiplying the gradients with a small constant, called learning rate, and subtracting those from the parameters (hence minimizing the loss). Therefore, we slowly move towards the direction of minimizing the loss. A good default value of the learning rate for a small network as ours is 0.1. "
   ]
  },
  {
   "cell_type": "code",
   "execution_count": 49,
   "metadata": {},
   "outputs": [],
   "source": [
    "# Input to the optimizer are the parameters of the model: model.parameters()\n",
    "optimizer = torch.optim.SGD(model.parameters(), lr=0.1)"
   ]
  },
  {
   "cell_type": "markdown",
   "metadata": {},
   "source": [
    "The optimizer provides two useful functions: `optimizer.step()`, and `optimizer.zero_grad()`. The step function updates the parameters based on the gradients as explained above. The function `optimizer.zero_grad()` sets the gradients of all parameters to zero. While this function seems less relevant at first, it is a crucial pre-step before performing backpropagation. If we would call the `backward` function on the loss while the parameter gradients are non-zero from the previous batch, the new gradients would actually be added to the previous ones instead of overwriting them. This is done because a parameter might occur multiple times in a computation graph, and we need to sum the gradients in this case instead of replacing them. Hence, remember to call `optimizer.zero_grad()` before calculating the gradients of a batch."
   ]
  },
  {
   "cell_type": "markdown",
   "metadata": {},
   "source": [
    "### Training\n",
    "\n",
    "Finally, we are ready to train our model. As a first step, we create a slightly larger dataset and specify a data loader with a larger batch size. "
   ]
  },
  {
   "cell_type": "code",
   "execution_count": 50,
   "metadata": {},
   "outputs": [],
   "source": [
    "train_dataset = XORDataset(size=2500)\n",
    "train_data_loader = data.DataLoader(train_dataset, batch_size=128, shuffle=True)"
   ]
  },
  {
   "cell_type": "markdown",
   "metadata": {},
   "source": [
    "Now, we can write a small training function. Remember our five steps: load a batch, obtain the predictions, calculate the loss, backpropagate, and update. Additionally, we have to push all data and model parameters to the device of our choice (GPU if available). For the tiny neural network we have, communicating the data to the GPU actually takes much more time than we could save from running the operation on GPU. For large networks, the communication time is significantly smaller than the actual runtime making a GPU crucial in these cases. Still, to practice, we will push the data to GPU here. "
   ]
  },
  {
   "cell_type": "code",
   "execution_count": 51,
   "metadata": {},
   "outputs": [
    {
     "data": {
      "text/plain": [
       "SimpleClassifier(\n",
       "  (linear1): Linear(in_features=2, out_features=4, bias=True)\n",
       "  (act_fn): Tanh()\n",
       "  (linear2): Linear(in_features=4, out_features=1, bias=True)\n",
       ")"
      ]
     },
     "execution_count": 51,
     "metadata": {},
     "output_type": "execute_result"
    }
   ],
   "source": [
    "# Push model to device. Has to be only done once\n",
    "model.to(device)"
   ]
  },
  {
   "cell_type": "markdown",
   "metadata": {},
   "source": [
    "In addition, we set our model to training mode. This is done by calling `model.train()`. There exist certain modules that need to perform a different forward step during training than during testing (e.g. BatchNorm and Dropout), and we can switch between them using `model.train()` and `model.eval()`."
   ]
  },
  {
   "cell_type": "code",
   "execution_count": 52,
   "metadata": {},
   "outputs": [],
   "source": [
    "def train_model(model, optimizer, data_loader, loss_module, num_epochs=100):\n",
    "    # Set model to train mode\n",
    "    model.train() \n",
    "    \n",
    "    # Training loop\n",
    "    for epoch in tqdm(range(num_epochs)):\n",
    "        for data_inputs, data_labels in data_loader:\n",
    "            \n",
    "            ## Step 1: Move input data to device (only strictly necessary if we use GPU)\n",
    "            data_inputs = data_inputs.to(device)\n",
    "            data_labels = data_labels.to(device)\n",
    "            \n",
    "            ## Step 2: Run the model on the input data\n",
    "            preds = model(data_inputs)\n",
    "            preds = preds.squeeze(dim=1) # Output is [Batch size, 1], but we want [Batch size]\n",
    "            \n",
    "            ## Step 3: Calculate the loss\n",
    "            loss = loss_module(preds, data_labels.float())\n",
    "            \n",
    "            ## Step 4: Perform backpropagation\n",
    "            # Before calculating the gradients, we need to ensure that they are all zero. \n",
    "            # The gradients would not be overwritten, but actually added to the existing ones.\n",
    "            optimizer.zero_grad() \n",
    "            # Perform backpropagation\n",
    "            loss.backward()\n",
    "            \n",
    "            ## Step 5: Update the parameters\n",
    "            optimizer.step()"
   ]
  },
  {
   "cell_type": "code",
   "execution_count": 53,
   "metadata": {},
   "outputs": [
    {
     "data": {
      "application/vnd.jupyter.widget-view+json": {
       "model_id": "0bcc920490034db7991f0ad7d4adc665",
       "version_major": 2,
       "version_minor": 0
      },
      "text/plain": [
       "  0%|          | 0/100 [00:00<?, ?it/s]"
      ]
     },
     "metadata": {},
     "output_type": "display_data"
    }
   ],
   "source": [
    "train_model(model, optimizer, train_data_loader, loss_module)"
   ]
  },
  {
   "cell_type": "markdown",
   "metadata": {},
   "source": [
    "#### Saving a model\n",
    "\n",
    "After finish training a model, we save the model to disk so that we can load the same weights at a later time. For this, we extract the so-called `state_dict` from the model which contains all learnable parameters. For our simple model, the state dict contains the following entries:"
   ]
  },
  {
   "cell_type": "code",
   "execution_count": 54,
   "metadata": {},
   "outputs": [
    {
     "name": "stdout",
     "output_type": "stream",
     "text": [
      "OrderedDict([('linear1.weight', tensor([[ 2.4366,  1.7399],\n",
      "        [ 2.5206,  3.0343],\n",
      "        [ 1.0333, -0.9076],\n",
      "        [-1.9804,  2.3102]], device='cuda:0')), ('linear1.bias', tensor([-3.0949, -1.3182,  0.6533,  1.2820], device='cuda:0')), ('linear2.weight', tensor([[-4.0056,  4.1525, -1.4296, -2.8393]], device='cuda:0')), ('linear2.bias', tensor([-1.2361], device='cuda:0'))])\n"
     ]
    }
   ],
   "source": [
    "state_dict = model.state_dict()\n",
    "print(state_dict)"
   ]
  },
  {
   "cell_type": "markdown",
   "metadata": {},
   "source": [
    "To save the state dictionary, we can use `torch.save`:"
   ]
  },
  {
   "cell_type": "code",
   "execution_count": 55,
   "metadata": {},
   "outputs": [],
   "source": [
    "# torch.save(object, filename). For the filename, any extension can be used\n",
    "torch.save(state_dict, \"our_model.tar\")"
   ]
  },
  {
   "cell_type": "markdown",
   "metadata": {},
   "source": [
    "To load a model from a state dict, we use the function `torch.load` to load the state dict from the disk, and the module function `load_state_dict` to overwrite our parameters with the new values:"
   ]
  },
  {
   "cell_type": "code",
   "execution_count": 56,
   "metadata": {},
   "outputs": [
    {
     "name": "stdout",
     "output_type": "stream",
     "text": [
      "Original model\n",
      " OrderedDict([('linear1.weight', tensor([[ 2.4366,  1.7399],\n",
      "        [ 2.5206,  3.0343],\n",
      "        [ 1.0333, -0.9076],\n",
      "        [-1.9804,  2.3102]], device='cuda:0')), ('linear1.bias', tensor([-3.0949, -1.3182,  0.6533,  1.2820], device='cuda:0')), ('linear2.weight', tensor([[-4.0056,  4.1525, -1.4296, -2.8393]], device='cuda:0')), ('linear2.bias', tensor([-1.2361], device='cuda:0'))])\n",
      "\n",
      "Loaded model\n",
      " OrderedDict([('linear1.weight', tensor([[ 2.4366,  1.7399],\n",
      "        [ 2.5206,  3.0343],\n",
      "        [ 1.0333, -0.9076],\n",
      "        [-1.9804,  2.3102]])), ('linear1.bias', tensor([-3.0949, -1.3182,  0.6533,  1.2820])), ('linear2.weight', tensor([[-4.0056,  4.1525, -1.4296, -2.8393]])), ('linear2.bias', tensor([-1.2361]))])\n"
     ]
    }
   ],
   "source": [
    "# Load state dict from the disk (make sure it is the same name as above)\n",
    "state_dict = torch.load(\"our_model.tar\")\n",
    "\n",
    "# Create a new model and load the state\n",
    "new_model = SimpleClassifier(num_inputs=2, num_hidden=4, num_outputs=1)\n",
    "new_model.load_state_dict(state_dict)\n",
    "\n",
    "# Verify that the parameters are the same\n",
    "print(\"Original model\\n\", model.state_dict())\n",
    "print(\"\\nLoaded model\\n\", new_model.state_dict())"
   ]
  },
  {
   "cell_type": "markdown",
   "metadata": {},
   "source": [
    "A detailed tutorial on saving and loading models in PyTorch can be found [here](https://pytorch.org/tutorials/beginner/saving_loading_models.html)."
   ]
  },
  {
   "cell_type": "markdown",
   "metadata": {},
   "source": [
    "### Evaluation\n",
    "\n",
    "Once we have trained a model, it is time to evaluate it on a held-out test set. As our dataset consist of randomly generated data points, we need to first create a test set with a corresponding data loader."
   ]
  },
  {
   "cell_type": "code",
   "execution_count": 57,
   "metadata": {},
   "outputs": [],
   "source": [
    "test_dataset = XORDataset(size=500)\n",
    "# drop_last -> Don't drop the last batch although it is smaller than 128\n",
    "test_data_loader = data.DataLoader(test_dataset, batch_size=128, shuffle=False, drop_last=False) "
   ]
  },
  {
   "cell_type": "markdown",
   "metadata": {},
   "source": [
    "As metric, we will use accuracy which is calculated as follows:\n",
    "\n",
    "$$acc = \\frac{\\#\\text{correct predictions}}{\\#\\text{all predictions}} = \\frac{TP+TN}{TP+TN+FP+FN}$$\n",
    "\n",
    "where TP are the true positives, TN true negatives, FP false positives, and FN the fale negatives. \n",
    "\n",
    "When evaluating the model, we don't need to keep track of the computation graph as we don't intend to calculate the gradients. This reduces the required memory and speed up the model. In PyTorch, we can deactivate the computation graph using `with torch.no_grad(): ...`. Remember to additionally set the model to eval mode."
   ]
  },
  {
   "cell_type": "code",
   "execution_count": 58,
   "metadata": {},
   "outputs": [],
   "source": [
    "def eval_model(model, data_loader):\n",
    "    model.eval() # Set model to eval mode\n",
    "    true_preds, num_preds = 0., 0.\n",
    "    \n",
    "    with torch.no_grad(): # Deactivate gradients for the following code\n",
    "        for data_inputs, data_labels in data_loader:\n",
    "            \n",
    "            # Determine prediction of model on dev set\n",
    "            data_inputs, data_labels = data_inputs.to(device), data_labels.to(device)\n",
    "            preds = model(data_inputs)\n",
    "            preds = preds.squeeze(dim=1)\n",
    "            preds = torch.sigmoid(preds) # Sigmoid to map predictions between 0 and 1\n",
    "            pred_labels = (preds >= 0.5).long() # Binarize predictions to 0 and 1\n",
    "            \n",
    "            # Keep records of predictions for the accuracy metric (true_preds=TP+TN, num_preds=TP+TN+FP+FN)\n",
    "            true_preds += (pred_labels == data_labels).sum()\n",
    "            num_preds += data_labels.shape[0]\n",
    "            \n",
    "    acc = true_preds / num_preds\n",
    "    print(f\"Accuracy of the model: {100.0*acc:4.2f}%\")"
   ]
  },
  {
   "cell_type": "code",
   "execution_count": 59,
   "metadata": {},
   "outputs": [
    {
     "name": "stdout",
     "output_type": "stream",
     "text": [
      "Accuracy of the model: 100.00%\n"
     ]
    }
   ],
   "source": [
    "eval_model(model, test_data_loader)"
   ]
  },
  {
   "cell_type": "markdown",
   "metadata": {},
   "source": [
    "If we trained our model correctly, we should see a score close to 100% accuracy. However, this is only possible because of our simple task, and unfortunately, we usually don't get such high scores on test sets of more complex tasks."
   ]
  },
  {
   "cell_type": "markdown",
   "metadata": {},
   "source": [
    "#### Visualizing classification boundaries\n",
    "\n",
    "To visualize what our model has learned, we can perform a prediction for every data point in a range of $[-0.5, 1.5]$, and visualize the predicted class as in the sample figure at the beginning of this section. This shows where the model has created decision boundaries, and which points would be classified as $0$, and which as $1$. We therefore get a background image out of blue (class 0) and orange (class 1). The spots where the model is uncertain we will see a blurry overlap. The specific code is less relevant compared to the output figure which should hopefully show us a clear separation of classes:"
   ]
  },
  {
   "cell_type": "code",
   "execution_count": 60,
   "metadata": {},
   "outputs": [
    {
     "name": "stderr",
     "output_type": "stream",
     "text": [
      "/home/arijit/miniconda3/lib/python3.9/site-packages/torch/functional.py:445: UserWarning: torch.meshgrid: in an upcoming release, it will be required to pass the indexing argument. (Triggered internally at  /opt/conda/conda-bld/pytorch_1639180487213/work/aten/src/ATen/native/TensorShape.cpp:2157.)\n",
      "  return _VF.meshgrid(tensors, **kwargs)  # type: ignore[attr-defined]\n"
     ]
    },
    {
     "data": {
      "application/pdf": "[encoded data removed]",
      "image/svg+xml": [
       "<?xml version=\"1.0\" encoding=\"utf-8\" standalone=\"no\"?>\n",
       "<!DOCTYPE svg PUBLIC \"-//W3C//DTD SVG 1.1//EN\"\n",
       "  \"http://www.w3.org/Graphics/SVG/1.1/DTD/svg11.dtd\">\n",
       "<svg height=\"282.717813pt\" version=\"1.1\" viewBox=\"0 0 299.410312 282.717813\" width=\"299.410312pt\" xmlns=\"http://www.w3.org/2000/svg\" xmlns:xlink=\"http://www.w3.org/1999/xlink\">\n",
       " <metadata>\n",
       "  <rdf:RDF xmlns:cc=\"http://creativecommons.org/ns#\" xmlns:dc=\"http://purl.org/dc/elements/1.1/\" xmlns:rdf=\"http://www.w3.org/1999/02/22-rdf-syntax-ns#\">\n",
       "   <cc:Work>\n",
       "    <dc:type rdf:resource=\"http://purl.org/dc/dcmitype/StillImage\"/>\n",
       "    <dc:date>2022-01-10T11:17:20.589071</dc:date>\n",
       "    <dc:format>image/svg+xml</dc:format>\n",
       "    <dc:creator>\n",
       "     <cc:Agent>\n",
       "      <dc:title>Matplotlib v3.4.2, https://matplotlib.org/</dc:title>\n",
       "     </cc:Agent>\n",
       "    </dc:creator>\n",
       "   </cc:Work>\n",
       "  </rdf:RDF>\n",
       " </metadata>\n",
       " <defs>\n",
       "  <style type=\"text/css\">*{stroke-linecap:butt;stroke-linejoin:round;}</style>\n",
       " </defs>\n",
       " <g id=\"figure_1\">\n",
       "  <g id=\"patch_1\">\n",
       "   <path d=\"M 0 282.717813 \n",
       "L 299.410312 282.717813 \n",
       "L 299.410312 0 \n",
       "L 0 0 \n",
       "z\n",
       "\" style=\"fill:#ffffff;\"/>\n",
       "  </g>\n",
       "  <g id=\"axes_1\">\n",
       "   <g id=\"patch_2\">\n",
       "    <path d=\"M 66.023594 239.758125 \n",
       "L 283.463594 239.758125 \n",
       "L 283.463594 22.318125 \n",
       "L 66.023594 22.318125 \n",
       "z\n",
       "\" style=\"fill:#eaeaf2;\"/>\n",
       "   </g>\n",
       "   <g clip-path=\"url(#p1da16a6b96)\">\n",
       "    <image height=\"217.584\" id=\"image894e7b197a\" transform=\"scale(1 -1)translate(0 -217.584)\" width=\"217.44\" x=\"66.023594\" xlink:href=\"data:image/png;base64,\n",
       "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\" y=\"-22.174125\"/>\n",
       "   </g>\n",
       "   <g id=\"matplotlib.axis_1\">\n",
       "    <g id=\"xtick_1\">\n",
       "     <g id=\"text_1\">\n",
       "      <!-- −0.5 -->\n",
       "      <g style=\"fill:#262626;\" transform=\"translate(52.668047 257.616406)scale(0.11 -0.11)\">\n",
       "       <defs>\n",
       "        <path d=\"M 678 2272 \n",
       "L 4684 2272 \n",
       "L 4684 1741 \n",
       "L 678 1741 \n",
       "L 678 2272 \n",
       "z\n",
       "\" id=\"DejaVuSans-2212\" transform=\"scale(0.015625)\"/>\n",
       "        <path d=\"M 2034 4250 \n",
       "Q 1547 4250 1301 3770 \n",
       "Q 1056 3291 1056 2328 \n",
       "Q 1056 1369 1301 889 \n",
       "Q 1547 409 2034 409 \n",
       "Q 2525 409 2770 889 \n",
       "Q 3016 1369 3016 2328 \n",
       "Q 3016 3291 2770 3770 \n",
       "Q 2525 4250 2034 4250 \n",
       "z\n",
       "M 2034 4750 \n",
       "Q 2819 4750 3233 4129 \n",
       "Q 3647 3509 3647 2328 \n",
       "Q 3647 1150 3233 529 \n",
       "Q 2819 -91 2034 -91 \n",
       "Q 1250 -91 836 529 \n",
       "Q 422 1150 422 2328 \n",
       "Q 422 3509 836 4129 \n",
       "Q 1250 4750 2034 4750 \n",
       "z\n",
       "\" id=\"DejaVuSans-30\" transform=\"scale(0.015625)\"/>\n",
       "        <path d=\"M 684 794 \n",
       "L 1344 794 \n",
       "L 1344 0 \n",
       "L 684 0 \n",
       "L 684 794 \n",
       "z\n",
       "\" id=\"DejaVuSans-2e\" transform=\"scale(0.015625)\"/>\n",
       "        <path d=\"M 691 4666 \n",
       "L 3169 4666 \n",
       "L 3169 4134 \n",
       "L 1269 4134 \n",
       "L 1269 2991 \n",
       "Q 1406 3038 1543 3061 \n",
       "Q 1681 3084 1819 3084 \n",
       "Q 2600 3084 3056 2656 \n",
       "Q 3513 2228 3513 1497 \n",
       "Q 3513 744 3044 326 \n",
       "Q 2575 -91 1722 -91 \n",
       "Q 1428 -91 1123 -41 \n",
       "Q 819 9 494 109 \n",
       "L 494 744 \n",
       "Q 775 591 1075 516 \n",
       "Q 1375 441 1709 441 \n",
       "Q 2250 441 2565 725 \n",
       "Q 2881 1009 2881 1497 \n",
       "Q 2881 1984 2565 2268 \n",
       "Q 2250 2553 1709 2553 \n",
       "Q 1456 2553 1204 2497 \n",
       "Q 953 2441 691 2322 \n",
       "L 691 4666 \n",
       "z\n",
       "\" id=\"DejaVuSans-35\" transform=\"scale(0.015625)\"/>\n",
       "       </defs>\n",
       "       <use xlink:href=\"#DejaVuSans-2212\"/>\n",
       "       <use x=\"83.789062\" xlink:href=\"#DejaVuSans-30\"/>\n",
       "       <use x=\"147.412109\" xlink:href=\"#DejaVuSans-2e\"/>\n",
       "       <use x=\"179.199219\" xlink:href=\"#DejaVuSans-35\"/>\n",
       "      </g>\n",
       "     </g>\n",
       "    </g>\n",
       "    <g id=\"xtick_2\">\n",
       "     <g id=\"text_2\">\n",
       "      <!-- 0.0 -->\n",
       "      <g style=\"fill:#262626;\" transform=\"translate(111.636875 257.616406)scale(0.11 -0.11)\">\n",
       "       <use xlink:href=\"#DejaVuSans-30\"/>\n",
       "       <use x=\"63.623047\" xlink:href=\"#DejaVuSans-2e\"/>\n",
       "       <use x=\"95.410156\" xlink:href=\"#DejaVuSans-30\"/>\n",
       "      </g>\n",
       "     </g>\n",
       "    </g>\n",
       "    <g id=\"xtick_3\">\n",
       "     <g id=\"text_3\">\n",
       "      <!-- 0.5 -->\n",
       "      <g style=\"fill:#262626;\" transform=\"translate(165.996875 257.616406)scale(0.11 -0.11)\">\n",
       "       <use xlink:href=\"#DejaVuSans-30\"/>\n",
       "       <use x=\"63.623047\" xlink:href=\"#DejaVuSans-2e\"/>\n",
       "       <use x=\"95.410156\" xlink:href=\"#DejaVuSans-35\"/>\n",
       "      </g>\n",
       "     </g>\n",
       "    </g>\n",
       "    <g id=\"xtick_4\">\n",
       "     <g id=\"text_4\">\n",
       "      <!-- 1.0 -->\n",
       "      <g style=\"fill:#262626;\" transform=\"translate(220.356875 257.616406)scale(0.11 -0.11)\">\n",
       "       <defs>\n",
       "        <path d=\"M 794 531 \n",
       "L 1825 531 \n",
       "L 1825 4091 \n",
       "L 703 3866 \n",
       "L 703 4441 \n",
       "L 1819 4666 \n",
       "L 2450 4666 \n",
       "L 2450 531 \n",
       "L 3481 531 \n",
       "L 3481 0 \n",
       "L 794 0 \n",
       "L 794 531 \n",
       "z\n",
       "\" id=\"DejaVuSans-31\" transform=\"scale(0.015625)\"/>\n",
       "       </defs>\n",
       "       <use xlink:href=\"#DejaVuSans-31\"/>\n",
       "       <use x=\"63.623047\" xlink:href=\"#DejaVuSans-2e\"/>\n",
       "       <use x=\"95.410156\" xlink:href=\"#DejaVuSans-30\"/>\n",
       "      </g>\n",
       "     </g>\n",
       "    </g>\n",
       "    <g id=\"xtick_5\">\n",
       "     <g id=\"text_5\">\n",
       "      <!-- 1.5 -->\n",
       "      <g style=\"fill:#262626;\" transform=\"translate(274.716875 257.616406)scale(0.11 -0.11)\">\n",
       "       <use xlink:href=\"#DejaVuSans-31\"/>\n",
       "       <use x=\"63.623047\" xlink:href=\"#DejaVuSans-2e\"/>\n",
       "       <use x=\"95.410156\" xlink:href=\"#DejaVuSans-35\"/>\n",
       "      </g>\n",
       "     </g>\n",
       "    </g>\n",
       "    <g id=\"text_6\">\n",
       "     <!-- $x_1$ -->\n",
       "     <g style=\"fill:#262626;\" transform=\"translate(168.323594 273.022188)scale(0.12 -0.12)\">\n",
       "      <defs>\n",
       "       <path d=\"M 3841 3500 \n",
       "L 2234 1784 \n",
       "L 3219 0 \n",
       "L 2559 0 \n",
       "L 1819 1388 \n",
       "L 531 0 \n",
       "L -166 0 \n",
       "L 1556 1844 \n",
       "L 641 3500 \n",
       "L 1300 3500 \n",
       "L 1972 2234 \n",
       "L 3144 3500 \n",
       "L 3841 3500 \n",
       "z\n",
       "\" id=\"DejaVuSans-Oblique-78\" transform=\"scale(0.015625)\"/>\n",
       "      </defs>\n",
       "      <use transform=\"translate(0 0.3125)\" xlink:href=\"#DejaVuSans-Oblique-78\"/>\n",
       "      <use transform=\"translate(59.179688 -16.09375)scale(0.7)\" xlink:href=\"#DejaVuSans-31\"/>\n",
       "     </g>\n",
       "    </g>\n",
       "   </g>\n",
       "   <g id=\"matplotlib.axis_2\">\n",
       "    <g id=\"ytick_1\">\n",
       "     <g id=\"text_7\">\n",
       "      <!-- −0.50 -->\n",
       "      <g style=\"fill:#262626;\" transform=\"translate(22.81375 243.937266)scale(0.11 -0.11)\">\n",
       "       <use xlink:href=\"#DejaVuSans-2212\"/>\n",
       "       <use x=\"83.789062\" xlink:href=\"#DejaVuSans-30\"/>\n",
       "       <use x=\"147.412109\" xlink:href=\"#DejaVuSans-2e\"/>\n",
       "       <use x=\"179.199219\" xlink:href=\"#DejaVuSans-35\"/>\n",
       "       <use x=\"242.822266\" xlink:href=\"#DejaVuSans-30\"/>\n",
       "      </g>\n",
       "     </g>\n",
       "    </g>\n",
       "    <g id=\"ytick_2\">\n",
       "     <g id=\"text_8\">\n",
       "      <!-- −0.25 -->\n",
       "      <g style=\"fill:#262626;\" transform=\"translate(22.81375 216.757266)scale(0.11 -0.11)\">\n",
       "       <defs>\n",
       "        <path d=\"M 1228 531 \n",
       "L 3431 531 \n",
       "L 3431 0 \n",
       "L 469 0 \n",
       "L 469 531 \n",
       "Q 828 903 1448 1529 \n",
       "Q 2069 2156 2228 2338 \n",
       "Q 2531 2678 2651 2914 \n",
       "Q 2772 3150 2772 3378 \n",
       "Q 2772 3750 2511 3984 \n",
       "Q 2250 4219 1831 4219 \n",
       "Q 1534 4219 1204 4116 \n",
       "Q 875 4013 500 3803 \n",
       "L 500 4441 \n",
       "Q 881 4594 1212 4672 \n",
       "Q 1544 4750 1819 4750 \n",
       "Q 2544 4750 2975 4387 \n",
       "Q 3406 4025 3406 3419 \n",
       "Q 3406 3131 3298 2873 \n",
       "Q 3191 2616 2906 2266 \n",
       "Q 2828 2175 2409 1742 \n",
       "Q 1991 1309 1228 531 \n",
       "z\n",
       "\" id=\"DejaVuSans-32\" transform=\"scale(0.015625)\"/>\n",
       "       </defs>\n",
       "       <use xlink:href=\"#DejaVuSans-2212\"/>\n",
       "       <use x=\"83.789062\" xlink:href=\"#DejaVuSans-30\"/>\n",
       "       <use x=\"147.412109\" xlink:href=\"#DejaVuSans-2e\"/>\n",
       "       <use x=\"179.199219\" xlink:href=\"#DejaVuSans-32\"/>\n",
       "       <use x=\"242.822266\" xlink:href=\"#DejaVuSans-35\"/>\n",
       "      </g>\n",
       "     </g>\n",
       "    </g>\n",
       "    <g id=\"ytick_3\">\n",
       "     <g id=\"text_9\">\n",
       "      <!-- 0.00 -->\n",
       "      <g style=\"fill:#262626;\" transform=\"translate(32.031406 189.577266)scale(0.11 -0.11)\">\n",
       "       <use xlink:href=\"#DejaVuSans-30\"/>\n",
       "       <use x=\"63.623047\" xlink:href=\"#DejaVuSans-2e\"/>\n",
       "       <use x=\"95.410156\" xlink:href=\"#DejaVuSans-30\"/>\n",
       "       <use x=\"159.033203\" xlink:href=\"#DejaVuSans-30\"/>\n",
       "      </g>\n",
       "     </g>\n",
       "    </g>\n",
       "    <g id=\"ytick_4\">\n",
       "     <g id=\"text_10\">\n",
       "      <!-- 0.25 -->\n",
       "      <g style=\"fill:#262626;\" transform=\"translate(32.031406 162.397266)scale(0.11 -0.11)\">\n",
       "       <use xlink:href=\"#DejaVuSans-30\"/>\n",
       "       <use x=\"63.623047\" xlink:href=\"#DejaVuSans-2e\"/>\n",
       "       <use x=\"95.410156\" xlink:href=\"#DejaVuSans-32\"/>\n",
       "       <use x=\"159.033203\" xlink:href=\"#DejaVuSans-35\"/>\n",
       "      </g>\n",
       "     </g>\n",
       "    </g>\n",
       "    <g id=\"ytick_5\">\n",
       "     <g id=\"text_11\">\n",
       "      <!-- 0.50 -->\n",
       "      <g style=\"fill:#262626;\" transform=\"translate(32.031406 135.217266)scale(0.11 -0.11)\">\n",
       "       <use xlink:href=\"#DejaVuSans-30\"/>\n",
       "       <use x=\"63.623047\" xlink:href=\"#DejaVuSans-2e\"/>\n",
       "       <use x=\"95.410156\" xlink:href=\"#DejaVuSans-35\"/>\n",
       "       <use x=\"159.033203\" xlink:href=\"#DejaVuSans-30\"/>\n",
       "      </g>\n",
       "     </g>\n",
       "    </g>\n",
       "    <g id=\"ytick_6\">\n",
       "     <g id=\"text_12\">\n",
       "      <!-- 0.75 -->\n",
       "      <g style=\"fill:#262626;\" transform=\"translate(32.031406 108.037266)scale(0.11 -0.11)\">\n",
       "       <defs>\n",
       "        <path d=\"M 525 4666 \n",
       "L 3525 4666 \n",
       "L 3525 4397 \n",
       "L 1831 0 \n",
       "L 1172 0 \n",
       "L 2766 4134 \n",
       "L 525 4134 \n",
       "L 525 4666 \n",
       "z\n",
       "\" id=\"DejaVuSans-37\" transform=\"scale(0.015625)\"/>\n",
       "       </defs>\n",
       "       <use xlink:href=\"#DejaVuSans-30\"/>\n",
       "       <use x=\"63.623047\" xlink:href=\"#DejaVuSans-2e\"/>\n",
       "       <use x=\"95.410156\" xlink:href=\"#DejaVuSans-37\"/>\n",
       "       <use x=\"159.033203\" xlink:href=\"#DejaVuSans-35\"/>\n",
       "      </g>\n",
       "     </g>\n",
       "    </g>\n",
       "    <g id=\"ytick_7\">\n",
       "     <g id=\"text_13\">\n",
       "      <!-- 1.00 -->\n",
       "      <g style=\"fill:#262626;\" transform=\"translate(32.031406 80.857266)scale(0.11 -0.11)\">\n",
       "       <use xlink:href=\"#DejaVuSans-31\"/>\n",
       "       <use x=\"63.623047\" xlink:href=\"#DejaVuSans-2e\"/>\n",
       "       <use x=\"95.410156\" xlink:href=\"#DejaVuSans-30\"/>\n",
       "       <use x=\"159.033203\" xlink:href=\"#DejaVuSans-30\"/>\n",
       "      </g>\n",
       "     </g>\n",
       "    </g>\n",
       "    <g id=\"ytick_8\">\n",
       "     <g id=\"text_14\">\n",
       "      <!-- 1.25 -->\n",
       "      <g style=\"fill:#262626;\" transform=\"translate(32.031406 53.677266)scale(0.11 -0.11)\">\n",
       "       <use xlink:href=\"#DejaVuSans-31\"/>\n",
       "       <use x=\"63.623047\" xlink:href=\"#DejaVuSans-2e\"/>\n",
       "       <use x=\"95.410156\" xlink:href=\"#DejaVuSans-32\"/>\n",
       "       <use x=\"159.033203\" xlink:href=\"#DejaVuSans-35\"/>\n",
       "      </g>\n",
       "     </g>\n",
       "    </g>\n",
       "    <g id=\"ytick_9\">\n",
       "     <g id=\"text_15\">\n",
       "      <!-- 1.50 -->\n",
       "      <g style=\"fill:#262626;\" transform=\"translate(32.031406 26.497266)scale(0.11 -0.11)\">\n",
       "       <use xlink:href=\"#DejaVuSans-31\"/>\n",
       "       <use x=\"63.623047\" xlink:href=\"#DejaVuSans-2e\"/>\n",
       "       <use x=\"95.410156\" xlink:href=\"#DejaVuSans-35\"/>\n",
       "       <use x=\"159.033203\" xlink:href=\"#DejaVuSans-30\"/>\n",
       "      </g>\n",
       "     </g>\n",
       "    </g>\n",
       "    <g id=\"text_16\">\n",
       "     <!-- $x_2$ -->\n",
       "     <g style=\"fill:#262626;\" transform=\"translate(16.318125 137.458125)rotate(-90)scale(0.12 -0.12)\">\n",
       "      <use transform=\"translate(0 0.3125)\" xlink:href=\"#DejaVuSans-Oblique-78\"/>\n",
       "      <use transform=\"translate(59.179688 -16.09375)scale(0.7)\" xlink:href=\"#DejaVuSans-32\"/>\n",
       "     </g>\n",
       "    </g>\n",
       "   </g>\n",
       "   <g id=\"PathCollection_1\">\n",
       "    <defs>\n",
       "     <path d=\"M 0 3 \n",
       "C 0.795609 3 1.55874 2.683901 2.12132 2.12132 \n",
       "C 2.683901 1.55874 3 0.795609 3 0 \n",
       "C 3 -0.795609 2.683901 -1.55874 2.12132 -2.12132 \n",
       "C 1.55874 -2.683901 0.795609 -3 0 -3 \n",
       "C -0.795609 -3 -1.55874 -2.683901 -2.12132 -2.12132 \n",
       "C -2.683901 -1.55874 -3 -0.795609 -3 0 \n",
       "C -3 0.795609 -2.683901 1.55874 -2.12132 2.12132 \n",
       "C -1.55874 2.683901 -0.795609 3 0 3 \n",
       "z\n",
       "\" id=\"mba71743879\" style=\"stroke:#333333;\"/>\n",
       "    </defs>\n",
       "    <g clip-path=\"url(#p1da16a6b96)\">\n",
       "     <use style=\"fill:#4c72b0;stroke:#333333;\" x=\"239.359768\" xlink:href=\"#mba71743879\" y=\"67.686928\"/>\n",
       "     <use style=\"fill:#4c72b0;stroke:#333333;\" x=\"114.712014\" xlink:href=\"#mba71743879\" y=\"191.6024\"/>\n",
       "     <use style=\"fill:#4c72b0;stroke:#333333;\" x=\"129.459258\" xlink:href=\"#mba71743879\" y=\"171.166908\"/>\n",
       "     <use style=\"fill:#4c72b0;stroke:#333333;\" x=\"238.28969\" xlink:href=\"#mba71743879\" y=\"63.141937\"/>\n",
       "     <use style=\"fill:#4c72b0;stroke:#333333;\" x=\"115.04204\" xlink:href=\"#mba71743879\" y=\"181.568282\"/>\n",
       "     <use style=\"fill:#4c72b0;stroke:#333333;\" x=\"222.670086\" xlink:href=\"#mba71743879\" y=\"83.222781\"/>\n",
       "     <use style=\"fill:#4c72b0;stroke:#333333;\" x=\"118.965878\" xlink:href=\"#mba71743879\" y=\"188.972455\"/>\n",
       "     <use style=\"fill:#4c72b0;stroke:#333333;\" x=\"238.421122\" xlink:href=\"#mba71743879\" y=\"80.37422\"/>\n",
       "     <use style=\"fill:#4c72b0;stroke:#333333;\" x=\"212.989122\" xlink:href=\"#mba71743879\" y=\"86.958192\"/>\n",
       "     <use style=\"fill:#4c72b0;stroke:#333333;\" x=\"114.3401\" xlink:href=\"#mba71743879\" y=\"174.182711\"/>\n",
       "     <use style=\"fill:#4c72b0;stroke:#333333;\" x=\"236.509821\" xlink:href=\"#mba71743879\" y=\"82.874534\"/>\n",
       "     <use style=\"fill:#4c72b0;stroke:#333333;\" x=\"124.249024\" xlink:href=\"#mba71743879\" y=\"182.079356\"/>\n",
       "     <use style=\"fill:#4c72b0;stroke:#333333;\" x=\"131.760754\" xlink:href=\"#mba71743879\" y=\"180.471702\"/>\n",
       "     <use style=\"fill:#4c72b0;stroke:#333333;\" x=\"207.347658\" xlink:href=\"#mba71743879\" y=\"87.819789\"/>\n",
       "     <use style=\"fill:#4c72b0;stroke:#333333;\" x=\"234.602045\" xlink:href=\"#mba71743879\" y=\"70.867068\"/>\n",
       "     <use style=\"fill:#4c72b0;stroke:#333333;\" x=\"242.548463\" xlink:href=\"#mba71743879\" y=\"75.672331\"/>\n",
       "     <use style=\"fill:#4c72b0;stroke:#333333;\" x=\"208.928378\" xlink:href=\"#mba71743879\" y=\"55.397481\"/>\n",
       "     <use style=\"fill:#4c72b0;stroke:#333333;\" x=\"138.290645\" xlink:href=\"#mba71743879\" y=\"204.556308\"/>\n",
       "     <use style=\"fill:#4c72b0;stroke:#333333;\" x=\"122.145905\" xlink:href=\"#mba71743879\" y=\"182.200392\"/>\n",
       "     <use style=\"fill:#4c72b0;stroke:#333333;\" x=\"233.30919\" xlink:href=\"#mba71743879\" y=\"61.282581\"/>\n",
       "     <use style=\"fill:#4c72b0;stroke:#333333;\" x=\"120.004743\" xlink:href=\"#mba71743879\" y=\"182.928144\"/>\n",
       "     <use style=\"fill:#4c72b0;stroke:#333333;\" x=\"126.384014\" xlink:href=\"#mba71743879\" y=\"187.725513\"/>\n",
       "     <use style=\"fill:#4c72b0;stroke:#333333;\" x=\"116.470839\" xlink:href=\"#mba71743879\" y=\"196.611438\"/>\n",
       "     <use style=\"fill:#4c72b0;stroke:#333333;\" x=\"212.244363\" xlink:href=\"#mba71743879\" y=\"81.111585\"/>\n",
       "     <use style=\"fill:#4c72b0;stroke:#333333;\" x=\"105.007866\" xlink:href=\"#mba71743879\" y=\"189.058397\"/>\n",
       "     <use style=\"fill:#4c72b0;stroke:#333333;\" x=\"115.245315\" xlink:href=\"#mba71743879\" y=\"176.193802\"/>\n",
       "     <use style=\"fill:#4c72b0;stroke:#333333;\" x=\"101.299818\" xlink:href=\"#mba71743879\" y=\"168.75148\"/>\n",
       "     <use style=\"fill:#4c72b0;stroke:#333333;\" x=\"107.001158\" xlink:href=\"#mba71743879\" y=\"185.744275\"/>\n",
       "     <use style=\"fill:#4c72b0;stroke:#333333;\" x=\"115.42453\" xlink:href=\"#mba71743879\" y=\"200.401405\"/>\n",
       "     <use style=\"fill:#4c72b0;stroke:#333333;\" x=\"230.588289\" xlink:href=\"#mba71743879\" y=\"85.468313\"/>\n",
       "     <use style=\"fill:#4c72b0;stroke:#333333;\" x=\"251.984501\" xlink:href=\"#mba71743879\" y=\"73.376714\"/>\n",
       "     <use style=\"fill:#4c72b0;stroke:#333333;\" x=\"121.246502\" xlink:href=\"#mba71743879\" y=\"196.125376\"/>\n",
       "     <use style=\"fill:#4c72b0;stroke:#333333;\" x=\"116.206627\" xlink:href=\"#mba71743879\" y=\"183.195918\"/>\n",
       "     <use style=\"fill:#4c72b0;stroke:#333333;\" x=\"223.969486\" xlink:href=\"#mba71743879\" y=\"78.073873\"/>\n",
       "     <use style=\"fill:#4c72b0;stroke:#333333;\" x=\"241.79401\" xlink:href=\"#mba71743879\" y=\"79.30317\"/>\n",
       "     <use style=\"fill:#4c72b0;stroke:#333333;\" x=\"130.603435\" xlink:href=\"#mba71743879\" y=\"179.927009\"/>\n",
       "     <use style=\"fill:#4c72b0;stroke:#333333;\" x=\"221.966659\" xlink:href=\"#mba71743879\" y=\"80.212837\"/>\n",
       "     <use style=\"fill:#4c72b0;stroke:#333333;\" x=\"236.973234\" xlink:href=\"#mba71743879\" y=\"87.497904\"/>\n",
       "     <use style=\"fill:#4c72b0;stroke:#333333;\" x=\"122.43375\" xlink:href=\"#mba71743879\" y=\"174.402035\"/>\n",
       "     <use style=\"fill:#4c72b0;stroke:#333333;\" x=\"129.28265\" xlink:href=\"#mba71743879\" y=\"187.284976\"/>\n",
       "     <use style=\"fill:#4c72b0;stroke:#333333;\" x=\"112.97116\" xlink:href=\"#mba71743879\" y=\"174.182386\"/>\n",
       "     <use style=\"fill:#4c72b0;stroke:#333333;\" x=\"123.684273\" xlink:href=\"#mba71743879\" y=\"191.596441\"/>\n",
       "     <use style=\"fill:#4c72b0;stroke:#333333;\" x=\"103.64774\" xlink:href=\"#mba71743879\" y=\"177.541277\"/>\n",
       "     <use style=\"fill:#4c72b0;stroke:#333333;\" x=\"238.723917\" xlink:href=\"#mba71743879\" y=\"70.17235\"/>\n",
       "     <use style=\"fill:#4c72b0;stroke:#333333;\" x=\"131.966715\" xlink:href=\"#mba71743879\" y=\"199.434772\"/>\n",
       "     <use style=\"fill:#4c72b0;stroke:#333333;\" x=\"267.438639\" xlink:href=\"#mba71743879\" y=\"78.403612\"/>\n",
       "     <use style=\"fill:#4c72b0;stroke:#333333;\" x=\"247.133851\" xlink:href=\"#mba71743879\" y=\"73.552198\"/>\n",
       "     <use style=\"fill:#4c72b0;stroke:#333333;\" x=\"215.122377\" xlink:href=\"#mba71743879\" y=\"89.9233\"/>\n",
       "     <use style=\"fill:#4c72b0;stroke:#333333;\" x=\"105.862077\" xlink:href=\"#mba71743879\" y=\"196.692938\"/>\n",
       "     <use style=\"fill:#4c72b0;stroke:#333333;\" x=\"132.156671\" xlink:href=\"#mba71743879\" y=\"190.294351\"/>\n",
       "     <use style=\"fill:#4c72b0;stroke:#333333;\" x=\"99.891733\" xlink:href=\"#mba71743879\" y=\"192.81019\"/>\n",
       "     <use style=\"fill:#4c72b0;stroke:#333333;\" x=\"113.254931\" xlink:href=\"#mba71743879\" y=\"189.278653\"/>\n",
       "     <use style=\"fill:#4c72b0;stroke:#333333;\" x=\"99.059852\" xlink:href=\"#mba71743879\" y=\"178.25561\"/>\n",
       "     <use style=\"fill:#4c72b0;stroke:#333333;\" x=\"116.775983\" xlink:href=\"#mba71743879\" y=\"189.528846\"/>\n",
       "     <use style=\"fill:#4c72b0;stroke:#333333;\" x=\"249.175975\" xlink:href=\"#mba71743879\" y=\"81.299103\"/>\n",
       "     <use style=\"fill:#4c72b0;stroke:#333333;\" x=\"244.223573\" xlink:href=\"#mba71743879\" y=\"81.528632\"/>\n",
       "     <use style=\"fill:#4c72b0;stroke:#333333;\" x=\"226.959795\" xlink:href=\"#mba71743879\" y=\"77.836943\"/>\n",
       "     <use style=\"fill:#4c72b0;stroke:#333333;\" x=\"221.501236\" xlink:href=\"#mba71743879\" y=\"72.673519\"/>\n",
       "     <use style=\"fill:#4c72b0;stroke:#333333;\" x=\"224.004894\" xlink:href=\"#mba71743879\" y=\"79.113909\"/>\n",
       "     <use style=\"fill:#4c72b0;stroke:#333333;\" x=\"118.688345\" xlink:href=\"#mba71743879\" y=\"182.276997\"/>\n",
       "     <use style=\"fill:#4c72b0;stroke:#333333;\" x=\"223.765632\" xlink:href=\"#mba71743879\" y=\"87.631694\"/>\n",
       "     <use style=\"fill:#4c72b0;stroke:#333333;\" x=\"239.721066\" xlink:href=\"#mba71743879\" y=\"78.021293\"/>\n",
       "     <use style=\"fill:#4c72b0;stroke:#333333;\" x=\"109.846484\" xlink:href=\"#mba71743879\" y=\"188.148493\"/>\n",
       "     <use style=\"fill:#4c72b0;stroke:#333333;\" x=\"230.344776\" xlink:href=\"#mba71743879\" y=\"76.877145\"/>\n",
       "     <use style=\"fill:#4c72b0;stroke:#333333;\" x=\"232.985451\" xlink:href=\"#mba71743879\" y=\"90.995426\"/>\n",
       "     <use style=\"fill:#4c72b0;stroke:#333333;\" x=\"226.597862\" xlink:href=\"#mba71743879\" y=\"71.561722\"/>\n",
       "     <use style=\"fill:#4c72b0;stroke:#333333;\" x=\"228.136687\" xlink:href=\"#mba71743879\" y=\"75.177773\"/>\n",
       "     <use style=\"fill:#4c72b0;stroke:#333333;\" x=\"220.07868\" xlink:href=\"#mba71743879\" y=\"62.808089\"/>\n",
       "     <use style=\"fill:#4c72b0;stroke:#333333;\" x=\"216.119643\" xlink:href=\"#mba71743879\" y=\"78.885818\"/>\n",
       "     <use style=\"fill:#4c72b0;stroke:#333333;\" x=\"238.934666\" xlink:href=\"#mba71743879\" y=\"86.597769\"/>\n",
       "     <use style=\"fill:#4c72b0;stroke:#333333;\" x=\"104.793101\" xlink:href=\"#mba71743879\" y=\"200.076435\"/>\n",
       "     <use style=\"fill:#4c72b0;stroke:#333333;\" x=\"197.387371\" xlink:href=\"#mba71743879\" y=\"64.271361\"/>\n",
       "     <use style=\"fill:#4c72b0;stroke:#333333;\" x=\"237.858496\" xlink:href=\"#mba71743879\" y=\"69.500196\"/>\n",
       "     <use style=\"fill:#4c72b0;stroke:#333333;\" x=\"247.819082\" xlink:href=\"#mba71743879\" y=\"73.565988\"/>\n",
       "     <use style=\"fill:#4c72b0;stroke:#333333;\" x=\"215.55521\" xlink:href=\"#mba71743879\" y=\"72.133108\"/>\n",
       "     <use style=\"fill:#4c72b0;stroke:#333333;\" x=\"111.907889\" xlink:href=\"#mba71743879\" y=\"182.482236\"/>\n",
       "     <use style=\"fill:#4c72b0;stroke:#333333;\" x=\"109.613844\" xlink:href=\"#mba71743879\" y=\"195.237371\"/>\n",
       "     <use style=\"fill:#4c72b0;stroke:#333333;\" x=\"104.523494\" xlink:href=\"#mba71743879\" y=\"196.672227\"/>\n",
       "     <use style=\"fill:#4c72b0;stroke:#333333;\" x=\"221.877692\" xlink:href=\"#mba71743879\" y=\"81.975651\"/>\n",
       "     <use style=\"fill:#4c72b0;stroke:#333333;\" x=\"240.446721\" xlink:href=\"#mba71743879\" y=\"95.941205\"/>\n",
       "     <use style=\"fill:#4c72b0;stroke:#333333;\" x=\"231.349572\" xlink:href=\"#mba71743879\" y=\"70.04758\"/>\n",
       "     <use style=\"fill:#4c72b0;stroke:#333333;\" x=\"210.574787\" xlink:href=\"#mba71743879\" y=\"55.166267\"/>\n",
       "     <use style=\"fill:#4c72b0;stroke:#333333;\" x=\"127.793122\" xlink:href=\"#mba71743879\" y=\"171.726774\"/>\n",
       "     <use style=\"fill:#4c72b0;stroke:#333333;\" x=\"122.963945\" xlink:href=\"#mba71743879\" y=\"166.474842\"/>\n",
       "     <use style=\"fill:#4c72b0;stroke:#333333;\" x=\"223.539893\" xlink:href=\"#mba71743879\" y=\"70.018367\"/>\n",
       "     <use style=\"fill:#4c72b0;stroke:#333333;\" x=\"122.538791\" xlink:href=\"#mba71743879\" y=\"180.584828\"/>\n",
       "     <use style=\"fill:#4c72b0;stroke:#333333;\" x=\"112.032623\" xlink:href=\"#mba71743879\" y=\"178.572977\"/>\n",
       "     <use style=\"fill:#4c72b0;stroke:#333333;\" x=\"231.717972\" xlink:href=\"#mba71743879\" y=\"76.780247\"/>\n",
       "     <use style=\"fill:#4c72b0;stroke:#333333;\" x=\"245.600593\" xlink:href=\"#mba71743879\" y=\"79.90574\"/>\n",
       "     <use style=\"fill:#4c72b0;stroke:#333333;\" x=\"124.979481\" xlink:href=\"#mba71743879\" y=\"173.768609\"/>\n",
       "     <use style=\"fill:#4c72b0;stroke:#333333;\" x=\"118.813174\" xlink:href=\"#mba71743879\" y=\"187.553995\"/>\n",
       "     <use style=\"fill:#4c72b0;stroke:#333333;\" x=\"148.898748\" xlink:href=\"#mba71743879\" y=\"198.929754\"/>\n",
       "     <use style=\"fill:#4c72b0;stroke:#333333;\" x=\"124.591632\" xlink:href=\"#mba71743879\" y=\"180.877972\"/>\n",
       "     <use style=\"fill:#4c72b0;stroke:#333333;\" x=\"223.310539\" xlink:href=\"#mba71743879\" y=\"79.063519\"/>\n",
       "     <use style=\"fill:#4c72b0;stroke:#333333;\" x=\"124.146491\" xlink:href=\"#mba71743879\" y=\"192.053178\"/>\n",
       "    </g>\n",
       "   </g>\n",
       "   <g id=\"PathCollection_2\">\n",
       "    <defs>\n",
       "     <path d=\"M 0 3 \n",
       "C 0.795609 3 1.55874 2.683901 2.12132 2.12132 \n",
       "C 2.683901 1.55874 3 0.795609 3 0 \n",
       "C 3 -0.795609 2.683901 -1.55874 2.12132 -2.12132 \n",
       "C 1.55874 -2.683901 0.795609 -3 0 -3 \n",
       "C -0.795609 -3 -1.55874 -2.683901 -2.12132 -2.12132 \n",
       "C -2.683901 -1.55874 -3 -0.795609 -3 0 \n",
       "C -3 0.795609 -2.683901 1.55874 -2.12132 2.12132 \n",
       "C -1.55874 2.683901 -0.795609 3 0 3 \n",
       "z\n",
       "\" id=\"mca25408230\" style=\"stroke:#333333;\"/>\n",
       "    </defs>\n",
       "    <g clip-path=\"url(#p1da16a6b96)\">\n",
       "     <use style=\"fill:#dd8452;stroke:#333333;\" x=\"132.534517\" xlink:href=\"#mca25408230\" y=\"83.533443\"/>\n",
       "     <use style=\"fill:#dd8452;stroke:#333333;\" x=\"224.82354\" xlink:href=\"#mca25408230\" y=\"189.324889\"/>\n",
       "     <use style=\"fill:#dd8452;stroke:#333333;\" x=\"250.027826\" xlink:href=\"#mca25408230\" y=\"167.934464\"/>\n",
       "     <use style=\"fill:#dd8452;stroke:#333333;\" x=\"228.797028\" xlink:href=\"#mca25408230\" y=\"179.377101\"/>\n",
       "     <use style=\"fill:#dd8452;stroke:#333333;\" x=\"247.937424\" xlink:href=\"#mca25408230\" y=\"202.1283\"/>\n",
       "     <use style=\"fill:#dd8452;stroke:#333333;\" x=\"227.272116\" xlink:href=\"#mca25408230\" y=\"207.591031\"/>\n",
       "     <use style=\"fill:#dd8452;stroke:#333333;\" x=\"230.560139\" xlink:href=\"#mca25408230\" y=\"178.90558\"/>\n",
       "     <use style=\"fill:#dd8452;stroke:#333333;\" x=\"206.311563\" xlink:href=\"#mca25408230\" y=\"157.241109\"/>\n",
       "     <use style=\"fill:#dd8452;stroke:#333333;\" x=\"120.111383\" xlink:href=\"#mca25408230\" y=\"73.342446\"/>\n",
       "     <use style=\"fill:#dd8452;stroke:#333333;\" x=\"119.791076\" xlink:href=\"#mca25408230\" y=\"66.371508\"/>\n",
       "     <use style=\"fill:#dd8452;stroke:#333333;\" x=\"238.503939\" xlink:href=\"#mca25408230\" y=\"188.96273\"/>\n",
       "     <use style=\"fill:#dd8452;stroke:#333333;\" x=\"226.153553\" xlink:href=\"#mca25408230\" y=\"167.011446\"/>\n",
       "     <use style=\"fill:#dd8452;stroke:#333333;\" x=\"127.961578\" xlink:href=\"#mca25408230\" y=\"80.668345\"/>\n",
       "     <use style=\"fill:#dd8452;stroke:#333333;\" x=\"116.846832\" xlink:href=\"#mca25408230\" y=\"75.891479\"/>\n",
       "     <use style=\"fill:#dd8452;stroke:#333333;\" x=\"104.685189\" xlink:href=\"#mca25408230\" y=\"80.851884\"/>\n",
       "     <use style=\"fill:#dd8452;stroke:#333333;\" x=\"234.555867\" xlink:href=\"#mca25408230\" y=\"182.203023\"/>\n",
       "     <use style=\"fill:#dd8452;stroke:#333333;\" x=\"207.698426\" xlink:href=\"#mca25408230\" y=\"172.815667\"/>\n",
       "     <use style=\"fill:#dd8452;stroke:#333333;\" x=\"132.221154\" xlink:href=\"#mca25408230\" y=\"86.428104\"/>\n",
       "     <use style=\"fill:#dd8452;stroke:#333333;\" x=\"234.681091\" xlink:href=\"#mca25408230\" y=\"196.941093\"/>\n",
       "     <use style=\"fill:#dd8452;stroke:#333333;\" x=\"120.524437\" xlink:href=\"#mca25408230\" y=\"86.827214\"/>\n",
       "     <use style=\"fill:#dd8452;stroke:#333333;\" x=\"243.739643\" xlink:href=\"#mca25408230\" y=\"176.880056\"/>\n",
       "     <use style=\"fill:#dd8452;stroke:#333333;\" x=\"124.439913\" xlink:href=\"#mca25408230\" y=\"58.854223\"/>\n",
       "     <use style=\"fill:#dd8452;stroke:#333333;\" x=\"117.856371\" xlink:href=\"#mca25408230\" y=\"92.96779\"/>\n",
       "     <use style=\"fill:#dd8452;stroke:#333333;\" x=\"222.630959\" xlink:href=\"#mca25408230\" y=\"194.362258\"/>\n",
       "     <use style=\"fill:#dd8452;stroke:#333333;\" x=\"112.237729\" xlink:href=\"#mca25408230\" y=\"82.020221\"/>\n",
       "     <use style=\"fill:#dd8452;stroke:#333333;\" x=\"228.391923\" xlink:href=\"#mca25408230\" y=\"214.326134\"/>\n",
       "     <use style=\"fill:#dd8452;stroke:#333333;\" x=\"231.696277\" xlink:href=\"#mca25408230\" y=\"177.796549\"/>\n",
       "     <use style=\"fill:#dd8452;stroke:#333333;\" x=\"146.366975\" xlink:href=\"#mca25408230\" y=\"67.530625\"/>\n",
       "     <use style=\"fill:#dd8452;stroke:#333333;\" x=\"226.069608\" xlink:href=\"#mca25408230\" y=\"181.001473\"/>\n",
       "     <use style=\"fill:#dd8452;stroke:#333333;\" x=\"111.000077\" xlink:href=\"#mca25408230\" y=\"35.70024\"/>\n",
       "     <use style=\"fill:#dd8452;stroke:#333333;\" x=\"139.341409\" xlink:href=\"#mca25408230\" y=\"71.177147\"/>\n",
       "     <use style=\"fill:#dd8452;stroke:#333333;\" x=\"242.639393\" xlink:href=\"#mca25408230\" y=\"174.800886\"/>\n",
       "     <use style=\"fill:#dd8452;stroke:#333333;\" x=\"119.635672\" xlink:href=\"#mca25408230\" y=\"74.422647\"/>\n",
       "     <use style=\"fill:#dd8452;stroke:#333333;\" x=\"130.413227\" xlink:href=\"#mca25408230\" y=\"61.514197\"/>\n",
       "     <use style=\"fill:#dd8452;stroke:#333333;\" x=\"111.119757\" xlink:href=\"#mca25408230\" y=\"91.585508\"/>\n",
       "     <use style=\"fill:#dd8452;stroke:#333333;\" x=\"108.300851\" xlink:href=\"#mca25408230\" y=\"71.824131\"/>\n",
       "     <use style=\"fill:#dd8452;stroke:#333333;\" x=\"230.669888\" xlink:href=\"#mca25408230\" y=\"185.950597\"/>\n",
       "     <use style=\"fill:#dd8452;stroke:#333333;\" x=\"126.823597\" xlink:href=\"#mca25408230\" y=\"78.156567\"/>\n",
       "     <use style=\"fill:#dd8452;stroke:#333333;\" x=\"142.323314\" xlink:href=\"#mca25408230\" y=\"93.58076\"/>\n",
       "     <use style=\"fill:#dd8452;stroke:#333333;\" x=\"237.431554\" xlink:href=\"#mca25408230\" y=\"167.733676\"/>\n",
       "     <use style=\"fill:#dd8452;stroke:#333333;\" x=\"241.406843\" xlink:href=\"#mca25408230\" y=\"176.134841\"/>\n",
       "     <use style=\"fill:#dd8452;stroke:#333333;\" x=\"130.533128\" xlink:href=\"#mca25408230\" y=\"79.529744\"/>\n",
       "     <use style=\"fill:#dd8452;stroke:#333333;\" x=\"136.506333\" xlink:href=\"#mca25408230\" y=\"95.355523\"/>\n",
       "     <use style=\"fill:#dd8452;stroke:#333333;\" x=\"122.707567\" xlink:href=\"#mca25408230\" y=\"60.02748\"/>\n",
       "     <use style=\"fill:#dd8452;stroke:#333333;\" x=\"235.63529\" xlink:href=\"#mca25408230\" y=\"188.852898\"/>\n",
       "     <use style=\"fill:#dd8452;stroke:#333333;\" x=\"130.134771\" xlink:href=\"#mca25408230\" y=\"70.760235\"/>\n",
       "     <use style=\"fill:#dd8452;stroke:#333333;\" x=\"247.774602\" xlink:href=\"#mca25408230\" y=\"178.408928\"/>\n",
       "     <use style=\"fill:#dd8452;stroke:#333333;\" x=\"228.08305\" xlink:href=\"#mca25408230\" y=\"183.944564\"/>\n",
       "     <use style=\"fill:#dd8452;stroke:#333333;\" x=\"130.420166\" xlink:href=\"#mca25408230\" y=\"69.539298\"/>\n",
       "     <use style=\"fill:#dd8452;stroke:#333333;\" x=\"216.406023\" xlink:href=\"#mca25408230\" y=\"173.005386\"/>\n",
       "     <use style=\"fill:#dd8452;stroke:#333333;\" x=\"107.020985\" xlink:href=\"#mca25408230\" y=\"68.114466\"/>\n",
       "     <use style=\"fill:#dd8452;stroke:#333333;\" x=\"117.277706\" xlink:href=\"#mca25408230\" y=\"85.711515\"/>\n",
       "     <use style=\"fill:#dd8452;stroke:#333333;\" x=\"113.466532\" xlink:href=\"#mca25408230\" y=\"73.756273\"/>\n",
       "     <use style=\"fill:#dd8452;stroke:#333333;\" x=\"244.707736\" xlink:href=\"#mca25408230\" y=\"181.562048\"/>\n",
       "     <use style=\"fill:#dd8452;stroke:#333333;\" x=\"241.431818\" xlink:href=\"#mca25408230\" y=\"182.319977\"/>\n",
       "     <use style=\"fill:#dd8452;stroke:#333333;\" x=\"238.352224\" xlink:href=\"#mca25408230\" y=\"179.781752\"/>\n",
       "     <use style=\"fill:#dd8452;stroke:#333333;\" x=\"210.302482\" xlink:href=\"#mca25408230\" y=\"176.783183\"/>\n",
       "     <use style=\"fill:#dd8452;stroke:#333333;\" x=\"114.857416\" xlink:href=\"#mca25408230\" y=\"85.249404\"/>\n",
       "     <use style=\"fill:#dd8452;stroke:#333333;\" x=\"209.799792\" xlink:href=\"#mca25408230\" y=\"194.211525\"/>\n",
       "     <use style=\"fill:#dd8452;stroke:#333333;\" x=\"121.439939\" xlink:href=\"#mca25408230\" y=\"76.476059\"/>\n",
       "     <use style=\"fill:#dd8452;stroke:#333333;\" x=\"117.658665\" xlink:href=\"#mca25408230\" y=\"70.582509\"/>\n",
       "     <use style=\"fill:#dd8452;stroke:#333333;\" x=\"132.122656\" xlink:href=\"#mca25408230\" y=\"68.735647\"/>\n",
       "     <use style=\"fill:#dd8452;stroke:#333333;\" x=\"225.588219\" xlink:href=\"#mca25408230\" y=\"181.44439\"/>\n",
       "     <use style=\"fill:#dd8452;stroke:#333333;\" x=\"119.471003\" xlink:href=\"#mca25408230\" y=\"84.514256\"/>\n",
       "     <use style=\"fill:#dd8452;stroke:#333333;\" x=\"121.081912\" xlink:href=\"#mca25408230\" y=\"85.295381\"/>\n",
       "     <use style=\"fill:#dd8452;stroke:#333333;\" x=\"210.347571\" xlink:href=\"#mca25408230\" y=\"178.008457\"/>\n",
       "     <use style=\"fill:#dd8452;stroke:#333333;\" x=\"104.774755\" xlink:href=\"#mca25408230\" y=\"77.166617\"/>\n",
       "     <use style=\"fill:#dd8452;stroke:#333333;\" x=\"98.295823\" xlink:href=\"#mca25408230\" y=\"84.814867\"/>\n",
       "     <use style=\"fill:#dd8452;stroke:#333333;\" x=\"236.528484\" xlink:href=\"#mca25408230\" y=\"185.920603\"/>\n",
       "     <use style=\"fill:#dd8452;stroke:#333333;\" x=\"220.677316\" xlink:href=\"#mca25408230\" y=\"179.669767\"/>\n",
       "     <use style=\"fill:#dd8452;stroke:#333333;\" x=\"212.476899\" xlink:href=\"#mca25408230\" y=\"201.180864\"/>\n",
       "     <use style=\"fill:#dd8452;stroke:#333333;\" x=\"127.125877\" xlink:href=\"#mca25408230\" y=\"78.532122\"/>\n",
       "     <use style=\"fill:#dd8452;stroke:#333333;\" x=\"252.209054\" xlink:href=\"#mca25408230\" y=\"175.424105\"/>\n",
       "     <use style=\"fill:#dd8452;stroke:#333333;\" x=\"225.342644\" xlink:href=\"#mca25408230\" y=\"176.220465\"/>\n",
       "     <use style=\"fill:#dd8452;stroke:#333333;\" x=\"101.908724\" xlink:href=\"#mca25408230\" y=\"80.525585\"/>\n",
       "     <use style=\"fill:#dd8452;stroke:#333333;\" x=\"117.20237\" xlink:href=\"#mca25408230\" y=\"66.281783\"/>\n",
       "     <use style=\"fill:#dd8452;stroke:#333333;\" x=\"218.297767\" xlink:href=\"#mca25408230\" y=\"186.668016\"/>\n",
       "     <use style=\"fill:#dd8452;stroke:#333333;\" x=\"114.336516\" xlink:href=\"#mca25408230\" y=\"61.024267\"/>\n",
       "     <use style=\"fill:#dd8452;stroke:#333333;\" x=\"210.505766\" xlink:href=\"#mca25408230\" y=\"178.495579\"/>\n",
       "     <use style=\"fill:#dd8452;stroke:#333333;\" x=\"239.388839\" xlink:href=\"#mca25408230\" y=\"186.739678\"/>\n",
       "     <use style=\"fill:#dd8452;stroke:#333333;\" x=\"113.769208\" xlink:href=\"#mca25408230\" y=\"88.569109\"/>\n",
       "     <use style=\"fill:#dd8452;stroke:#333333;\" x=\"116.639162\" xlink:href=\"#mca25408230\" y=\"61.685249\"/>\n",
       "     <use style=\"fill:#dd8452;stroke:#333333;\" x=\"224.809562\" xlink:href=\"#mca25408230\" y=\"177.570285\"/>\n",
       "     <use style=\"fill:#dd8452;stroke:#333333;\" x=\"227.568126\" xlink:href=\"#mca25408230\" y=\"191.151228\"/>\n",
       "     <use style=\"fill:#dd8452;stroke:#333333;\" x=\"128.583959\" xlink:href=\"#mca25408230\" y=\"87.466844\"/>\n",
       "     <use style=\"fill:#dd8452;stroke:#333333;\" x=\"227.96327\" xlink:href=\"#mca25408230\" y=\"196.721226\"/>\n",
       "     <use style=\"fill:#dd8452;stroke:#333333;\" x=\"242.007365\" xlink:href=\"#mca25408230\" y=\"174.139791\"/>\n",
       "     <use style=\"fill:#dd8452;stroke:#333333;\" x=\"127.867478\" xlink:href=\"#mca25408230\" y=\"77.980849\"/>\n",
       "     <use style=\"fill:#dd8452;stroke:#333333;\" x=\"130.907249\" xlink:href=\"#mca25408230\" y=\"74.703227\"/>\n",
       "     <use style=\"fill:#dd8452;stroke:#333333;\" x=\"226.068973\" xlink:href=\"#mca25408230\" y=\"200.59107\"/>\n",
       "     <use style=\"fill:#dd8452;stroke:#333333;\" x=\"102.663419\" xlink:href=\"#mca25408230\" y=\"78.874011\"/>\n",
       "     <use style=\"fill:#dd8452;stroke:#333333;\" x=\"103.842731\" xlink:href=\"#mca25408230\" y=\"77.467759\"/>\n",
       "     <use style=\"fill:#dd8452;stroke:#333333;\" x=\"122.54141\" xlink:href=\"#mca25408230\" y=\"73.30827\"/>\n",
       "     <use style=\"fill:#dd8452;stroke:#333333;\" x=\"126.371015\" xlink:href=\"#mca25408230\" y=\"74.251828\"/>\n",
       "     <use style=\"fill:#dd8452;stroke:#333333;\" x=\"125.741812\" xlink:href=\"#mca25408230\" y=\"72.905446\"/>\n",
       "     <use style=\"fill:#dd8452;stroke:#333333;\" x=\"223.420392\" xlink:href=\"#mca25408230\" y=\"178.689042\"/>\n",
       "     <use style=\"fill:#dd8452;stroke:#333333;\" x=\"233.997998\" xlink:href=\"#mca25408230\" y=\"166.19791\"/>\n",
       "     <use style=\"fill:#dd8452;stroke:#333333;\" x=\"108.358929\" xlink:href=\"#mca25408230\" y=\"61.576653\"/>\n",
       "     <use style=\"fill:#dd8452;stroke:#333333;\" x=\"212.675816\" xlink:href=\"#mca25408230\" y=\"184.242278\"/>\n",
       "     <use style=\"fill:#dd8452;stroke:#333333;\" x=\"126.715615\" xlink:href=\"#mca25408230\" y=\"67.843308\"/>\n",
       "     <use style=\"fill:#dd8452;stroke:#333333;\" x=\"121.360084\" xlink:href=\"#mca25408230\" y=\"76.237444\"/>\n",
       "     <use style=\"fill:#dd8452;stroke:#333333;\" x=\"232.611828\" xlink:href=\"#mca25408230\" y=\"188.502176\"/>\n",
       "     <use style=\"fill:#dd8452;stroke:#333333;\" x=\"237.810193\" xlink:href=\"#mca25408230\" y=\"173.132763\"/>\n",
       "     <use style=\"fill:#dd8452;stroke:#333333;\" x=\"216.367298\" xlink:href=\"#mca25408230\" y=\"200.699536\"/>\n",
       "     <use style=\"fill:#dd8452;stroke:#333333;\" x=\"218.186003\" xlink:href=\"#mca25408230\" y=\"192.031913\"/>\n",
       "    </g>\n",
       "   </g>\n",
       "   <g id=\"patch_3\">\n",
       "    <path d=\"M 66.023594 239.758125 \n",
       "L 66.023594 22.318125 \n",
       "\" style=\"fill:none;stroke:#ffffff;stroke-linecap:square;stroke-linejoin:miter;stroke-width:1.25;\"/>\n",
       "   </g>\n",
       "   <g id=\"patch_4\">\n",
       "    <path d=\"M 283.463594 239.758125 \n",
       "L 283.463594 22.318125 \n",
       "\" style=\"fill:none;stroke:#ffffff;stroke-linecap:square;stroke-linejoin:miter;stroke-width:1.25;\"/>\n",
       "   </g>\n",
       "   <g id=\"patch_5\">\n",
       "    <path d=\"M 66.023594 239.758125 \n",
       "L 283.463594 239.758125 \n",
       "\" style=\"fill:none;stroke:#ffffff;stroke-linecap:square;stroke-linejoin:miter;stroke-width:1.25;\"/>\n",
       "   </g>\n",
       "   <g id=\"patch_6\">\n",
       "    <path d=\"M 66.023594 22.318125 \n",
       "L 283.463594 22.318125 \n",
       "\" style=\"fill:none;stroke:#ffffff;stroke-linecap:square;stroke-linejoin:miter;stroke-width:1.25;\"/>\n",
       "   </g>\n",
       "   <g id=\"text_17\">\n",
       "    <!-- Dataset samples -->\n",
       "    <g style=\"fill:#262626;\" transform=\"translate(124.400781 16.318125)scale(0.12 -0.12)\">\n",
       "     <defs>\n",
       "      <path d=\"M 1259 4147 \n",
       "L 1259 519 \n",
       "L 2022 519 \n",
       "Q 2988 519 3436 956 \n",
       "Q 3884 1394 3884 2338 \n",
       "Q 3884 3275 3436 3711 \n",
       "Q 2988 4147 2022 4147 \n",
       "L 1259 4147 \n",
       "z\n",
       "M 628 4666 \n",
       "L 1925 4666 \n",
       "Q 3281 4666 3915 4102 \n",
       "Q 4550 3538 4550 2338 \n",
       "Q 4550 1131 3912 565 \n",
       "Q 3275 0 1925 0 \n",
       "L 628 0 \n",
       "L 628 4666 \n",
       "z\n",
       "\" id=\"DejaVuSans-44\" transform=\"scale(0.015625)\"/>\n",
       "      <path d=\"M 2194 1759 \n",
       "Q 1497 1759 1228 1600 \n",
       "Q 959 1441 959 1056 \n",
       "Q 959 750 1161 570 \n",
       "Q 1363 391 1709 391 \n",
       "Q 2188 391 2477 730 \n",
       "Q 2766 1069 2766 1631 \n",
       "L 2766 1759 \n",
       "L 2194 1759 \n",
       "z\n",
       "M 3341 1997 \n",
       "L 3341 0 \n",
       "L 2766 0 \n",
       "L 2766 531 \n",
       "Q 2569 213 2275 61 \n",
       "Q 1981 -91 1556 -91 \n",
       "Q 1019 -91 701 211 \n",
       "Q 384 513 384 1019 \n",
       "Q 384 1609 779 1909 \n",
       "Q 1175 2209 1959 2209 \n",
       "L 2766 2209 \n",
       "L 2766 2266 \n",
       "Q 2766 2663 2505 2880 \n",
       "Q 2244 3097 1772 3097 \n",
       "Q 1472 3097 1187 3025 \n",
       "Q 903 2953 641 2809 \n",
       "L 641 3341 \n",
       "Q 956 3463 1253 3523 \n",
       "Q 1550 3584 1831 3584 \n",
       "Q 2591 3584 2966 3190 \n",
       "Q 3341 2797 3341 1997 \n",
       "z\n",
       "\" id=\"DejaVuSans-61\" transform=\"scale(0.015625)\"/>\n",
       "      <path d=\"M 1172 4494 \n",
       "L 1172 3500 \n",
       "L 2356 3500 \n",
       "L 2356 3053 \n",
       "L 1172 3053 \n",
       "L 1172 1153 \n",
       "Q 1172 725 1289 603 \n",
       "Q 1406 481 1766 481 \n",
       "L 2356 481 \n",
       "L 2356 0 \n",
       "L 1766 0 \n",
       "Q 1100 0 847 248 \n",
       "Q 594 497 594 1153 \n",
       "L 594 3053 \n",
       "L 172 3053 \n",
       "L 172 3500 \n",
       "L 594 3500 \n",
       "L 594 4494 \n",
       "L 1172 4494 \n",
       "z\n",
       "\" id=\"DejaVuSans-74\" transform=\"scale(0.015625)\"/>\n",
       "      <path d=\"M 2834 3397 \n",
       "L 2834 2853 \n",
       "Q 2591 2978 2328 3040 \n",
       "Q 2066 3103 1784 3103 \n",
       "Q 1356 3103 1142 2972 \n",
       "Q 928 2841 928 2578 \n",
       "Q 928 2378 1081 2264 \n",
       "Q 1234 2150 1697 2047 \n",
       "L 1894 2003 \n",
       "Q 2506 1872 2764 1633 \n",
       "Q 3022 1394 3022 966 \n",
       "Q 3022 478 2636 193 \n",
       "Q 2250 -91 1575 -91 \n",
       "Q 1294 -91 989 -36 \n",
       "Q 684 19 347 128 \n",
       "L 347 722 \n",
       "Q 666 556 975 473 \n",
       "Q 1284 391 1588 391 \n",
       "Q 1994 391 2212 530 \n",
       "Q 2431 669 2431 922 \n",
       "Q 2431 1156 2273 1281 \n",
       "Q 2116 1406 1581 1522 \n",
       "L 1381 1569 \n",
       "Q 847 1681 609 1914 \n",
       "Q 372 2147 372 2553 \n",
       "Q 372 3047 722 3315 \n",
       "Q 1072 3584 1716 3584 \n",
       "Q 2034 3584 2315 3537 \n",
       "Q 2597 3491 2834 3397 \n",
       "z\n",
       "\" id=\"DejaVuSans-73\" transform=\"scale(0.015625)\"/>\n",
       "      <path d=\"M 3597 1894 \n",
       "L 3597 1613 \n",
       "L 953 1613 \n",
       "Q 991 1019 1311 708 \n",
       "Q 1631 397 2203 397 \n",
       "Q 2534 397 2845 478 \n",
       "Q 3156 559 3463 722 \n",
       "L 3463 178 \n",
       "Q 3153 47 2828 -22 \n",
       "Q 2503 -91 2169 -91 \n",
       "Q 1331 -91 842 396 \n",
       "Q 353 884 353 1716 \n",
       "Q 353 2575 817 3079 \n",
       "Q 1281 3584 2069 3584 \n",
       "Q 2775 3584 3186 3129 \n",
       "Q 3597 2675 3597 1894 \n",
       "z\n",
       "M 3022 2063 \n",
       "Q 3016 2534 2758 2815 \n",
       "Q 2500 3097 2075 3097 \n",
       "Q 1594 3097 1305 2825 \n",
       "Q 1016 2553 972 2059 \n",
       "L 3022 2063 \n",
       "z\n",
       "\" id=\"DejaVuSans-65\" transform=\"scale(0.015625)\"/>\n",
       "      <path id=\"DejaVuSans-20\" transform=\"scale(0.015625)\"/>\n",
       "      <path d=\"M 3328 2828 \n",
       "Q 3544 3216 3844 3400 \n",
       "Q 4144 3584 4550 3584 \n",
       "Q 5097 3584 5394 3201 \n",
       "Q 5691 2819 5691 2113 \n",
       "L 5691 0 \n",
       "L 5113 0 \n",
       "L 5113 2094 \n",
       "Q 5113 2597 4934 2840 \n",
       "Q 4756 3084 4391 3084 \n",
       "Q 3944 3084 3684 2787 \n",
       "Q 3425 2491 3425 1978 \n",
       "L 3425 0 \n",
       "L 2847 0 \n",
       "L 2847 2094 \n",
       "Q 2847 2600 2669 2842 \n",
       "Q 2491 3084 2119 3084 \n",
       "Q 1678 3084 1418 2786 \n",
       "Q 1159 2488 1159 1978 \n",
       "L 1159 0 \n",
       "L 581 0 \n",
       "L 581 3500 \n",
       "L 1159 3500 \n",
       "L 1159 2956 \n",
       "Q 1356 3278 1631 3431 \n",
       "Q 1906 3584 2284 3584 \n",
       "Q 2666 3584 2933 3390 \n",
       "Q 3200 3197 3328 2828 \n",
       "z\n",
       "\" id=\"DejaVuSans-6d\" transform=\"scale(0.015625)\"/>\n",
       "      <path d=\"M 1159 525 \n",
       "L 1159 -1331 \n",
       "L 581 -1331 \n",
       "L 581 3500 \n",
       "L 1159 3500 \n",
       "L 1159 2969 \n",
       "Q 1341 3281 1617 3432 \n",
       "Q 1894 3584 2278 3584 \n",
       "Q 2916 3584 3314 3078 \n",
       "Q 3713 2572 3713 1747 \n",
       "Q 3713 922 3314 415 \n",
       "Q 2916 -91 2278 -91 \n",
       "Q 1894 -91 1617 61 \n",
       "Q 1341 213 1159 525 \n",
       "z\n",
       "M 3116 1747 \n",
       "Q 3116 2381 2855 2742 \n",
       "Q 2594 3103 2138 3103 \n",
       "Q 1681 3103 1420 2742 \n",
       "Q 1159 2381 1159 1747 \n",
       "Q 1159 1113 1420 752 \n",
       "Q 1681 391 2138 391 \n",
       "Q 2594 391 2855 752 \n",
       "Q 3116 1113 3116 1747 \n",
       "z\n",
       "\" id=\"DejaVuSans-70\" transform=\"scale(0.015625)\"/>\n",
       "      <path d=\"M 603 4863 \n",
       "L 1178 4863 \n",
       "L 1178 0 \n",
       "L 603 0 \n",
       "L 603 4863 \n",
       "z\n",
       "\" id=\"DejaVuSans-6c\" transform=\"scale(0.015625)\"/>\n",
       "     </defs>\n",
       "     <use xlink:href=\"#DejaVuSans-44\"/>\n",
       "     <use x=\"77.001953\" xlink:href=\"#DejaVuSans-61\"/>\n",
       "     <use x=\"138.28125\" xlink:href=\"#DejaVuSans-74\"/>\n",
       "     <use x=\"177.490234\" xlink:href=\"#DejaVuSans-61\"/>\n",
       "     <use x=\"238.769531\" xlink:href=\"#DejaVuSans-73\"/>\n",
       "     <use x=\"290.869141\" xlink:href=\"#DejaVuSans-65\"/>\n",
       "     <use x=\"352.392578\" xlink:href=\"#DejaVuSans-74\"/>\n",
       "     <use x=\"391.601562\" xlink:href=\"#DejaVuSans-20\"/>\n",
       "     <use x=\"423.388672\" xlink:href=\"#DejaVuSans-73\"/>\n",
       "     <use x=\"475.488281\" xlink:href=\"#DejaVuSans-61\"/>\n",
       "     <use x=\"536.767578\" xlink:href=\"#DejaVuSans-6d\"/>\n",
       "     <use x=\"634.179688\" xlink:href=\"#DejaVuSans-70\"/>\n",
       "     <use x=\"697.65625\" xlink:href=\"#DejaVuSans-6c\"/>\n",
       "     <use x=\"725.439453\" xlink:href=\"#DejaVuSans-65\"/>\n",
       "     <use x=\"786.962891\" xlink:href=\"#DejaVuSans-73\"/>\n",
       "    </g>\n",
       "   </g>\n",
       "   <g id=\"legend_1\">\n",
       "    <g id=\"patch_7\">\n",
       "     <path d=\"M 201.130312 148.834063 \n",
       "L 275.763594 148.834063 \n",
       "Q 277.963594 148.834063 277.963594 146.634063 \n",
       "L 277.963594 115.442187 \n",
       "Q 277.963594 113.242188 275.763594 113.242188 \n",
       "L 201.130312 113.242188 \n",
       "Q 198.930312 113.242188 198.930312 115.442187 \n",
       "L 198.930312 146.634063 \n",
       "Q 198.930312 148.834063 201.130312 148.834063 \n",
       "z\n",
       "\" style=\"fill:#eaeaf2;opacity:0.8;stroke:#cccccc;stroke-linejoin:miter;\"/>\n",
       "    </g>\n",
       "    <g id=\"PathCollection_3\">\n",
       "     <g>\n",
       "      <use style=\"fill:#4c72b0;stroke:#333333;\" x=\"214.330312\" xlink:href=\"#mba71743879\" y=\"123.112969\"/>\n",
       "     </g>\n",
       "    </g>\n",
       "    <g id=\"text_18\">\n",
       "     <!-- Class 0 -->\n",
       "     <g style=\"fill:#262626;\" transform=\"translate(234.130312 126.000469)scale(0.11 -0.11)\">\n",
       "      <defs>\n",
       "       <path d=\"M 4122 4306 \n",
       "L 4122 3641 \n",
       "Q 3803 3938 3442 4084 \n",
       "Q 3081 4231 2675 4231 \n",
       "Q 1875 4231 1450 3742 \n",
       "Q 1025 3253 1025 2328 \n",
       "Q 1025 1406 1450 917 \n",
       "Q 1875 428 2675 428 \n",
       "Q 3081 428 3442 575 \n",
       "Q 3803 722 4122 1019 \n",
       "L 4122 359 \n",
       "Q 3791 134 3420 21 \n",
       "Q 3050 -91 2638 -91 \n",
       "Q 1578 -91 968 557 \n",
       "Q 359 1206 359 2328 \n",
       "Q 359 3453 968 4101 \n",
       "Q 1578 4750 2638 4750 \n",
       "Q 3056 4750 3426 4639 \n",
       "Q 3797 4528 4122 4306 \n",
       "z\n",
       "\" id=\"DejaVuSans-43\" transform=\"scale(0.015625)\"/>\n",
       "      </defs>\n",
       "      <use xlink:href=\"#DejaVuSans-43\"/>\n",
       "      <use x=\"69.824219\" xlink:href=\"#DejaVuSans-6c\"/>\n",
       "      <use x=\"97.607422\" xlink:href=\"#DejaVuSans-61\"/>\n",
       "      <use x=\"158.886719\" xlink:href=\"#DejaVuSans-73\"/>\n",
       "      <use x=\"210.986328\" xlink:href=\"#DejaVuSans-73\"/>\n",
       "      <use x=\"263.085938\" xlink:href=\"#DejaVuSans-20\"/>\n",
       "      <use x=\"294.873047\" xlink:href=\"#DejaVuSans-30\"/>\n",
       "     </g>\n",
       "    </g>\n",
       "    <g id=\"PathCollection_4\">\n",
       "     <g>\n",
       "      <use style=\"fill:#dd8452;stroke:#333333;\" x=\"214.330312\" xlink:href=\"#mca25408230\" y=\"139.258906\"/>\n",
       "     </g>\n",
       "    </g>\n",
       "    <g id=\"text_19\">\n",
       "     <!-- Class 1 -->\n",
       "     <g style=\"fill:#262626;\" transform=\"translate(234.130312 142.146406)scale(0.11 -0.11)\">\n",
       "      <use xlink:href=\"#DejaVuSans-43\"/>\n",
       "      <use x=\"69.824219\" xlink:href=\"#DejaVuSans-6c\"/>\n",
       "      <use x=\"97.607422\" xlink:href=\"#DejaVuSans-61\"/>\n",
       "      <use x=\"158.886719\" xlink:href=\"#DejaVuSans-73\"/>\n",
       "      <use x=\"210.986328\" xlink:href=\"#DejaVuSans-73\"/>\n",
       "      <use x=\"263.085938\" xlink:href=\"#DejaVuSans-20\"/>\n",
       "      <use x=\"294.873047\" xlink:href=\"#DejaVuSans-31\"/>\n",
       "     </g>\n",
       "    </g>\n",
       "   </g>\n",
       "  </g>\n",
       " </g>\n",
       " <defs>\n",
       "  <clipPath id=\"p1da16a6b96\">\n",
       "   <rect height=\"217.44\" width=\"217.44\" x=\"66.023594\" y=\"22.318125\"/>\n",
       "  </clipPath>\n",
       " </defs>\n",
       "</svg>\n"
      ],
      "text/plain": [
       "<Figure size 2000x2000 with 1 Axes>"
      ]
     },
     "metadata": {},
     "output_type": "display_data"
    }
   ],
   "source": [
    "@torch.no_grad() # Decorator, same effect as \"with torch.no_grad(): ...\" over the whole function.\n",
    "def visualize_classification(model, data, label):\n",
    "    if isinstance(data, torch.Tensor):\n",
    "        data = data.cpu().numpy()\n",
    "    if isinstance(label, torch.Tensor):\n",
    "        label = label.cpu().numpy()\n",
    "    data_0 = data[label == 0]\n",
    "    data_1 = data[label == 1]\n",
    "    \n",
    "    fig = plt.figure(figsize=(4,4), dpi=500)\n",
    "    plt.scatter(data_0[:,0], data_0[:,1], edgecolor=\"#333\", label=\"Class 0\")\n",
    "    plt.scatter(data_1[:,0], data_1[:,1], edgecolor=\"#333\", label=\"Class 1\")\n",
    "    plt.title(\"Dataset samples\")\n",
    "    plt.ylabel(r\"$x_2$\")\n",
    "    plt.xlabel(r\"$x_1$\")\n",
    "    plt.legend()\n",
    "    \n",
    "    # Let's make use of a lot of operations we have learned above\n",
    "    model.to(device)\n",
    "    c0 = torch.Tensor(to_rgba(\"C0\")).to(device)\n",
    "    c1 = torch.Tensor(to_rgba(\"C1\")).to(device)\n",
    "    x1 = torch.arange(-0.5, 1.5, step=0.01, device=device)\n",
    "    x2 = torch.arange(-0.5, 1.5, step=0.01, device=device)\n",
    "    xx1, xx2 = torch.meshgrid(x1, x2)  # Meshgrid function as in numpy\n",
    "    model_inputs = torch.stack([xx1, xx2], dim=-1)\n",
    "    preds = model(model_inputs)\n",
    "    preds = torch.sigmoid(preds)\n",
    "    output_image = (1 - preds) * c0[None,None] + preds * c1[None,None]  # Specifying \"None\" in a dimension creates a new one\n",
    "    output_image = output_image.cpu().numpy()  # Convert to numpy array. This only works for tensors on CPU, hence first push to CPU\n",
    "    plt.imshow(output_image, origin='lower', extent=(-0.5, 1.5, -0.5, 1.5))\n",
    "    plt.grid(False)\n",
    "    return fig\n",
    "\n",
    "_ = visualize_classification(model, dataset.data, dataset.label)\n",
    "plt.show()"
   ]
  },
  {
   "cell_type": "markdown",
   "metadata": {},
   "source": [
    "The decision boundaries might not look exactly as in the figure in the preamble of this section which can be caused by running it on CPU or a different GPU architecture. Nevertheless, the result on the accuracy metric should be the approximately the same. "
   ]
  },
  {
   "cell_type": "markdown",
   "metadata": {},
   "source": [
    "## Additional features we didn't get to discuss yet\n",
    "\n",
    "Finally, you are all set to start with your own PyTorch project! In summary, we have looked at how we can build neural networks in PyTorch, and train and test them on data. However, there is still much more to PyTorch we haven't discussed yet. In the comming series of Jupyter notebooks, we will discover more and more functionalities of PyTorch, so that you also get familiar to PyTorch concepts beyond the basics. If you are already interested in learning more of PyTorch, we recommend the official [tutorial website](https://pytorch.org/tutorials/) that contains many tutorials on various topics. Especially logging with Tensorboard ([official tutorial here](https://pytorch.org/tutorials/intermediate/tensorboard_tutorial.html)) is a good practice that we will explore further from Tutorial 5 on in combination with PyTorch Lightning.\n",
    "Nonetheless, let's check it shortly out how we could use TensorBoard in our small example."
   ]
  },
  {
   "cell_type": "markdown",
   "metadata": {},
   "source": [
    "### TensorBoard logging\n",
    "\n",
    "TensorBoard is a logging and visualization tool that is a popular choice for training deep learning models. Although initially published for TensorFlow, TensorBoard is also integrated in PyTorch allowing us to easily use it. First, let's import it below."
   ]
  },
  {
   "cell_type": "code",
   "execution_count": 61,
   "metadata": {},
   "outputs": [],
   "source": [
    "# Import tensorboard logger from PyTorch\n",
    "from torch.utils.tensorboard import SummaryWriter\n",
    "\n",
    "# Load tensorboard extension for Jupyter Notebook, only need to start TB in the notebook\n",
    "%load_ext tensorboard"
   ]
  },
  {
   "cell_type": "markdown",
   "metadata": {},
   "source": [
    "The last line is required if you want to run TensorBoard directly in the Jupyter Notebook. Otherwise, you can start TensorBoard from the terminal.\n",
    "\n",
    "PyTorch's TensorBoard API is simple to use. We start the logging process by creating a new object, `writer = SummaryWriter(...)`, where we specify the directory in which the logging file should be saved. With this object, we can log different aspects of our model by calling functions of the style `writer.add_...`. For example, we can visualize the computation graph with the function `writer.add_graph`, or add a scalar value like the loss with `writer.add_scalar`. Let's adapt our initial training function with adding a TensorBoard logger below."
   ]
  },
  {
   "cell_type": "code",
   "execution_count": 62,
   "metadata": {},
   "outputs": [],
   "source": [
    "def train_model_with_logger(model, optimizer, data_loader, loss_module, val_dataset, num_epochs=100, logging_dir='runs/our_experiment'):\n",
    "    # Create TensorBoard logger\n",
    "    writer = SummaryWriter(logging_dir)\n",
    "    model_plotted = False\n",
    "    \n",
    "    # Set model to train mode\n",
    "    model.train() \n",
    "    \n",
    "    # Training loop\n",
    "    for epoch in tqdm(range(num_epochs)):\n",
    "        epoch_loss = 0.0\n",
    "        for data_inputs, data_labels in data_loader:\n",
    "            \n",
    "            ## Step 1: Move input data to device (only strictly necessary if we use GPU)\n",
    "            data_inputs = data_inputs.to(device)\n",
    "            data_labels = data_labels.to(device)\n",
    "            \n",
    "            # For the very first batch, we visualize the computation graph in TensorBoard\n",
    "            if not model_plotted:\n",
    "                writer.add_graph(model, data_inputs)\n",
    "                model_plotted = True\n",
    "            \n",
    "            ## Step 2: Run the model on the input data\n",
    "            preds = model(data_inputs)\n",
    "            preds = preds.squeeze(dim=1) # Output is [Batch size, 1], but we want [Batch size]\n",
    "            \n",
    "            ## Step 3: Calculate the loss\n",
    "            loss = loss_module(preds, data_labels.float())\n",
    "            \n",
    "            ## Step 4: Perform backpropagation\n",
    "            # Before calculating the gradients, we need to ensure that they are all zero. \n",
    "            # The gradients would not be overwritten, but actually added to the existing ones.\n",
    "            optimizer.zero_grad() \n",
    "            # Perform backpropagation\n",
    "            loss.backward()\n",
    "            \n",
    "            ## Step 5: Update the parameters\n",
    "            optimizer.step()\n",
    "            \n",
    "            ## Step 6: Take the running average of the loss\n",
    "            epoch_loss += loss.item()\n",
    "            \n",
    "        # Add average loss to TensorBoard\n",
    "        epoch_loss /= len(data_loader)\n",
    "        writer.add_scalar('training_loss',\n",
    "                          epoch_loss,\n",
    "                          global_step = epoch + 1)\n",
    "        \n",
    "        # Visualize prediction and add figure to TensorBoard\n",
    "        # Since matplotlib figures can be slow in rendering, we only do it every 10th epoch\n",
    "        if (epoch + 1) % 10 == 0:\n",
    "            fig = visualize_classification(model, val_dataset.data, val_dataset.label)\n",
    "            writer.add_figure('predictions',\n",
    "                              fig,\n",
    "                              global_step = epoch + 1)\n",
    "    \n",
    "    writer.close()"
   ]
  },
  {
   "cell_type": "markdown",
   "metadata": {},
   "source": [
    "Let's use this method to train a model as before, with a new model and optimizer."
   ]
  },
  {
   "cell_type": "code",
   "execution_count": 63,
   "metadata": {},
   "outputs": [
    {
     "data": {
      "application/vnd.jupyter.widget-view+json": {
       "model_id": "d248aef58bf9445ea6128fc742dbb9cf",
       "version_major": 2,
       "version_minor": 0
      },
      "text/plain": [
       "  0%|          | 0/100 [00:00<?, ?it/s]"
      ]
     },
     "metadata": {},
     "output_type": "display_data"
    }
   ],
   "source": [
    "model = SimpleClassifier(num_inputs=2, num_hidden=4, num_outputs=1).to(device)\n",
    "optimizer = torch.optim.SGD(model.parameters(), lr=0.1)\n",
    "train_model_with_logger(model, optimizer, train_data_loader, loss_module, val_dataset=dataset)"
   ]
  },
  {
   "cell_type": "markdown",
   "metadata": {},
   "source": [
    "The TensorBoard file in the folder `runs/our_experiment` now contains a loss curve, the computation graph of our network, and a visualization of the learned predictions over number of epochs. To start the TensorBoard visualizer, simply run the following statement:"
   ]
  },
  {
   "cell_type": "code",
   "execution_count": null,
   "metadata": {},
   "outputs": [
    {
     "data": {
      "text/plain": [
       "Launching TensorBoard..."
      ]
     },
     "metadata": {},
     "output_type": "display_data"
    }
   ],
   "source": [
    "%tensorboard --logdir runs/our_experiment"
   ]
  },
  {
   "cell_type": "markdown",
   "metadata": {},
   "source": [
    "<center><img src=\"tensorboard_screenshot.png\" width=\"1100px\"></center>\n",
    "\n",
    "TensorBoard visualizations can help to identify possible issues with your model, and identify situations such as overfitting. You can also track the training progress while a model is training, since the logger automatically writes everything added to it to the logging file. Feel free to explore the TensorBoard functionalities, and we will make use of TensorBoards a couple of times from Tutorial 5 on."
   ]
  },
  {
   "cell_type": "code",
   "execution_count": null,
   "metadata": {},
   "outputs": [],
   "source": []
  }
 ],
 "metadata": {
  "kernelspec": {
   "display_name": "Python 3 (ipykernel)",
   "language": "python",
   "name": "python3"
  },
  "language_info": {
   "codemirror_mode": {
    "name": "ipython",
    "version": 3
   },
   "file_extension": ".py",
   "mimetype": "text/x-python",
   "name": "python",
   "nbconvert_exporter": "python",
   "pygments_lexer": "ipython3",
   "version": "3.9.7"
  }
 },
 "nbformat": 4,
 "nbformat_minor": 4
}
